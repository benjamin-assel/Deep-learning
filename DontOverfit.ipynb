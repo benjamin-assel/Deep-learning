{
 "cells": [
  {
   "cell_type": "code",
   "execution_count": 983,
   "metadata": {
    "collapsed": true
   },
   "outputs": [],
   "source": [
    "# Common imports\n",
    "import numpy as np\n",
    "import os\n",
    "\n",
    "# to make this notebook's output stable across runs\n",
    "np.random.seed(42)\n",
    "\n",
    "# To plot pretty figures\n",
    "%matplotlib inline\n",
    "import matplotlib as mpl\n",
    "import matplotlib.pyplot as plt\n",
    "mpl.rc('axes', labelsize=14)\n",
    "mpl.rc('xtick', labelsize=12)\n",
    "mpl.rc('ytick', labelsize=12)\n",
    "\n",
    "# Where to save the figures\n",
    "PROJECT_ROOT_DIR = \".\"\n",
    "CHAPTER_ID = \"overfit\"\n",
    "\n",
    "def save_fig(fig_id, tight_layout=True):\n",
    "    path = os.path.join(PROJECT_ROOT_DIR, \"images\", CHAPTER_ID, fig_id + \".png\")\n",
    "    print(\"Saving figure\", fig_id)\n",
    "    if tight_layout:\n",
    "        plt.tight_layout()\n",
    "    plt.savefig(path, format='png', dpi=300)"
   ]
  },
  {
   "cell_type": "code",
   "execution_count": 984,
   "metadata": {
    "collapsed": true
   },
   "outputs": [],
   "source": [
    "import pandas as pd\n",
    "\n",
    "def load_data(data_path = \"datasets\"):\n",
    "    csv_path_train = os.path.join(data_path, \"train.csv\")\n",
    "    csv_path_test = os.path.join(data_path, \"test.csv\")\n",
    "    csv_path_sample_submission = os.path.join(data_path, \"sample_submission.csv\")\n",
    "    return pd.read_csv(csv_path_train), pd.read_csv(csv_path_test), pd.read_csv(csv_path_sample_submission)"
   ]
  },
  {
   "cell_type": "code",
   "execution_count": 985,
   "metadata": {
    "collapsed": true
   },
   "outputs": [],
   "source": [
    "train_data, test_data, sample_submission_data = load_data()"
   ]
  },
  {
   "cell_type": "code",
   "execution_count": 230,
   "metadata": {},
   "outputs": [
    {
     "name": "stdout",
     "output_type": "stream",
     "text": [
      "<class 'pandas.core.frame.DataFrame'>\n",
      "RangeIndex: 19750 entries, 0 to 19749\n",
      "Columns: 301 entries, id to 299\n",
      "dtypes: float64(300), int64(1)\n",
      "memory usage: 45.4 MB\n"
     ]
    }
   ],
   "source": [
    "test_data.info()"
   ]
  },
  {
   "cell_type": "code",
   "execution_count": 231,
   "metadata": {},
   "outputs": [
    {
     "data": {
      "text/html": [
       "<div>\n",
       "<style>\n",
       "    .dataframe thead tr:only-child th {\n",
       "        text-align: right;\n",
       "    }\n",
       "\n",
       "    .dataframe thead th {\n",
       "        text-align: left;\n",
       "    }\n",
       "\n",
       "    .dataframe tbody tr th {\n",
       "        vertical-align: top;\n",
       "    }\n",
       "</style>\n",
       "<table border=\"1\" class=\"dataframe\">\n",
       "  <thead>\n",
       "    <tr style=\"text-align: right;\">\n",
       "      <th></th>\n",
       "      <th>id</th>\n",
       "      <th>target</th>\n",
       "      <th>0</th>\n",
       "      <th>1</th>\n",
       "      <th>2</th>\n",
       "      <th>3</th>\n",
       "      <th>4</th>\n",
       "      <th>5</th>\n",
       "      <th>6</th>\n",
       "      <th>7</th>\n",
       "      <th>...</th>\n",
       "      <th>290</th>\n",
       "      <th>291</th>\n",
       "      <th>292</th>\n",
       "      <th>293</th>\n",
       "      <th>294</th>\n",
       "      <th>295</th>\n",
       "      <th>296</th>\n",
       "      <th>297</th>\n",
       "      <th>298</th>\n",
       "      <th>299</th>\n",
       "    </tr>\n",
       "  </thead>\n",
       "  <tbody>\n",
       "    <tr>\n",
       "      <th>0</th>\n",
       "      <td>0</td>\n",
       "      <td>1.0</td>\n",
       "      <td>-0.098</td>\n",
       "      <td>2.165</td>\n",
       "      <td>0.681</td>\n",
       "      <td>-0.614</td>\n",
       "      <td>1.309</td>\n",
       "      <td>-0.455</td>\n",
       "      <td>-0.236</td>\n",
       "      <td>0.276</td>\n",
       "      <td>...</td>\n",
       "      <td>0.867</td>\n",
       "      <td>1.347</td>\n",
       "      <td>0.504</td>\n",
       "      <td>-0.649</td>\n",
       "      <td>0.672</td>\n",
       "      <td>-2.097</td>\n",
       "      <td>1.051</td>\n",
       "      <td>-0.414</td>\n",
       "      <td>1.038</td>\n",
       "      <td>-1.065</td>\n",
       "    </tr>\n",
       "    <tr>\n",
       "      <th>1</th>\n",
       "      <td>1</td>\n",
       "      <td>0.0</td>\n",
       "      <td>1.081</td>\n",
       "      <td>-0.973</td>\n",
       "      <td>-0.383</td>\n",
       "      <td>0.326</td>\n",
       "      <td>-0.428</td>\n",
       "      <td>0.317</td>\n",
       "      <td>1.172</td>\n",
       "      <td>0.352</td>\n",
       "      <td>...</td>\n",
       "      <td>-0.165</td>\n",
       "      <td>-1.695</td>\n",
       "      <td>-1.257</td>\n",
       "      <td>1.359</td>\n",
       "      <td>-0.808</td>\n",
       "      <td>-1.624</td>\n",
       "      <td>-0.458</td>\n",
       "      <td>-1.099</td>\n",
       "      <td>-0.936</td>\n",
       "      <td>0.973</td>\n",
       "    </tr>\n",
       "    <tr>\n",
       "      <th>2</th>\n",
       "      <td>2</td>\n",
       "      <td>1.0</td>\n",
       "      <td>-0.523</td>\n",
       "      <td>-0.089</td>\n",
       "      <td>-0.348</td>\n",
       "      <td>0.148</td>\n",
       "      <td>-0.022</td>\n",
       "      <td>0.404</td>\n",
       "      <td>-0.023</td>\n",
       "      <td>-0.172</td>\n",
       "      <td>...</td>\n",
       "      <td>0.013</td>\n",
       "      <td>0.263</td>\n",
       "      <td>-1.222</td>\n",
       "      <td>0.726</td>\n",
       "      <td>1.444</td>\n",
       "      <td>-1.165</td>\n",
       "      <td>-1.544</td>\n",
       "      <td>0.004</td>\n",
       "      <td>0.800</td>\n",
       "      <td>-1.211</td>\n",
       "    </tr>\n",
       "  </tbody>\n",
       "</table>\n",
       "<p>3 rows × 302 columns</p>\n",
       "</div>"
      ],
      "text/plain": [
       "   id  target      0      1      2      3      4      5      6      7  ...    \\\n",
       "0   0     1.0 -0.098  2.165  0.681 -0.614  1.309 -0.455 -0.236  0.276  ...     \n",
       "1   1     0.0  1.081 -0.973 -0.383  0.326 -0.428  0.317  1.172  0.352  ...     \n",
       "2   2     1.0 -0.523 -0.089 -0.348  0.148 -0.022  0.404 -0.023 -0.172  ...     \n",
       "\n",
       "     290    291    292    293    294    295    296    297    298    299  \n",
       "0  0.867  1.347  0.504 -0.649  0.672 -2.097  1.051 -0.414  1.038 -1.065  \n",
       "1 -0.165 -1.695 -1.257  1.359 -0.808 -1.624 -0.458 -1.099 -0.936  0.973  \n",
       "2  0.013  0.263 -1.222  0.726  1.444 -1.165 -1.544  0.004  0.800 -1.211  \n",
       "\n",
       "[3 rows x 302 columns]"
      ]
     },
     "execution_count": 231,
     "metadata": {},
     "output_type": "execute_result"
    }
   ],
   "source": [
    "train_data[:3]"
   ]
  },
  {
   "cell_type": "code",
   "execution_count": 232,
   "metadata": {},
   "outputs": [
    {
     "data": {
      "text/html": [
       "<div>\n",
       "<style>\n",
       "    .dataframe thead tr:only-child th {\n",
       "        text-align: right;\n",
       "    }\n",
       "\n",
       "    .dataframe thead th {\n",
       "        text-align: left;\n",
       "    }\n",
       "\n",
       "    .dataframe tbody tr th {\n",
       "        vertical-align: top;\n",
       "    }\n",
       "</style>\n",
       "<table border=\"1\" class=\"dataframe\">\n",
       "  <thead>\n",
       "    <tr style=\"text-align: right;\">\n",
       "      <th></th>\n",
       "      <th>id</th>\n",
       "      <th>0</th>\n",
       "      <th>1</th>\n",
       "      <th>2</th>\n",
       "      <th>3</th>\n",
       "      <th>4</th>\n",
       "      <th>5</th>\n",
       "      <th>6</th>\n",
       "      <th>7</th>\n",
       "      <th>8</th>\n",
       "      <th>...</th>\n",
       "      <th>290</th>\n",
       "      <th>291</th>\n",
       "      <th>292</th>\n",
       "      <th>293</th>\n",
       "      <th>294</th>\n",
       "      <th>295</th>\n",
       "      <th>296</th>\n",
       "      <th>297</th>\n",
       "      <th>298</th>\n",
       "      <th>299</th>\n",
       "    </tr>\n",
       "  </thead>\n",
       "  <tbody>\n",
       "    <tr>\n",
       "      <th>0</th>\n",
       "      <td>250</td>\n",
       "      <td>0.500</td>\n",
       "      <td>-1.033</td>\n",
       "      <td>-1.595</td>\n",
       "      <td>0.309</td>\n",
       "      <td>-0.714</td>\n",
       "      <td>0.502</td>\n",
       "      <td>0.535</td>\n",
       "      <td>-0.129</td>\n",
       "      <td>-0.687</td>\n",
       "      <td>...</td>\n",
       "      <td>-0.088</td>\n",
       "      <td>-2.628</td>\n",
       "      <td>-0.845</td>\n",
       "      <td>2.078</td>\n",
       "      <td>-0.277</td>\n",
       "      <td>2.132</td>\n",
       "      <td>0.609</td>\n",
       "      <td>-0.104</td>\n",
       "      <td>0.312</td>\n",
       "      <td>0.979</td>\n",
       "    </tr>\n",
       "    <tr>\n",
       "      <th>1</th>\n",
       "      <td>251</td>\n",
       "      <td>0.776</td>\n",
       "      <td>0.914</td>\n",
       "      <td>-0.494</td>\n",
       "      <td>1.347</td>\n",
       "      <td>-0.867</td>\n",
       "      <td>0.480</td>\n",
       "      <td>0.578</td>\n",
       "      <td>-0.313</td>\n",
       "      <td>0.203</td>\n",
       "      <td>...</td>\n",
       "      <td>-0.683</td>\n",
       "      <td>-0.066</td>\n",
       "      <td>0.025</td>\n",
       "      <td>0.606</td>\n",
       "      <td>-0.353</td>\n",
       "      <td>-1.133</td>\n",
       "      <td>-3.138</td>\n",
       "      <td>0.281</td>\n",
       "      <td>-0.625</td>\n",
       "      <td>-0.761</td>\n",
       "    </tr>\n",
       "    <tr>\n",
       "      <th>2</th>\n",
       "      <td>252</td>\n",
       "      <td>1.750</td>\n",
       "      <td>0.509</td>\n",
       "      <td>-0.057</td>\n",
       "      <td>0.835</td>\n",
       "      <td>-0.476</td>\n",
       "      <td>1.428</td>\n",
       "      <td>-0.701</td>\n",
       "      <td>-2.009</td>\n",
       "      <td>-1.378</td>\n",
       "      <td>...</td>\n",
       "      <td>-0.094</td>\n",
       "      <td>0.351</td>\n",
       "      <td>-0.607</td>\n",
       "      <td>-0.737</td>\n",
       "      <td>-0.031</td>\n",
       "      <td>0.701</td>\n",
       "      <td>0.976</td>\n",
       "      <td>0.135</td>\n",
       "      <td>-1.327</td>\n",
       "      <td>2.463</td>\n",
       "    </tr>\n",
       "  </tbody>\n",
       "</table>\n",
       "<p>3 rows × 301 columns</p>\n",
       "</div>"
      ],
      "text/plain": [
       "    id      0      1      2      3      4      5      6      7      8  ...    \\\n",
       "0  250  0.500 -1.033 -1.595  0.309 -0.714  0.502  0.535 -0.129 -0.687  ...     \n",
       "1  251  0.776  0.914 -0.494  1.347 -0.867  0.480  0.578 -0.313  0.203  ...     \n",
       "2  252  1.750  0.509 -0.057  0.835 -0.476  1.428 -0.701 -2.009 -1.378  ...     \n",
       "\n",
       "     290    291    292    293    294    295    296    297    298    299  \n",
       "0 -0.088 -2.628 -0.845  2.078 -0.277  2.132  0.609 -0.104  0.312  0.979  \n",
       "1 -0.683 -0.066  0.025  0.606 -0.353 -1.133 -3.138  0.281 -0.625 -0.761  \n",
       "2 -0.094  0.351 -0.607 -0.737 -0.031  0.701  0.976  0.135 -1.327  2.463  \n",
       "\n",
       "[3 rows x 301 columns]"
      ]
     },
     "execution_count": 232,
     "metadata": {},
     "output_type": "execute_result"
    }
   ],
   "source": [
    "test_data[:3]"
   ]
  },
  {
   "cell_type": "code",
   "execution_count": 7,
   "metadata": {},
   "outputs": [
    {
     "data": {
      "text/html": [
       "<div>\n",
       "<style>\n",
       "    .dataframe thead tr:only-child th {\n",
       "        text-align: right;\n",
       "    }\n",
       "\n",
       "    .dataframe thead th {\n",
       "        text-align: left;\n",
       "    }\n",
       "\n",
       "    .dataframe tbody tr th {\n",
       "        vertical-align: top;\n",
       "    }\n",
       "</style>\n",
       "<table border=\"1\" class=\"dataframe\">\n",
       "  <thead>\n",
       "    <tr style=\"text-align: right;\">\n",
       "      <th></th>\n",
       "      <th>id</th>\n",
       "      <th>target</th>\n",
       "      <th>0</th>\n",
       "      <th>1</th>\n",
       "      <th>2</th>\n",
       "      <th>3</th>\n",
       "      <th>4</th>\n",
       "      <th>5</th>\n",
       "      <th>6</th>\n",
       "      <th>7</th>\n",
       "      <th>...</th>\n",
       "      <th>290</th>\n",
       "      <th>291</th>\n",
       "      <th>292</th>\n",
       "      <th>293</th>\n",
       "      <th>294</th>\n",
       "      <th>295</th>\n",
       "      <th>296</th>\n",
       "      <th>297</th>\n",
       "      <th>298</th>\n",
       "      <th>299</th>\n",
       "    </tr>\n",
       "  </thead>\n",
       "  <tbody>\n",
       "    <tr>\n",
       "      <th>count</th>\n",
       "      <td>250.000000</td>\n",
       "      <td>250.000000</td>\n",
       "      <td>250.000000</td>\n",
       "      <td>250.000000</td>\n",
       "      <td>250.000000</td>\n",
       "      <td>250.000000</td>\n",
       "      <td>250.000000</td>\n",
       "      <td>250.000000</td>\n",
       "      <td>250.000000</td>\n",
       "      <td>250.000000</td>\n",
       "      <td>...</td>\n",
       "      <td>250.000000</td>\n",
       "      <td>250.000000</td>\n",
       "      <td>250.000000</td>\n",
       "      <td>250.000000</td>\n",
       "      <td>250.000000</td>\n",
       "      <td>250.000000</td>\n",
       "      <td>250.000000</td>\n",
       "      <td>250.000000</td>\n",
       "      <td>250.000000</td>\n",
       "      <td>250.000000</td>\n",
       "    </tr>\n",
       "    <tr>\n",
       "      <th>mean</th>\n",
       "      <td>124.500000</td>\n",
       "      <td>0.640000</td>\n",
       "      <td>0.023292</td>\n",
       "      <td>-0.026872</td>\n",
       "      <td>0.167404</td>\n",
       "      <td>0.001904</td>\n",
       "      <td>0.001588</td>\n",
       "      <td>-0.007304</td>\n",
       "      <td>0.032052</td>\n",
       "      <td>0.078412</td>\n",
       "      <td>...</td>\n",
       "      <td>0.044652</td>\n",
       "      <td>0.126344</td>\n",
       "      <td>0.018436</td>\n",
       "      <td>-0.012092</td>\n",
       "      <td>-0.065720</td>\n",
       "      <td>-0.106112</td>\n",
       "      <td>0.046472</td>\n",
       "      <td>0.006452</td>\n",
       "      <td>0.009372</td>\n",
       "      <td>-0.128952</td>\n",
       "    </tr>\n",
       "    <tr>\n",
       "      <th>std</th>\n",
       "      <td>72.312977</td>\n",
       "      <td>0.480963</td>\n",
       "      <td>0.998354</td>\n",
       "      <td>1.009314</td>\n",
       "      <td>1.021709</td>\n",
       "      <td>1.011751</td>\n",
       "      <td>1.035411</td>\n",
       "      <td>0.955700</td>\n",
       "      <td>1.006657</td>\n",
       "      <td>0.939731</td>\n",
       "      <td>...</td>\n",
       "      <td>1.011416</td>\n",
       "      <td>0.972567</td>\n",
       "      <td>0.954229</td>\n",
       "      <td>0.960630</td>\n",
       "      <td>1.057414</td>\n",
       "      <td>1.038389</td>\n",
       "      <td>0.967661</td>\n",
       "      <td>0.998984</td>\n",
       "      <td>1.008099</td>\n",
       "      <td>0.971219</td>\n",
       "    </tr>\n",
       "    <tr>\n",
       "      <th>min</th>\n",
       "      <td>0.000000</td>\n",
       "      <td>0.000000</td>\n",
       "      <td>-2.319000</td>\n",
       "      <td>-2.931000</td>\n",
       "      <td>-2.477000</td>\n",
       "      <td>-2.359000</td>\n",
       "      <td>-2.566000</td>\n",
       "      <td>-2.845000</td>\n",
       "      <td>-2.976000</td>\n",
       "      <td>-3.444000</td>\n",
       "      <td>...</td>\n",
       "      <td>-2.804000</td>\n",
       "      <td>-2.443000</td>\n",
       "      <td>-2.757000</td>\n",
       "      <td>-2.466000</td>\n",
       "      <td>-3.287000</td>\n",
       "      <td>-3.072000</td>\n",
       "      <td>-2.634000</td>\n",
       "      <td>-2.776000</td>\n",
       "      <td>-3.211000</td>\n",
       "      <td>-3.500000</td>\n",
       "    </tr>\n",
       "    <tr>\n",
       "      <th>25%</th>\n",
       "      <td>62.250000</td>\n",
       "      <td>0.000000</td>\n",
       "      <td>-0.644750</td>\n",
       "      <td>-0.739750</td>\n",
       "      <td>-0.425250</td>\n",
       "      <td>-0.686500</td>\n",
       "      <td>-0.659000</td>\n",
       "      <td>-0.643750</td>\n",
       "      <td>-0.675000</td>\n",
       "      <td>-0.550750</td>\n",
       "      <td>...</td>\n",
       "      <td>-0.617000</td>\n",
       "      <td>-0.510500</td>\n",
       "      <td>-0.535750</td>\n",
       "      <td>-0.657000</td>\n",
       "      <td>-0.818500</td>\n",
       "      <td>-0.821000</td>\n",
       "      <td>-0.605500</td>\n",
       "      <td>-0.751250</td>\n",
       "      <td>-0.550000</td>\n",
       "      <td>-0.754250</td>\n",
       "    </tr>\n",
       "    <tr>\n",
       "      <th>50%</th>\n",
       "      <td>124.500000</td>\n",
       "      <td>1.000000</td>\n",
       "      <td>-0.015500</td>\n",
       "      <td>0.057000</td>\n",
       "      <td>0.184000</td>\n",
       "      <td>-0.016500</td>\n",
       "      <td>-0.023000</td>\n",
       "      <td>0.037500</td>\n",
       "      <td>0.060500</td>\n",
       "      <td>0.183500</td>\n",
       "      <td>...</td>\n",
       "      <td>0.067500</td>\n",
       "      <td>0.091000</td>\n",
       "      <td>0.057500</td>\n",
       "      <td>-0.021000</td>\n",
       "      <td>-0.009000</td>\n",
       "      <td>-0.079500</td>\n",
       "      <td>0.009500</td>\n",
       "      <td>0.005500</td>\n",
       "      <td>-0.009000</td>\n",
       "      <td>-0.132500</td>\n",
       "    </tr>\n",
       "    <tr>\n",
       "      <th>75%</th>\n",
       "      <td>186.750000</td>\n",
       "      <td>1.000000</td>\n",
       "      <td>0.677000</td>\n",
       "      <td>0.620750</td>\n",
       "      <td>0.805000</td>\n",
       "      <td>0.720000</td>\n",
       "      <td>0.735000</td>\n",
       "      <td>0.660500</td>\n",
       "      <td>0.783250</td>\n",
       "      <td>0.766250</td>\n",
       "      <td>...</td>\n",
       "      <td>0.797250</td>\n",
       "      <td>0.804250</td>\n",
       "      <td>0.631500</td>\n",
       "      <td>0.650250</td>\n",
       "      <td>0.739500</td>\n",
       "      <td>0.493000</td>\n",
       "      <td>0.683000</td>\n",
       "      <td>0.794250</td>\n",
       "      <td>0.654250</td>\n",
       "      <td>0.503250</td>\n",
       "    </tr>\n",
       "    <tr>\n",
       "      <th>max</th>\n",
       "      <td>249.000000</td>\n",
       "      <td>1.000000</td>\n",
       "      <td>2.567000</td>\n",
       "      <td>2.419000</td>\n",
       "      <td>3.392000</td>\n",
       "      <td>2.771000</td>\n",
       "      <td>2.901000</td>\n",
       "      <td>2.793000</td>\n",
       "      <td>2.546000</td>\n",
       "      <td>2.846000</td>\n",
       "      <td>...</td>\n",
       "      <td>2.865000</td>\n",
       "      <td>2.801000</td>\n",
       "      <td>2.736000</td>\n",
       "      <td>2.596000</td>\n",
       "      <td>2.226000</td>\n",
       "      <td>3.131000</td>\n",
       "      <td>3.236000</td>\n",
       "      <td>2.626000</td>\n",
       "      <td>3.530000</td>\n",
       "      <td>2.771000</td>\n",
       "    </tr>\n",
       "  </tbody>\n",
       "</table>\n",
       "<p>8 rows × 302 columns</p>\n",
       "</div>"
      ],
      "text/plain": [
       "               id      target           0           1           2           3  \\\n",
       "count  250.000000  250.000000  250.000000  250.000000  250.000000  250.000000   \n",
       "mean   124.500000    0.640000    0.023292   -0.026872    0.167404    0.001904   \n",
       "std     72.312977    0.480963    0.998354    1.009314    1.021709    1.011751   \n",
       "min      0.000000    0.000000   -2.319000   -2.931000   -2.477000   -2.359000   \n",
       "25%     62.250000    0.000000   -0.644750   -0.739750   -0.425250   -0.686500   \n",
       "50%    124.500000    1.000000   -0.015500    0.057000    0.184000   -0.016500   \n",
       "75%    186.750000    1.000000    0.677000    0.620750    0.805000    0.720000   \n",
       "max    249.000000    1.000000    2.567000    2.419000    3.392000    2.771000   \n",
       "\n",
       "                4           5           6           7     ...             290  \\\n",
       "count  250.000000  250.000000  250.000000  250.000000     ...      250.000000   \n",
       "mean     0.001588   -0.007304    0.032052    0.078412     ...        0.044652   \n",
       "std      1.035411    0.955700    1.006657    0.939731     ...        1.011416   \n",
       "min     -2.566000   -2.845000   -2.976000   -3.444000     ...       -2.804000   \n",
       "25%     -0.659000   -0.643750   -0.675000   -0.550750     ...       -0.617000   \n",
       "50%     -0.023000    0.037500    0.060500    0.183500     ...        0.067500   \n",
       "75%      0.735000    0.660500    0.783250    0.766250     ...        0.797250   \n",
       "max      2.901000    2.793000    2.546000    2.846000     ...        2.865000   \n",
       "\n",
       "              291         292         293         294         295         296  \\\n",
       "count  250.000000  250.000000  250.000000  250.000000  250.000000  250.000000   \n",
       "mean     0.126344    0.018436   -0.012092   -0.065720   -0.106112    0.046472   \n",
       "std      0.972567    0.954229    0.960630    1.057414    1.038389    0.967661   \n",
       "min     -2.443000   -2.757000   -2.466000   -3.287000   -3.072000   -2.634000   \n",
       "25%     -0.510500   -0.535750   -0.657000   -0.818500   -0.821000   -0.605500   \n",
       "50%      0.091000    0.057500   -0.021000   -0.009000   -0.079500    0.009500   \n",
       "75%      0.804250    0.631500    0.650250    0.739500    0.493000    0.683000   \n",
       "max      2.801000    2.736000    2.596000    2.226000    3.131000    3.236000   \n",
       "\n",
       "              297         298         299  \n",
       "count  250.000000  250.000000  250.000000  \n",
       "mean     0.006452    0.009372   -0.128952  \n",
       "std      0.998984    1.008099    0.971219  \n",
       "min     -2.776000   -3.211000   -3.500000  \n",
       "25%     -0.751250   -0.550000   -0.754250  \n",
       "50%      0.005500   -0.009000   -0.132500  \n",
       "75%      0.794250    0.654250    0.503250  \n",
       "max      2.626000    3.530000    2.771000  \n",
       "\n",
       "[8 rows x 302 columns]"
      ]
     },
     "execution_count": 7,
     "metadata": {},
     "output_type": "execute_result"
    }
   ],
   "source": [
    "train_data.describe()"
   ]
  },
  {
   "cell_type": "code",
   "execution_count": 8,
   "metadata": {},
   "outputs": [
    {
     "data": {
      "image/png": "[encoded data removed]",
      "text/plain": [
       "<matplotlib.figure.Figure at 0x108185a90>"
      ]
     },
     "metadata": {},
     "output_type": "display_data"
    }
   ],
   "source": [
    "train_data[[\"target\",\"0\",\"10\",\"50\",\"100\",\"150\"]].hist(bins=20,figsize=(8,8))\n",
    "plt.show()"
   ]
  },
  {
   "cell_type": "code",
   "execution_count": 9,
   "metadata": {},
   "outputs": [
    {
     "data": {
      "text/plain": [
       "target    1.000000\n",
       "33        0.373608\n",
       "65        0.293846\n",
       "24        0.173096\n",
       "183       0.164146\n",
       "199       0.159442\n",
       "201       0.142238\n",
       "30        0.132705\n",
       "289       0.127213\n",
       "114       0.124792\n",
       "164       0.124151\n",
       "101       0.118379\n",
       "272       0.113909\n",
       "226       0.113660\n",
       "17        0.110998\n",
       "105       0.110589\n",
       "0         0.108966\n",
       "244       0.108147\n",
       "13        0.107828\n",
       "176       0.099790\n",
       "89        0.099526\n",
       "214       0.097068\n",
       "240       0.096668\n",
       "119       0.092622\n",
       "221       0.091455\n",
       "215       0.090960\n",
       "246       0.088314\n",
       "285       0.087762\n",
       "193       0.086302\n",
       "253       0.084235\n",
       "            ...   \n",
       "4        -0.114726\n",
       "276      -0.117467\n",
       "239      -0.118166\n",
       "43       -0.121413\n",
       "252      -0.122335\n",
       "209      -0.127391\n",
       "63       -0.127440\n",
       "82       -0.128248\n",
       "150      -0.130454\n",
       "237      -0.133168\n",
       "134      -0.133731\n",
       "220      -0.134738\n",
       "298      -0.134760\n",
       "90       -0.136230\n",
       "230      -0.136263\n",
       "258      -0.138332\n",
       "133      -0.139100\n",
       "129      -0.139439\n",
       "165      -0.142526\n",
       "39       -0.142915\n",
       "16       -0.144267\n",
       "194      -0.150384\n",
       "id       -0.151498\n",
       "189      -0.155956\n",
       "80       -0.162558\n",
       "73       -0.167557\n",
       "295      -0.170501\n",
       "91       -0.192536\n",
       "117      -0.197496\n",
       "217      -0.207215\n",
       "Name: target, Length: 302, dtype: float64"
      ]
     },
     "execution_count": 9,
     "metadata": {},
     "output_type": "execute_result"
    }
   ],
   "source": [
    "corr_matrix = train_data.corr()\n",
    "corr_matrix[\"target\"].sort_values(ascending=False)"
   ]
  },
  {
   "cell_type": "markdown",
   "metadata": {
    "collapsed": true
   },
   "source": [
    "## Prepare the data"
   ]
  },
  {
   "cell_type": "code",
   "execution_count": 986,
   "metadata": {
    "collapsed": true
   },
   "outputs": [],
   "source": [
    "def drop_features(X, feature_list):\n",
    "        X_drop = X.drop(feature_list, axis =1)\n",
    "        return X_drop"
   ]
  },
  {
   "cell_type": "code",
   "execution_count": 987,
   "metadata": {},
   "outputs": [
    {
     "data": {
      "text/html": [
       "<div>\n",
       "<style>\n",
       "    .dataframe thead tr:only-child th {\n",
       "        text-align: right;\n",
       "    }\n",
       "\n",
       "    .dataframe thead th {\n",
       "        text-align: left;\n",
       "    }\n",
       "\n",
       "    .dataframe tbody tr th {\n",
       "        vertical-align: top;\n",
       "    }\n",
       "</style>\n",
       "<table border=\"1\" class=\"dataframe\">\n",
       "  <thead>\n",
       "    <tr style=\"text-align: right;\">\n",
       "      <th></th>\n",
       "      <th>0</th>\n",
       "      <th>1</th>\n",
       "      <th>2</th>\n",
       "      <th>3</th>\n",
       "      <th>4</th>\n",
       "      <th>5</th>\n",
       "      <th>6</th>\n",
       "      <th>7</th>\n",
       "      <th>8</th>\n",
       "      <th>9</th>\n",
       "      <th>...</th>\n",
       "      <th>290</th>\n",
       "      <th>291</th>\n",
       "      <th>292</th>\n",
       "      <th>293</th>\n",
       "      <th>294</th>\n",
       "      <th>295</th>\n",
       "      <th>296</th>\n",
       "      <th>297</th>\n",
       "      <th>298</th>\n",
       "      <th>299</th>\n",
       "    </tr>\n",
       "  </thead>\n",
       "  <tbody>\n",
       "    <tr>\n",
       "      <th>0</th>\n",
       "      <td>-0.098</td>\n",
       "      <td>2.165</td>\n",
       "      <td>0.681</td>\n",
       "      <td>-0.614</td>\n",
       "      <td>1.309</td>\n",
       "      <td>-0.455</td>\n",
       "      <td>-0.236</td>\n",
       "      <td>0.276</td>\n",
       "      <td>-2.246</td>\n",
       "      <td>1.825</td>\n",
       "      <td>...</td>\n",
       "      <td>0.867</td>\n",
       "      <td>1.347</td>\n",
       "      <td>0.504</td>\n",
       "      <td>-0.649</td>\n",
       "      <td>0.672</td>\n",
       "      <td>-2.097</td>\n",
       "      <td>1.051</td>\n",
       "      <td>-0.414</td>\n",
       "      <td>1.038</td>\n",
       "      <td>-1.065</td>\n",
       "    </tr>\n",
       "    <tr>\n",
       "      <th>1</th>\n",
       "      <td>1.081</td>\n",
       "      <td>-0.973</td>\n",
       "      <td>-0.383</td>\n",
       "      <td>0.326</td>\n",
       "      <td>-0.428</td>\n",
       "      <td>0.317</td>\n",
       "      <td>1.172</td>\n",
       "      <td>0.352</td>\n",
       "      <td>0.004</td>\n",
       "      <td>-0.291</td>\n",
       "      <td>...</td>\n",
       "      <td>-0.165</td>\n",
       "      <td>-1.695</td>\n",
       "      <td>-1.257</td>\n",
       "      <td>1.359</td>\n",
       "      <td>-0.808</td>\n",
       "      <td>-1.624</td>\n",
       "      <td>-0.458</td>\n",
       "      <td>-1.099</td>\n",
       "      <td>-0.936</td>\n",
       "      <td>0.973</td>\n",
       "    </tr>\n",
       "    <tr>\n",
       "      <th>2</th>\n",
       "      <td>-0.523</td>\n",
       "      <td>-0.089</td>\n",
       "      <td>-0.348</td>\n",
       "      <td>0.148</td>\n",
       "      <td>-0.022</td>\n",
       "      <td>0.404</td>\n",
       "      <td>-0.023</td>\n",
       "      <td>-0.172</td>\n",
       "      <td>0.137</td>\n",
       "      <td>0.183</td>\n",
       "      <td>...</td>\n",
       "      <td>0.013</td>\n",
       "      <td>0.263</td>\n",
       "      <td>-1.222</td>\n",
       "      <td>0.726</td>\n",
       "      <td>1.444</td>\n",
       "      <td>-1.165</td>\n",
       "      <td>-1.544</td>\n",
       "      <td>0.004</td>\n",
       "      <td>0.800</td>\n",
       "      <td>-1.211</td>\n",
       "    </tr>\n",
       "  </tbody>\n",
       "</table>\n",
       "<p>3 rows × 300 columns</p>\n",
       "</div>"
      ],
      "text/plain": [
       "       0      1      2      3      4      5      6      7      8      9  \\\n",
       "0 -0.098  2.165  0.681 -0.614  1.309 -0.455 -0.236  0.276 -2.246  1.825   \n",
       "1  1.081 -0.973 -0.383  0.326 -0.428  0.317  1.172  0.352  0.004 -0.291   \n",
       "2 -0.523 -0.089 -0.348  0.148 -0.022  0.404 -0.023 -0.172  0.137  0.183   \n",
       "\n",
       "   ...      290    291    292    293    294    295    296    297    298    299  \n",
       "0  ...    0.867  1.347  0.504 -0.649  0.672 -2.097  1.051 -0.414  1.038 -1.065  \n",
       "1  ...   -0.165 -1.695 -1.257  1.359 -0.808 -1.624 -0.458 -1.099 -0.936  0.973  \n",
       "2  ...    0.013  0.263 -1.222  0.726  1.444 -1.165 -1.544  0.004  0.800 -1.211  \n",
       "\n",
       "[3 rows x 300 columns]"
      ]
     },
     "execution_count": 987,
     "metadata": {},
     "output_type": "execute_result"
    }
   ],
   "source": [
    "train_set = drop_features(train_data, [\"id\",\"target\"])\n",
    "target_set = train_data[\"target\"]\n",
    "test_set = drop_features(test_data, [\"id\"])\n",
    "train_set[:3]"
   ]
  },
  {
   "cell_type": "code",
   "execution_count": 12,
   "metadata": {},
   "outputs": [
    {
     "data": {
      "text/plain": [
       "<matplotlib.axes._subplots.AxesSubplot at 0x1194526d8>"
      ]
     },
     "execution_count": 12,
     "metadata": {},
     "output_type": "execute_result"
    },
    {
     "data": {
      "image/png": "[encoded data removed]",
      "text/plain": [
       "<matplotlib.figure.Figure at 0x1193c0ba8>"
      ]
     },
     "metadata": {},
     "output_type": "display_data"
    }
   ],
   "source": [
    "(train_set.mean(axis = 1)).hist(bins=30)"
   ]
  },
  {
   "cell_type": "code",
   "execution_count": 988,
   "metadata": {
    "collapsed": true
   },
   "outputs": [],
   "source": [
    "from sklearn.pipeline import Pipeline\n",
    "from sklearn.impute import SimpleImputer\n",
    "from sklearn.preprocessing import StandardScaler\n",
    "\n",
    "\n",
    "prepare_pipeline = Pipeline([\n",
    "    (\"imputer\", SimpleImputer(strategy=\"mean\")),\n",
    "    (\"scaler\", StandardScaler()),\n",
    "])\n",
    "\n",
    "X_train = prepare_pipeline.fit_transform(train_set)\n",
    "y_train = np.array(train_data[\"target\"])\n",
    "X_test = prepare_pipeline.fit_transform(test_set)"
   ]
  },
  {
   "cell_type": "code",
   "execution_count": 382,
   "metadata": {},
   "outputs": [
    {
     "data": {
      "text/plain": [
       "array([[-0.12173567,  2.17600225,  0.5036917 , -0.60997161,  1.26523203],\n",
       "       [ 1.06157697, -0.93927777, -0.53978988,  0.32097431, -0.41572855],\n",
       "       [-0.54829027, -0.06167818, -0.50546483,  0.1446888 , -0.022827  ]])"
      ]
     },
     "execution_count": 382,
     "metadata": {},
     "output_type": "execute_result"
    }
   ],
   "source": [
    "X_train[:3,:5]"
   ]
  },
  {
   "cell_type": "code",
   "execution_count": 15,
   "metadata": {},
   "outputs": [
    {
     "data": {
      "text/plain": [
       "array([1., 0., 1.])"
      ]
     },
     "execution_count": 15,
     "metadata": {},
     "output_type": "execute_result"
    }
   ],
   "source": [
    "y_train[:3]"
   ]
  },
  {
   "cell_type": "code",
   "execution_count": 383,
   "metadata": {},
   "outputs": [
    {
     "name": "stdout",
     "output_type": "stream",
     "text": [
      "(250, 300) (250,) (19750, 300)\n"
     ]
    }
   ],
   "source": [
    "print(X_train.shape, y_train.shape, X_test.shape)"
   ]
  },
  {
   "cell_type": "markdown",
   "metadata": {},
   "source": [
    "## CV score evaluation"
   ]
  },
  {
   "cell_type": "code",
   "execution_count": 989,
   "metadata": {
    "collapsed": true
   },
   "outputs": [],
   "source": [
    "from sklearn.model_selection import cross_val_score\n",
    "\n",
    "n_cv = 6\n",
    "\n",
    "def CV_scores(clf, X, y, cv=n_cv):\n",
    "    scores = cross_val_score(clf, X, y, cv=cv, scoring= 'accuracy')\n",
    "    scores_mean = np.mean(scores)\n",
    "    scores_dev = np.std(scores)\n",
    "    return scores_mean, scores_dev\n",
    "\n",
    "def CV_scores_auc(clf, X, y, cv=n_cv):\n",
    "    scores = cross_val_score(clf, X, y, cv=cv, scoring= 'roc_auc')\n",
    "    scores_mean = np.mean(scores)\n",
    "    scores_dev = np.std(scores)\n",
    "    return scores_mean, scores_dev"
   ]
  },
  {
   "cell_type": "markdown",
   "metadata": {
    "collapsed": true
   },
   "source": [
    "## Learning curves"
   ]
  },
  {
   "cell_type": "code",
   "execution_count": 1054,
   "metadata": {
    "collapsed": true
   },
   "outputs": [],
   "source": [
    "from sklearn.metrics import mean_squared_error\n",
    "from sklearn.model_selection import train_test_split\n",
    "\n",
    "def plot_learning_curves(model, X, y):\n",
    "    X_train, X_val, y_train, y_val = train_test_split(X, y, test_size=0.2, random_state=10)\n",
    "    train_errors, val_errors = [], []\n",
    "    for m in range(10, len(X_train)):\n",
    "        model.fit(X_train[:m], y_train[:m])\n",
    "        y_train_predict = model.predict(X_train[:m])\n",
    "        y_val_predict = model.predict(X_val)\n",
    "        train_errors.append(mean_squared_error(y_train[:m], y_train_predict))\n",
    "        val_errors.append(mean_squared_error(y_val, y_val_predict))\n",
    "\n",
    "    plt.plot(np.sqrt(train_errors), \"r-+\", linewidth=2, label=\"train\")\n",
    "    plt.plot(np.sqrt(val_errors), \"b-\", linewidth=3, label=\"val\")\n",
    "    plt.legend(loc=\"upper right\", fontsize=14)   # not shown in the book\n",
    "    plt.xlabel(\"Training set size\", fontsize=14) # not shown\n",
    "    plt.ylabel(\"RMSE\", fontsize=14)              # not shown"
   ]
  },
  {
   "cell_type": "markdown",
   "metadata": {
    "collapsed": true
   },
   "source": [
    "## Model selection"
   ]
  },
  {
   "cell_type": "markdown",
   "metadata": {
    "collapsed": true
   },
   "source": [
    "### SVM classifier"
   ]
  },
  {
   "cell_type": "code",
   "execution_count": 344,
   "metadata": {},
   "outputs": [
    {
     "name": "stderr",
     "output_type": "stream",
     "text": [
      "/Users/Benjamin/anaconda/lib/python3.6/site-packages/sklearn/model_selection/_search.py:841: DeprecationWarning: The default of the `iid` parameter will change from True to False in version 0.22 and will be removed in 0.24. This will change numeric results when test-set sizes are unequal.\n",
      "  DeprecationWarning)\n"
     ]
    },
    {
     "data": {
      "text/plain": [
       "SVC(C=10, cache_size=200, class_weight=None, coef0=1,\n",
       "  decision_function_shape='ovr', degree=3, gamma='auto', kernel='poly',\n",
       "  max_iter=-1, probability=False, random_state=None, shrinking=True,\n",
       "  tol=0.001, verbose=False)"
      ]
     },
     "execution_count": 344,
     "metadata": {},
     "output_type": "execute_result"
    }
   ],
   "source": [
    "from sklearn.svm import SVC\n",
    "from sklearn.model_selection import GridSearchCV\n",
    "\n",
    "poly_kernel_svm_clf = SVC(kernel=\"poly\", coef0 = 1, gamma=\"auto\")\n",
    "\n",
    "param_grid = [\n",
    "    {'degree': [1,2,3,4], 'C': [0.1,10,100]},\n",
    "]\n",
    "\n",
    "grid_search_svm = GridSearchCV(poly_kernel_svm_clf, param_grid, cv=5, \n",
    "                                  scoring = \"neg_mean_squared_error\", return_train_score = True)\n",
    "grid_search_svm.fit(X_train,y_train)\n",
    "best_svm_clf = grid_search_svm.best_estimator_\n",
    "best_svm_clf"
   ]
  },
  {
   "cell_type": "code",
   "execution_count": 353,
   "metadata": {},
   "outputs": [
    {
     "name": "stdout",
     "output_type": "stream",
     "text": [
      "CV scores mean:     0.7179271708683473 \n",
      "CV scores std dev:  0.05473091173078954\n",
      "CV auc scores mean:     0.7527448397013615 \n",
      "CV auc scores std dev:  0.06600165544696221\n"
     ]
    }
   ],
   "source": [
    "scores_mean, scores_dev = CV_scores(best_svm_clf, X_train, y_train)\n",
    "print(\"CV scores mean:    \", scores_mean, \"\\nCV scores std dev: \", scores_dev)\n",
    "scores_mean_auc, scores_dev_auc = CV_scores_auc(best_svm_clf, X_train, y_train)\n",
    "print(\"CV auc scores mean:    \", scores_mean_auc, \"\\nCV auc scores std dev: \", scores_dev_auc)"
   ]
  },
  {
   "cell_type": "code",
   "execution_count": 189,
   "metadata": {},
   "outputs": [
    {
     "data": {
      "image/png": "[encoded data removed]",
      "text/plain": [
       "<matplotlib.figure.Figure at 0x11baed2e8>"
      ]
     },
     "metadata": {},
     "output_type": "display_data"
    }
   ],
   "source": [
    "plot_learning_curves(best_svm_clf, X_train, y_train)\n",
    "plt.axis([0, 200, 0, 1])                     \n",
    "plt.show()   "
   ]
  },
  {
   "cell_type": "markdown",
   "metadata": {},
   "source": [
    "### DecisionTree"
   ]
  },
  {
   "cell_type": "code",
   "execution_count": 384,
   "metadata": {},
   "outputs": [
    {
     "name": "stderr",
     "output_type": "stream",
     "text": [
      "/Users/Benjamin/anaconda/lib/python3.6/site-packages/sklearn/model_selection/_search.py:841: DeprecationWarning: The default of the `iid` parameter will change from True to False in version 0.22 and will be removed in 0.24. This will change numeric results when test-set sizes are unequal.\n",
      "  DeprecationWarning)\n"
     ]
    },
    {
     "data": {
      "text/plain": [
       "DecisionTreeClassifier(class_weight=None, criterion='gini', max_depth=20,\n",
       "            max_features=None, max_leaf_nodes=10,\n",
       "            min_impurity_decrease=0.0, min_impurity_split=None,\n",
       "            min_samples_leaf=1, min_samples_split=2,\n",
       "            min_weight_fraction_leaf=0.0, presort=False, random_state=None,\n",
       "            splitter='best')"
      ]
     },
     "execution_count": 384,
     "metadata": {},
     "output_type": "execute_result"
    }
   ],
   "source": [
    "from sklearn.tree import DecisionTreeClassifier\n",
    "\n",
    "tree_clf = DecisionTreeClassifier()\n",
    "\n",
    "from sklearn.model_selection import GridSearchCV\n",
    "\n",
    "param_grid = [\n",
    "    {'max_depth': [10,20], 'max_leaf_nodes': [10,20,50]},\n",
    "]\n",
    "\n",
    "grid_search_tree = GridSearchCV(tree_clf, param_grid, cv=4, \n",
    "                                  scoring = \"neg_mean_squared_error\", return_train_score = True)\n",
    "grid_search_tree.fit(X_train,y_train)\n",
    "best_tree_clf = grid_search_tree.best_estimator_\n",
    "best_tree_clf"
   ]
  },
  {
   "cell_type": "code",
   "execution_count": 385,
   "metadata": {},
   "outputs": [
    {
     "name": "stdout",
     "output_type": "stream",
     "text": [
      "CV scores mean:     0.6200154858691445 \n",
      "CV scores std dev:  0.06034709784018812\n",
      "CV auc scores mean:     0.5895932257043368 \n",
      "CV auc scores std dev:  0.06766766852121478\n"
     ]
    }
   ],
   "source": [
    "scores_mean, scores_dev = CV_scores(best_tree_clf, X_train, y_train)\n",
    "print(\"CV scores mean:    \", scores_mean, \"\\nCV scores std dev: \", scores_dev)\n",
    "scores_mean_auc, scores_dev_auc = CV_scores_auc(best_tree_clf, X_train, y_train)\n",
    "print(\"CV auc scores mean:    \", scores_mean_auc, \"\\nCV auc scores std dev: \", scores_dev_auc)"
   ]
  },
  {
   "cell_type": "code",
   "execution_count": 192,
   "metadata": {},
   "outputs": [
    {
     "data": {
      "image/png": "[encoded data removed]",
      "text/plain": [
       "<matplotlib.figure.Figure at 0x11bd3f908>"
      ]
     },
     "metadata": {},
     "output_type": "display_data"
    }
   ],
   "source": [
    "plot_learning_curves(best_tree_clf, X_train, y_train)\n",
    "plt.axis([0, 200, 0, 1])                     \n",
    "plt.show()   "
   ]
  },
  {
   "cell_type": "markdown",
   "metadata": {
    "collapsed": true
   },
   "source": [
    "### RandomForest classifier"
   ]
  },
  {
   "cell_type": "code",
   "execution_count": 386,
   "metadata": {},
   "outputs": [
    {
     "data": {
      "text/plain": [
       "RandomForestClassifier(bootstrap=True, class_weight=None, criterion='gini',\n",
       "            max_depth=None, max_features=100, max_leaf_nodes=None,\n",
       "            min_impurity_decrease=0.0, min_impurity_split=None,\n",
       "            min_samples_leaf=1, min_samples_split=2,\n",
       "            min_weight_fraction_leaf=0.0, n_estimators=200, n_jobs=None,\n",
       "            oob_score=False, random_state=42, verbose=0, warm_start=False)"
      ]
     },
     "execution_count": 386,
     "metadata": {},
     "output_type": "execute_result"
    }
   ],
   "source": [
    "from sklearn.ensemble import RandomForestClassifier\n",
    "\n",
    "forest_clf = RandomForestClassifier(random_state=42)\n",
    "\n",
    "from sklearn.model_selection import GridSearchCV\n",
    "\n",
    "param_grid = [\n",
    "    {'n_estimators': [50,100,200], 'max_features': [10,50,100]},\n",
    "]\n",
    "\n",
    "grid_search_forest = GridSearchCV(forest_clf, param_grid, cv=5, \n",
    "                                  scoring = \"neg_mean_squared_error\", return_train_score = True)\n",
    "grid_search_forest.fit(X_train,y_train)\n",
    "best_forest_clf = grid_search_forest.best_estimator_\n",
    "best_forest_clf"
   ]
  },
  {
   "cell_type": "code",
   "execution_count": 387,
   "metadata": {},
   "outputs": [
    {
     "name": "stdout",
     "output_type": "stream",
     "text": [
      "CV scores mean:     0.6519550909794812 \n",
      "CV scores std dev:  0.03622512307071123\n",
      "CV auc scores mean:     0.7440408357075023 \n",
      "CV auc scores std dev:  0.039449419777733405\n"
     ]
    }
   ],
   "source": [
    "scores_mean, scores_dev = CV_scores(best_forest_clf, X_train, y_train)\n",
    "print(\"CV scores mean:    \", scores_mean, \"\\nCV scores std dev: \", scores_dev)\n",
    "scores_mean_auc, scores_dev_auc = CV_scores_auc(best_forest_clf, X_train, y_train)\n",
    "print(\"CV auc scores mean:    \", scores_mean_auc, \"\\nCV auc scores std dev: \", scores_dev_auc)"
   ]
  },
  {
   "cell_type": "code",
   "execution_count": 195,
   "metadata": {},
   "outputs": [
    {
     "data": {
      "image/png": "[encoded data removed]",
      "text/plain": [
       "<matplotlib.figure.Figure at 0x11b2c7358>"
      ]
     },
     "metadata": {},
     "output_type": "display_data"
    }
   ],
   "source": [
    "plot_learning_curves(best_forest_clf, X_train, y_train)\n",
    "plt.axis([0, 200, 0, 1])                     \n",
    "plt.show()   "
   ]
  },
  {
   "cell_type": "markdown",
   "metadata": {
    "collapsed": true
   },
   "source": [
    "So far: massive overfit !!!"
   ]
  },
  {
   "cell_type": "markdown",
   "metadata": {},
   "source": [
    "### SVM with RBF"
   ]
  },
  {
   "cell_type": "code",
   "execution_count": 388,
   "metadata": {
    "collapsed": true
   },
   "outputs": [],
   "source": [
    "from sklearn.svm import SVC\n",
    "\n",
    "rbf_clf = SVC(kernel=\"rbf\", gamma= 5, C=0.1)"
   ]
  },
  {
   "cell_type": "code",
   "execution_count": 389,
   "metadata": {},
   "outputs": [
    {
     "name": "stdout",
     "output_type": "stream",
     "text": [
      "CV scores mean:     0.6399535423925669 \n",
      "CV scores std dev:  0.004106311156716323\n",
      "CV auc scores mean:     0.5 \n",
      "CV auc scores std dev:  0.0\n"
     ]
    }
   ],
   "source": [
    "scores_mean, scores_dev = CV_scores(rbf_clf, X_train, y_train)\n",
    "print(\"CV scores mean:    \", scores_mean, \"\\nCV scores std dev: \", scores_dev)\n",
    "scores_mean_auc, scores_dev_auc = CV_scores_auc(rbf_clf, X_train, y_train)\n",
    "print(\"CV auc scores mean:    \", scores_mean_auc, \"\\nCV auc scores std dev: \", scores_dev_auc)"
   ]
  },
  {
   "cell_type": "code",
   "execution_count": 32,
   "metadata": {},
   "outputs": [
    {
     "data": {
      "image/png": "[encoded data removed]",
      "text/plain": [
       "<matplotlib.figure.Figure at 0x118f8b8d0>"
      ]
     },
     "metadata": {},
     "output_type": "display_data"
    }
   ],
   "source": [
    "plot_learning_curves(rbf_clf, X_train, y_train)\n",
    "plt.axis([0, 200, 0, 1])                     \n",
    "plt.show()   "
   ]
  },
  {
   "cell_type": "markdown",
   "metadata": {},
   "source": [
    "Underfiting !"
   ]
  },
  {
   "cell_type": "markdown",
   "metadata": {},
   "source": [
    "### Logistic Regression"
   ]
  },
  {
   "cell_type": "code",
   "execution_count": 1039,
   "metadata": {
    "collapsed": true
   },
   "outputs": [],
   "source": [
    "from sklearn.linear_model import LogisticRegression\n",
    "\n",
    "log_reg = LogisticRegression(solver='lbfgs', C=1)"
   ]
  },
  {
   "cell_type": "code",
   "execution_count": 1040,
   "metadata": {},
   "outputs": [
    {
     "name": "stdout",
     "output_type": "stream",
     "text": [
      "CV scores mean:     0.6803135888501742 \n",
      "CV scores std dev:  0.05106898634000976\n",
      "CV auc scores mean:     0.7694681861348528 \n",
      "CV auc scores std dev:  0.0778297611821366\n"
     ]
    }
   ],
   "source": [
    "scores_mean, scores_dev = CV_scores(log_reg, X_train, y_train)\n",
    "print(\"CV scores mean:    \", scores_mean, \"\\nCV scores std dev: \", scores_dev)\n",
    "scores_mean_auc, scores_dev_auc = CV_scores_auc(log_reg, X_train, y_train)\n",
    "print(\"CV auc scores mean:    \", scores_mean_auc, \"\\nCV auc scores std dev: \", scores_dev_auc)"
   ]
  },
  {
   "cell_type": "code",
   "execution_count": 179,
   "metadata": {},
   "outputs": [
    {
     "data": {
      "image/png": "[encoded data removed]",
      "text/plain": [
       "<matplotlib.figure.Figure at 0x11b41b240>"
      ]
     },
     "metadata": {},
     "output_type": "display_data"
    }
   ],
   "source": [
    "plot_learning_curves(log_reg, X_train, y_train)\n",
    "plt.axis([0, 200, 0, 1])                     \n",
    "plt.show()"
   ]
  },
  {
   "cell_type": "code",
   "execution_count": 1159,
   "metadata": {
    "collapsed": true
   },
   "outputs": [],
   "source": [
    "log_reg_2 = LogisticRegression(penalty='l1', C=0.1, solver='liblinear')"
   ]
  },
  {
   "cell_type": "code",
   "execution_count": 1160,
   "metadata": {},
   "outputs": [
    {
     "name": "stdout",
     "output_type": "stream",
     "text": [
      "CV scores mean:     0.7520325203252032 \n",
      "CV scores std dev:  0.029301918261423605\n",
      "CV auc scores mean:     0.8016619183285849 \n",
      "CV auc scores std dev:  0.03891195699896827\n"
     ]
    }
   ],
   "source": [
    "scores_mean, scores_dev = CV_scores(log_reg_2, X_train, y_train)\n",
    "print(\"CV scores mean:    \", scores_mean, \"\\nCV scores std dev: \", scores_dev)\n",
    "scores_mean_auc, scores_dev_auc = CV_scores_auc(log_reg_2, X_train, y_train)\n",
    "print(\"CV auc scores mean:    \", scores_mean_auc, \"\\nCV auc scores std dev: \", scores_dev_auc)"
   ]
  },
  {
   "cell_type": "code",
   "execution_count": 1062,
   "metadata": {},
   "outputs": [
    {
     "data": {
      "image/png": "[encoded data removed]",
      "text/plain": [
       "<matplotlib.figure.Figure at 0x11bd06c50>"
      ]
     },
     "metadata": {},
     "output_type": "display_data"
    }
   ],
   "source": [
    "plot_learning_curves(log_reg_2, X_train, y_train)\n",
    "plt.axis([0, 200, 0, 1])                     \n",
    "plt.show()"
   ]
  },
  {
   "cell_type": "code",
   "execution_count": 1044,
   "metadata": {},
   "outputs": [
    {
     "name": "stdout",
     "output_type": "stream",
     "text": [
      "CV scores mean:     0.7320944638017809 \n",
      "CV scores std dev:  0.03696237646172995\n",
      "CV auc scores mean:     0.8118708452041784 \n",
      "CV auc scores std dev:  0.03769574386970627\n"
     ]
    }
   ],
   "source": [
    "log_reg_4 = LogisticRegression(penalty='l1', C=0.12, solver='saga', warm_start=True)\n",
    "\n",
    "scores_mean, scores_dev = CV_scores(log_reg_4, X_train, y_train)\n",
    "print(\"CV scores mean:    \", scores_mean, \"\\nCV scores std dev: \", scores_dev)\n",
    "scores_mean_auc, scores_dev_auc = CV_scores_auc(log_reg_4, X_train, y_train)\n",
    "print(\"CV auc scores mean:    \", scores_mean_auc, \"\\nCV auc scores std dev: \", scores_dev_auc)"
   ]
  },
  {
   "cell_type": "code",
   "execution_count": 1109,
   "metadata": {
    "scrolled": true
   },
   "outputs": [
    {
     "data": {
      "text/plain": [
       "GridSearchCV(cv=5, error_score='raise-deprecating',\n",
       "       estimator=LogisticRegression(C=1.0, class_weight=None, dual=False, fit_intercept=True,\n",
       "          intercept_scaling=1, max_iter=100, multi_class='warn',\n",
       "          n_jobs=None, penalty='l2', random_state=None, solver='warn',\n",
       "          tol=0.0001, verbose=0, warm_start=False),\n",
       "       fit_params=None, iid='warn', n_jobs=-1,\n",
       "       param_grid={'C': [0.01, 0.03, 0.05, 0.07, 0.09, 0.11, 0.13, 0.15, 0.17, 0.19], 'penalty': ['l1', 'l2'], 'solver': ['liblinear', 'saga']},\n",
       "       pre_dispatch='2*n_jobs', refit=True, return_train_score='warn',\n",
       "       scoring=None, verbose=0)"
      ]
     },
     "execution_count": 1109,
     "metadata": {},
     "output_type": "execute_result"
    }
   ],
   "source": [
    "from sklearn.model_selection import GridSearchCV\n",
    "\n",
    "log_reg = LogisticRegression()\n",
    "\n",
    "C = [0.01, 0.03, 0.05, 0.07, 0.09, 0.11, 0.13, 0.15, 0.17, 0.19]\n",
    "penalty = ['l1', 'l2']\n",
    "solver = ['liblinear','saga']\n",
    "\n",
    "hyperparameters = dict(C=C, penalty=penalty, solver=solver)\n",
    "\n",
    "grid_search = GridSearchCV(log_reg, hyperparameters, cv=5, verbose=0, n_jobs=-1)\n",
    "grid_search.fit(X_train, y_train)"
   ]
  },
  {
   "cell_type": "code",
   "execution_count": 1110,
   "metadata": {},
   "outputs": [
    {
     "data": {
      "text/plain": [
       "{'C': 0.09, 'penalty': 'l1', 'solver': 'liblinear'}"
      ]
     },
     "execution_count": 1110,
     "metadata": {},
     "output_type": "execute_result"
    }
   ],
   "source": [
    "grid_search.best_params_"
   ]
  },
  {
   "cell_type": "code",
   "execution_count": 1113,
   "metadata": {},
   "outputs": [
    {
     "name": "stdout",
     "output_type": "stream",
     "text": [
      "CV scores mean:     0.7560975609756097 \n",
      "CV scores std dev:  0.04985970416734777\n",
      "CV auc scores mean:     0.8015827793605571 \n",
      "CV auc scores std dev:  0.03582180433103301\n"
     ]
    }
   ],
   "source": [
    "grid_clf = grid_search.best_estimator_\n",
    "\n",
    "scores_mean, scores_dev = CV_scores(grid_clf, X_train, y_train)\n",
    "print(\"CV scores mean:    \", scores_mean, \"\\nCV scores std dev: \", scores_dev)\n",
    "scores_mean_auc, scores_dev_auc = CV_scores_auc(grid_clf, X_train, y_train)\n",
    "print(\"CV auc scores mean:    \", scores_mean_auc, \"\\nCV auc scores std dev: \", scores_dev_auc)"
   ]
  },
  {
   "cell_type": "markdown",
   "metadata": {},
   "source": [
    "### Lasso with GridSearch"
   ]
  },
  {
   "cell_type": "code",
   "execution_count": 1175,
   "metadata": {},
   "outputs": [
    {
     "name": "stdout",
     "output_type": "stream",
     "text": [
      "counter | val_mse  |  val_mae  |  val_roc  |  val_cos  |  val_dist  |  val_r2    | feature_count \n",
      "-------------------------------------------------------------------------------------------------\n",
      " 0      | 0.2005   |  0.4012   |  0.7310   |  0.8301   |  4.2009    |  0.1334    |  255         <-- skipping  \n",
      " 1      | 0.1868   |  0.3894   |  0.7584   |  0.8420   |  4.0540    |  0.1929    |   90         <-- skipping  \n",
      " 2      | 0.2246   |  0.4078   |  0.6869   |  0.8158   |  4.4462    |  0.0292    |   75         <-- skipping  \n",
      " 3      | 0.1697   |  0.3715   |  0.8443   |  0.8564   |  3.8643    |  0.2667    |  180         <-- OK  \n",
      " 4      | 0.2044   |  0.3874   |  0.7165   |  0.8269   |  4.2408    |  0.1169    |   15         <-- skipping  \n",
      " 5      | 0.1752   |  0.3598   |  0.7974   |  0.8513   |  3.9268    |  0.2428    |   12         <-- OK  \n",
      " 6      | 0.2102   |  0.3870   |  0.6881   |  0.8200   |  4.3011    |  0.0916    |  210         <-- skipping  \n",
      " 7      | 0.1593   |  0.3583   |  0.8560   |  0.8671   |  3.7442    |  0.3116    |  165         <-- OK  \n",
      " 8      | 0.1850   |  0.3920   |  0.7807   |  0.8435   |  4.0345    |  0.2007    |  225         <-- skipping  \n",
      " 9      | 0.1816   |  0.3871   |  0.8225   |  0.8455   |  3.9976    |  0.2152    |  195         <-- OK  \n",
      "10      | 0.2194   |  0.4027   |  0.7020   |  0.8096   |  4.3935    |  0.0521    |  135         <-- skipping  \n",
      "11      | 0.1798   |  0.3507   |  0.7807   |  0.8478   |  3.9776    |  0.2231    |   12         <-- OK  \n",
      "12      | 0.2143   |  0.3936   |  0.6992   |  0.8161   |  4.3429    |  0.0738    |   60         <-- skipping  \n",
      "13      | 0.1910   |  0.3804   |  0.7522   |  0.8366   |  4.0996    |  0.1747    |   60         <-- skipping  \n",
      "14      | 0.1908   |  0.3704   |  0.7483   |  0.8376   |  4.0975    |  0.1755    |   15         <-- skipping  \n",
      "15      | 0.1916   |  0.3893   |  0.7907   |  0.8385   |  4.1064    |  0.1719    |  210         <-- skipping  \n",
      "16      | 0.1840   |  0.3696   |  0.7796   |  0.8435   |  4.0241    |  0.2048    |  240         <-- skipping  \n",
      "17      | 0.1959   |  0.3753   |  0.7545   |  0.8330   |  4.1522    |  0.1534    |  180         <-- skipping  \n",
      "18      | 0.2338   |  0.4253   |  0.6484   |  0.7963   |  4.5356    |  -0.0102    |   90         <-- skipping  \n",
      "19      | 0.1983   |  0.3844   |  0.7154   |  0.8337   |  4.1775    |  0.1430    |   12         <-- skipping  \n",
      "-------------------------------------------------------------------------------------------------\n",
      "5/20 models passed validation threshold and will be ensembled.\n"
     ]
    }
   ],
   "source": [
    "from sklearn.linear_model import Lasso\n",
    "from sklearn.feature_selection import RFECV\n",
    "from sklearn.preprocessing import RobustScaler\n",
    "from sklearn.model_selection import StratifiedShuffleSplit, GridSearchCV\n",
    "from sklearn.metrics import mean_squared_error, mean_absolute_error, roc_auc_score, r2_score, make_scorer\n",
    "from sklearn.metrics.pairwise import cosine_similarity, euclidean_distances\n",
    "\n",
    "\n",
    "\n",
    "# some settings\n",
    "rfe_min_features = 12\n",
    "rfe_step = 15\n",
    "rfe_cv = 5\n",
    "sss_n_splits = 20\n",
    "sss_test_size = 0.35\n",
    "grid_search_cv = 20\n",
    "noise_std = 0.01\n",
    "r2_threshold = 0.21\n",
    "random_seed = 213\n",
    "\n",
    "# data\n",
    "train_X = train_set.values\n",
    "train_y = target_set\n",
    "test = test_set.values\n",
    "\n",
    "# scale using RobustScaler on train + test\n",
    "data = RobustScaler().fit_transform(np.concatenate((train_X, test), axis=0))\n",
    "train_X = data[:250]\n",
    "test = data[250:]\n",
    "\n",
    "# add a bit of noise to train_X to reduce overfitting\n",
    "#train_X += np.random.normal(0, noise_std, train_X.shape)\n",
    "\n",
    "# define roc_auc_metric robust to only one class in y_pred\n",
    "def scoring_roc_auc(y, y_pred):\n",
    "    try:\n",
    "        return roc_auc_score(y, y_pred)\n",
    "    except:\n",
    "        return 0.5\n",
    "\n",
    "robust_roc_auc = make_scorer(scoring_roc_auc)\n",
    "\n",
    "# define model and its parameters\n",
    "model = Lasso(alpha=0.031, tol=0.01, random_state=random_seed, selection='random')\n",
    "#model = LogisticRegression(solver = 'liblinear')\n",
    "\n",
    "param_grid = {\n",
    "            'alpha' : [0.022, 0.021, 0.02, 0.019, 0.023, 0.024, 0.025, 0.026, 0.027, 0.029, 0.031],\n",
    "            'tol'   : [0.0013, 0.0014, 0.001, 0.0015, 0.0011, 0.0012, 0.0016, 0.0017]\n",
    "        }\n",
    "\n",
    "feature_selector = RFECV(model, min_features_to_select=rfe_min_features, scoring=robust_roc_auc, \n",
    "                         step=rfe_step, verbose=0, cv=rfe_cv, n_jobs=-1)\n",
    "\n",
    "print(\"counter | val_mse  |  val_mae  |  val_roc  |  val_cos  |  val_dist  |  val_r2    | feature_count \")\n",
    "print(\"-------------------------------------------------------------------------------------------------\")\n",
    "\n",
    "predictions = pd.DataFrame()\n",
    "counter = 0\n",
    "\n",
    "# split training data to build one model on each traing-data-subset\n",
    "for train_index, val_index in StratifiedShuffleSplit(n_splits=sss_n_splits, test_size=sss_test_size, \n",
    "                                                     random_state=random_seed).split(train_X, train_y):\n",
    "    X, val_X = train_X[train_index], train_X[val_index]\n",
    "    y, val_y = train_y[train_index], train_y[val_index]\n",
    "\n",
    "    # get the best features for this data set\n",
    "    feature_selector.fit(X, y)\n",
    "    # remove irrelevant features from X, val_X and test\n",
    "    X_important_features        = feature_selector.transform(X)\n",
    "    val_X_important_features    = feature_selector.transform(val_X)\n",
    "    test_important_features     = feature_selector.transform(test)\n",
    "\n",
    "    # run grid search to find the best Lasso parameters for this subset of training data and subset of features \n",
    "    grid_search = GridSearchCV(feature_selector.estimator_, param_grid=param_grid, verbose=0, n_jobs=-1, \n",
    "                               scoring=robust_roc_auc, cv=20, iid=False)\n",
    "    grid_search.fit(X_important_features, y)\n",
    "\n",
    "    # score our fitted model on validation data\n",
    "    val_y_pred = grid_search.best_estimator_.predict(val_X_important_features)\n",
    "    val_mse = mean_squared_error(val_y, val_y_pred)\n",
    "    val_mae = mean_absolute_error(val_y, val_y_pred)\n",
    "    val_roc = roc_auc_score(val_y, val_y_pred)\n",
    "    val_cos = cosine_similarity(val_y.values.reshape(1, -1), val_y_pred.reshape(1, -1))[0][0]\n",
    "    val_dst = euclidean_distances(val_y.values.reshape(1, -1), val_y_pred.reshape(1, -1))[0][0]\n",
    "    val_r2  = r2_score(val_y, val_y_pred)\n",
    "\n",
    "    # if model did well on validation, save its prediction on test data, using only important features\n",
    "    # r2_threshold (0.185) is a heuristic threshold for r2 error\n",
    "    # you can use any other metric/metric combination that works for you\n",
    "    if val_r2 > r2_threshold:\n",
    "        message = '<-- OK'\n",
    "        prediction = grid_search.best_estimator_.predict(test_important_features)\n",
    "        predictions = pd.concat([predictions, pd.DataFrame(prediction)], axis=1)\n",
    "    else:\n",
    "        message = '<-- skipping'\n",
    "\n",
    "\n",
    "    print(\"{0:2}      | {1:.4f}   |  {2:.4f}   |  {3:.4f}   |  {4:.4f}   |  {5:.4f}    |  {6:.4f}    |  {7:3}         {8}  \".format(counter, val_mse, val_mae, val_roc, val_cos, val_dst, val_r2, feature_selector.n_features_, message))\n",
    "    \n",
    "    counter += 1\n",
    "\n",
    "print(\"-------------------------------------------------------------------------------------------------\")\n",
    "print(\"{}/{} models passed validation threshold and will be ensembled.\".format(len(predictions.columns), sss_n_splits))\n"
   ]
  },
  {
   "cell_type": "code",
   "execution_count": 1166,
   "metadata": {
    "collapsed": true
   },
   "outputs": [],
   "source": [
    "mean_pred = pd.DataFrame(predictions.mean(axis=1))\n",
    "mean_pred.index += 250\n",
    "mean_pred.columns = ['target']\n",
    "mean_pred.to_csv('submission_mean_lasso.csv', index_label='id', index=True)  "
   ]
  },
  {
   "cell_type": "markdown",
   "metadata": {},
   "source": [
    "Mean of (Lassos + best LogReg)"
   ]
  },
  {
   "cell_type": "code",
   "execution_count": 1162,
   "metadata": {},
   "outputs": [
    {
     "data": {
      "text/plain": [
       "LogisticRegression(C=0.1, class_weight=None, dual=False, fit_intercept=True,\n",
       "          intercept_scaling=1, max_iter=100, multi_class='warn',\n",
       "          n_jobs=None, penalty='l1', random_state=None, solver='liblinear',\n",
       "          tol=0.0001, verbose=0, warm_start=False)"
      ]
     },
     "execution_count": 1162,
     "metadata": {},
     "output_type": "execute_result"
    }
   ],
   "source": [
    "log_reg_2 = LogisticRegression(penalty='l1', C=0.1, solver='liblinear')\n",
    "log_reg_2.fit(X_train, y_train)"
   ]
  },
  {
   "cell_type": "code",
   "execution_count": 1176,
   "metadata": {},
   "outputs": [],
   "source": [
    "predictions_tot = pd.concat([predictions, pd.DataFrame(log_reg_2.predict_proba(X_test)[:,1])], axis=1)\n",
    "mean_pred_lasso_logreg = pd.DataFrame(predictions_tot.mean(axis=1))\n",
    "mean_pred_lasso_logreg.index += 250\n",
    "mean_pred_lasso_logreg.columns = ['target']\n",
    "mean_pred_lasso_logreg.to_csv('submission_mean_lasso_logreg.csv', index_label='id', index=True)"
   ]
  },
  {
   "cell_type": "code",
   "execution_count": 1177,
   "metadata": {},
   "outputs": [
    {
     "data": {
      "text/html": [
       "<div>\n",
       "<style>\n",
       "    .dataframe thead tr:only-child th {\n",
       "        text-align: right;\n",
       "    }\n",
       "\n",
       "    .dataframe thead th {\n",
       "        text-align: left;\n",
       "    }\n",
       "\n",
       "    .dataframe tbody tr th {\n",
       "        vertical-align: top;\n",
       "    }\n",
       "</style>\n",
       "<table border=\"1\" class=\"dataframe\">\n",
       "  <thead>\n",
       "    <tr style=\"text-align: right;\">\n",
       "      <th></th>\n",
       "      <th>target</th>\n",
       "    </tr>\n",
       "  </thead>\n",
       "  <tbody>\n",
       "    <tr>\n",
       "      <th>250</th>\n",
       "      <td>0.708647</td>\n",
       "    </tr>\n",
       "    <tr>\n",
       "      <th>251</th>\n",
       "      <td>0.654836</td>\n",
       "    </tr>\n",
       "    <tr>\n",
       "      <th>252</th>\n",
       "      <td>0.647880</td>\n",
       "    </tr>\n",
       "    <tr>\n",
       "      <th>253</th>\n",
       "      <td>0.827480</td>\n",
       "    </tr>\n",
       "    <tr>\n",
       "      <th>254</th>\n",
       "      <td>0.511009</td>\n",
       "    </tr>\n",
       "  </tbody>\n",
       "</table>\n",
       "</div>"
      ],
      "text/plain": [
       "       target\n",
       "250  0.708647\n",
       "251  0.654836\n",
       "252  0.647880\n",
       "253  0.827480\n",
       "254  0.511009"
      ]
     },
     "execution_count": 1177,
     "metadata": {},
     "output_type": "execute_result"
    }
   ],
   "source": [
    "mean_pred_lasso_logreg.head()"
   ]
  },
  {
   "cell_type": "markdown",
   "metadata": {},
   "source": [
    "Mean( (Mean Lassos) + best LogReg )"
   ]
  },
  {
   "cell_type": "code",
   "execution_count": 1142,
   "metadata": {},
   "outputs": [],
   "source": [
    "pred_meanlasso = predictions.mean(axis=1)\n",
    "pred_meanlasso_logreg = pd.concat([pred_meanlasso, pd.DataFrame(log_reg_2.predict_proba(X_test)[:,1])], axis=1)\n",
    "mean_pred = pd.DataFrame(pred_meanlasso_logreg.mean(axis=1))\n",
    "mean_pred.index += 250\n",
    "mean_pred.columns = ['target']\n",
    "mean_pred.to_csv('submission_mean_lasso_logreg_2.csv', index_label='id', index=True)"
   ]
  },
  {
   "cell_type": "code",
   "execution_count": 1143,
   "metadata": {},
   "outputs": [
    {
     "data": {
      "text/html": [
       "<div>\n",
       "<style>\n",
       "    .dataframe thead tr:only-child th {\n",
       "        text-align: right;\n",
       "    }\n",
       "\n",
       "    .dataframe thead th {\n",
       "        text-align: left;\n",
       "    }\n",
       "\n",
       "    .dataframe tbody tr th {\n",
       "        vertical-align: top;\n",
       "    }\n",
       "</style>\n",
       "<table border=\"1\" class=\"dataframe\">\n",
       "  <thead>\n",
       "    <tr style=\"text-align: right;\">\n",
       "      <th></th>\n",
       "      <th>target</th>\n",
       "    </tr>\n",
       "  </thead>\n",
       "  <tbody>\n",
       "    <tr>\n",
       "      <th>250</th>\n",
       "      <td>0.718661</td>\n",
       "    </tr>\n",
       "    <tr>\n",
       "      <th>251</th>\n",
       "      <td>0.609425</td>\n",
       "    </tr>\n",
       "    <tr>\n",
       "      <th>252</th>\n",
       "      <td>0.610963</td>\n",
       "    </tr>\n",
       "    <tr>\n",
       "      <th>253</th>\n",
       "      <td>0.836798</td>\n",
       "    </tr>\n",
       "    <tr>\n",
       "      <th>254</th>\n",
       "      <td>0.525313</td>\n",
       "    </tr>\n",
       "  </tbody>\n",
       "</table>\n",
       "</div>"
      ],
      "text/plain": [
       "       target\n",
       "250  0.718661\n",
       "251  0.609425\n",
       "252  0.610963\n",
       "253  0.836798\n",
       "254  0.525313"
      ]
     },
     "execution_count": 1143,
     "metadata": {},
     "output_type": "execute_result"
    }
   ],
   "source": [
    "mean_pred.head()"
   ]
  },
  {
   "cell_type": "markdown",
   "metadata": {},
   "source": [
    "### ExtraTrees"
   ]
  },
  {
   "cell_type": "code",
   "execution_count": 395,
   "metadata": {},
   "outputs": [
    {
     "name": "stderr",
     "output_type": "stream",
     "text": [
      "/Users/Benjamin/anaconda/lib/python3.6/site-packages/sklearn/model_selection/_search.py:841: DeprecationWarning: The default of the `iid` parameter will change from True to False in version 0.22 and will be removed in 0.24. This will change numeric results when test-set sizes are unequal.\n",
      "  DeprecationWarning)\n"
     ]
    },
    {
     "data": {
      "text/plain": [
       "ExtraTreesClassifier(bootstrap=False, class_weight=None, criterion='gini',\n",
       "           max_depth=5, max_features='auto', max_leaf_nodes=10,\n",
       "           min_impurity_decrease=0.0, min_impurity_split=None,\n",
       "           min_samples_leaf=1, min_samples_split=2,\n",
       "           min_weight_fraction_leaf=0.0, n_estimators=5, n_jobs=None,\n",
       "           oob_score=False, random_state=42, verbose=0, warm_start=False)"
      ]
     },
     "execution_count": 395,
     "metadata": {},
     "output_type": "execute_result"
    }
   ],
   "source": [
    "from sklearn.ensemble import ExtraTreesClassifier\n",
    "\n",
    "forest_clf = ExtraTreesClassifier(random_state=42)\n",
    "\n",
    "from sklearn.model_selection import GridSearchCV\n",
    "\n",
    "param_grid = [\n",
    "    {'n_estimators': [5,10], 'max_depth': [5,10,20], 'max_leaf_nodes': [10,20,50]},\n",
    "]\n",
    "\n",
    "grid_search_extra_forest = GridSearchCV(forest_clf, param_grid, cv=4, \n",
    "                                  scoring = \"neg_mean_squared_error\", return_train_score = True)\n",
    "grid_search_extra_forest.fit(X_train,y_train)\n",
    "extra_trees_clf = grid_search_extra_forest.best_estimator_\n",
    "extra_trees_clf"
   ]
  },
  {
   "cell_type": "code",
   "execution_count": 396,
   "metadata": {},
   "outputs": [
    {
     "name": "stdout",
     "output_type": "stream",
     "text": [
      "CV scores mean:     0.6357917150600078 \n",
      "CV scores std dev:  0.02446942667822949\n",
      "CV auc scores mean:     0.6234647040202596 \n",
      "CV auc scores std dev:  0.040366854450150744\n"
     ]
    }
   ],
   "source": [
    "scores_mean, scores_dev = CV_scores(extra_trees_clf, X_train, y_train)\n",
    "print(\"CV scores mean:    \", scores_mean, \"\\nCV scores std dev: \", scores_dev)\n",
    "scores_mean_auc, scores_dev_auc = CV_scores_auc(extra_trees_clf, X_train, y_train)\n",
    "print(\"CV auc scores mean:    \", scores_mean_auc, \"\\nCV auc scores std dev: \", scores_dev_auc)"
   ]
  },
  {
   "cell_type": "code",
   "execution_count": 397,
   "metadata": {},
   "outputs": [
    {
     "data": {
      "image/png": "[encoded data removed]",
      "text/plain": [
       "<matplotlib.figure.Figure at 0x11b67d470>"
      ]
     },
     "metadata": {},
     "output_type": "display_data"
    }
   ],
   "source": [
    "plot_learning_curves(extra_trees_clf, X_train, y_train)\n",
    "plt.axis([0, 200, 0, 1])                     \n",
    "plt.show() "
   ]
  },
  {
   "cell_type": "markdown",
   "metadata": {
    "collapsed": true
   },
   "source": [
    "## Selecting features"
   ]
  },
  {
   "cell_type": "markdown",
   "metadata": {},
   "source": [
    "Ordering features by squared correlation with target (to eliminate sign)"
   ]
  },
  {
   "cell_type": "code",
   "execution_count": 994,
   "metadata": {},
   "outputs": [
    {
     "data": {
      "text/plain": [
       "target    1.000000\n",
       "33        0.139583\n",
       "65        0.086346\n",
       "217       0.042938\n",
       "117       0.039005\n",
       "Name: target, dtype: float64"
      ]
     },
     "execution_count": 994,
     "metadata": {},
     "output_type": "execute_result"
    }
   ],
   "source": [
    "corr_matrix = train_data.drop(\"id\", axis=1).corr()\n",
    "corr_with_target = corr_matrix[\"target\"]\n",
    "corr_with_target_squared = np.power(corr_with_target, 2)\n",
    "corr_with_target_squared = corr_with_target_squared.sort_values(ascending=False)\n",
    "corr_with_target_squared.head()"
   ]
  },
  {
   "cell_type": "code",
   "execution_count": 995,
   "metadata": {
    "collapsed": true
   },
   "outputs": [],
   "source": [
    "list_features = corr_with_target_squared.keys()[1:]"
   ]
  },
  {
   "cell_type": "code",
   "execution_count": 996,
   "metadata": {},
   "outputs": [
    {
     "data": {
      "text/plain": [
       "Index(['33', '65', '217', '117', '91', '24', '295', '73', '183', '80',\n",
       "       ...\n",
       "       '40', '191', '207', '136', '74', '20', '224', '172', '195', '75'],\n",
       "      dtype='object', length=300)"
      ]
     },
     "execution_count": 996,
     "metadata": {},
     "output_type": "execute_result"
    }
   ],
   "source": [
    "list_features"
   ]
  },
  {
   "cell_type": "code",
   "execution_count": 997,
   "metadata": {
    "collapsed": true
   },
   "outputs": [],
   "source": [
    "n_features = 3\n",
    "train_set_reduced = train_set[list_features[:n_features]]\n",
    "test_set_reduced = test_set[list_features[:n_features]]"
   ]
  },
  {
   "cell_type": "code",
   "execution_count": 998,
   "metadata": {},
   "outputs": [
    {
     "data": {
      "text/html": [
       "<div>\n",
       "<style>\n",
       "    .dataframe thead tr:only-child th {\n",
       "        text-align: right;\n",
       "    }\n",
       "\n",
       "    .dataframe thead th {\n",
       "        text-align: left;\n",
       "    }\n",
       "\n",
       "    .dataframe tbody tr th {\n",
       "        vertical-align: top;\n",
       "    }\n",
       "</style>\n",
       "<table border=\"1\" class=\"dataframe\">\n",
       "  <thead>\n",
       "    <tr style=\"text-align: right;\">\n",
       "      <th></th>\n",
       "      <th>33</th>\n",
       "      <th>65</th>\n",
       "      <th>217</th>\n",
       "    </tr>\n",
       "  </thead>\n",
       "  <tbody>\n",
       "    <tr>\n",
       "      <th>0</th>\n",
       "      <td>0.385</td>\n",
       "      <td>-0.770</td>\n",
       "      <td>1.187</td>\n",
       "    </tr>\n",
       "    <tr>\n",
       "      <th>1</th>\n",
       "      <td>-2.721</td>\n",
       "      <td>1.221</td>\n",
       "      <td>0.216</td>\n",
       "    </tr>\n",
       "    <tr>\n",
       "      <th>2</th>\n",
       "      <td>0.924</td>\n",
       "      <td>0.943</td>\n",
       "      <td>0.269</td>\n",
       "    </tr>\n",
       "    <tr>\n",
       "      <th>3</th>\n",
       "      <td>0.394</td>\n",
       "      <td>-0.706</td>\n",
       "      <td>0.066</td>\n",
       "    </tr>\n",
       "    <tr>\n",
       "      <th>4</th>\n",
       "      <td>0.037</td>\n",
       "      <td>0.357</td>\n",
       "      <td>0.110</td>\n",
       "    </tr>\n",
       "  </tbody>\n",
       "</table>\n",
       "</div>"
      ],
      "text/plain": [
       "      33     65    217\n",
       "0  0.385 -0.770  1.187\n",
       "1 -2.721  1.221  0.216\n",
       "2  0.924  0.943  0.269\n",
       "3  0.394 -0.706  0.066\n",
       "4  0.037  0.357  0.110"
      ]
     },
     "execution_count": 998,
     "metadata": {},
     "output_type": "execute_result"
    }
   ],
   "source": [
    "train_set_reduced.head()"
   ]
  },
  {
   "cell_type": "code",
   "execution_count": 999,
   "metadata": {},
   "outputs": [
    {
     "data": {
      "text/html": [
       "<div>\n",
       "<style>\n",
       "    .dataframe thead tr:only-child th {\n",
       "        text-align: right;\n",
       "    }\n",
       "\n",
       "    .dataframe thead th {\n",
       "        text-align: left;\n",
       "    }\n",
       "\n",
       "    .dataframe tbody tr th {\n",
       "        vertical-align: top;\n",
       "    }\n",
       "</style>\n",
       "<table border=\"1\" class=\"dataframe\">\n",
       "  <thead>\n",
       "    <tr style=\"text-align: right;\">\n",
       "      <th></th>\n",
       "      <th>33</th>\n",
       "      <th>65</th>\n",
       "      <th>217</th>\n",
       "    </tr>\n",
       "  </thead>\n",
       "  <tbody>\n",
       "    <tr>\n",
       "      <th>0</th>\n",
       "      <td>1.988</td>\n",
       "      <td>-1.010</td>\n",
       "      <td>-0.904</td>\n",
       "    </tr>\n",
       "    <tr>\n",
       "      <th>1</th>\n",
       "      <td>0.543</td>\n",
       "      <td>-0.781</td>\n",
       "      <td>0.953</td>\n",
       "    </tr>\n",
       "    <tr>\n",
       "      <th>2</th>\n",
       "      <td>-1.191</td>\n",
       "      <td>-0.529</td>\n",
       "      <td>-1.201</td>\n",
       "    </tr>\n",
       "    <tr>\n",
       "      <th>3</th>\n",
       "      <td>0.542</td>\n",
       "      <td>0.754</td>\n",
       "      <td>1.502</td>\n",
       "    </tr>\n",
       "    <tr>\n",
       "      <th>4</th>\n",
       "      <td>0.635</td>\n",
       "      <td>-1.210</td>\n",
       "      <td>0.460</td>\n",
       "    </tr>\n",
       "  </tbody>\n",
       "</table>\n",
       "</div>"
      ],
      "text/plain": [
       "      33     65    217\n",
       "0  1.988 -1.010 -0.904\n",
       "1  0.543 -0.781  0.953\n",
       "2 -1.191 -0.529 -1.201\n",
       "3  0.542  0.754  1.502\n",
       "4  0.635 -1.210  0.460"
      ]
     },
     "execution_count": 999,
     "metadata": {},
     "output_type": "execute_result"
    }
   ],
   "source": [
    "test_set_reduced.head()"
   ]
  },
  {
   "cell_type": "code",
   "execution_count": 1000,
   "metadata": {
    "collapsed": true
   },
   "outputs": [],
   "source": [
    "from sklearn.pipeline import Pipeline\n",
    "from sklearn.impute import SimpleImputer\n",
    "from sklearn.preprocessing import StandardScaler\n",
    "\n",
    "\n",
    "prepare_pipeline = Pipeline([\n",
    "    (\"imputer\", SimpleImputer(strategy=\"mean\")),\n",
    "    (\"scaler\", StandardScaler()),\n",
    "])\n",
    "\n",
    "X_train_red = prepare_pipeline.fit_transform(train_set_reduced)\n",
    "y_train = np.array(train_data[\"target\"])\n",
    "X_test_red = prepare_pipeline.fit_transform(test_set_reduced)"
   ]
  },
  {
   "cell_type": "code",
   "execution_count": 1001,
   "metadata": {},
   "outputs": [
    {
     "name": "stderr",
     "output_type": "stream",
     "text": [
      "/Users/Benjamin/anaconda/lib/python3.6/site-packages/sklearn/model_selection/_search.py:841: DeprecationWarning: The default of the `iid` parameter will change from True to False in version 0.22 and will be removed in 0.24. This will change numeric results when test-set sizes are unequal.\n",
      "  DeprecationWarning)\n"
     ]
    },
    {
     "data": {
      "text/plain": [
       "RandomForestClassifier(bootstrap=True, class_weight=None, criterion='gini',\n",
       "            max_depth=10, max_features='auto', max_leaf_nodes=10,\n",
       "            min_impurity_decrease=0.0, min_impurity_split=None,\n",
       "            min_samples_leaf=1, min_samples_split=2,\n",
       "            min_weight_fraction_leaf=0.0, n_estimators=5, n_jobs=None,\n",
       "            oob_score=False, random_state=42, verbose=0, warm_start=False)"
      ]
     },
     "execution_count": 1001,
     "metadata": {},
     "output_type": "execute_result"
    }
   ],
   "source": [
    "from sklearn.ensemble import RandomForestClassifier\n",
    "\n",
    "forest_clf = RandomForestClassifier(random_state=42)\n",
    "\n",
    "from sklearn.model_selection import GridSearchCV\n",
    "\n",
    "param_grid = [\n",
    "    {'n_estimators': [3,5,8], 'max_depth': [10,20], 'max_leaf_nodes': [10,20,50]},\n",
    "]\n",
    "\n",
    "grid_search_forest_2 = GridSearchCV(forest_clf, param_grid, cv=4, \n",
    "                                  scoring = \"neg_mean_squared_error\", return_train_score = True)\n",
    "grid_search_forest_2.fit(X_train_red,y_train)\n",
    "best_forest_clf_2 = grid_search_forest_2.best_estimator_\n",
    "best_forest_clf_2"
   ]
  },
  {
   "cell_type": "code",
   "execution_count": 1002,
   "metadata": {},
   "outputs": [
    {
     "name": "stdout",
     "output_type": "stream",
     "text": [
      "CV scores mean:     0.708091366627952 \n",
      "CV scores std dev:  0.024614282384408454\n",
      "CV auc scores mean:     0.7311174422285532 \n",
      "CV auc scores std dev:  0.028632933601372184\n"
     ]
    }
   ],
   "source": [
    "scores_mean, scores_dev = CV_scores(best_forest_clf_2, X_train_red, y_train)\n",
    "print(\"CV scores mean:    \", scores_mean, \"\\nCV scores std dev: \", scores_dev)\n",
    "scores_mean_auc, scores_dev_auc = CV_scores_auc(best_forest_clf_2, X_train_red, y_train)\n",
    "print(\"CV auc scores mean:    \", scores_mean_auc, \"\\nCV auc scores std dev: \", scores_dev_auc)"
   ]
  },
  {
   "cell_type": "code",
   "execution_count": 1003,
   "metadata": {},
   "outputs": [
    {
     "data": {
      "image/png": "[encoded data removed]",
      "text/plain": [
       "<matplotlib.figure.Figure at 0x1a28777160>"
      ]
     },
     "metadata": {},
     "output_type": "display_data"
    }
   ],
   "source": [
    "plot_learning_curves(best_forest_clf_2, X_train_red, y_train)\n",
    "plt.axis([0, 200, 0, 1])                     \n",
    "plt.show() "
   ]
  },
  {
   "cell_type": "code",
   "execution_count": 991,
   "metadata": {},
   "outputs": [
    {
     "name": "stderr",
     "output_type": "stream",
     "text": [
      "/Users/Benjamin/anaconda/lib/python3.6/site-packages/sklearn/model_selection/_search.py:841: DeprecationWarning: The default of the `iid` parameter will change from True to False in version 0.22 and will be removed in 0.24. This will change numeric results when test-set sizes are unequal.\n",
      "  DeprecationWarning)\n"
     ]
    },
    {
     "data": {
      "text/plain": [
       "SVC(C=0.1, cache_size=200, class_weight=None, coef0=1,\n",
       "  decision_function_shape='ovr', degree=1, gamma=0.03, kernel='poly',\n",
       "  max_iter=-1, probability=False, random_state=None, shrinking=True,\n",
       "  tol=0.001, verbose=False)"
      ]
     },
     "execution_count": 991,
     "metadata": {},
     "output_type": "execute_result"
    }
   ],
   "source": [
    "from sklearn.svm import SVC\n",
    "from sklearn.model_selection import GridSearchCV\n",
    "\n",
    "poly_kernel_svm_clf = SVC(kernel=\"poly\", coef0 = 1)\n",
    "\n",
    "param_grid = [\n",
    "    {'degree': [1,2,3], 'C': [0.1,1,10], 'gamma': [0.03,0.1,0.3]},\n",
    "]\n",
    "\n",
    "grid_search_svm_2 = GridSearchCV(poly_kernel_svm_clf, param_grid, cv=4, \n",
    "                                  scoring = \"neg_mean_squared_error\", return_train_score = True)\n",
    "grid_search_svm_2.fit(X_train_red,y_train)\n",
    "best_svm_clf_2 = grid_search_svm_2.best_estimator_\n",
    "best_svm_clf_2"
   ]
  },
  {
   "cell_type": "code",
   "execution_count": 992,
   "metadata": {},
   "outputs": [
    {
     "name": "stdout",
     "output_type": "stream",
     "text": [
      "CV scores mean:     0.7002516453735965 \n",
      "CV scores std dev:  0.045985083247170745\n",
      "CV auc scores mean:     0.7383032605254828 \n",
      "CV auc scores std dev:  0.08500817229012116\n"
     ]
    }
   ],
   "source": [
    "scores_mean, scores_dev = CV_scores(best_svm_clf_2, X_train_red, y_train)\n",
    "print(\"CV scores mean:    \", scores_mean, \"\\nCV scores std dev: \", scores_dev)\n",
    "scores_mean_auc, scores_dev_auc = CV_scores_auc(best_svm_clf_2, X_train_red, y_train)\n",
    "print(\"CV auc scores mean:    \", scores_mean_auc, \"\\nCV auc scores std dev: \", scores_dev_auc)"
   ]
  },
  {
   "cell_type": "code",
   "execution_count": 993,
   "metadata": {},
   "outputs": [
    {
     "data": {
      "image/png": "[encoded data removed]",
      "text/plain": [
       "<matplotlib.figure.Figure at 0x11966ee80>"
      ]
     },
     "metadata": {},
     "output_type": "display_data"
    }
   ],
   "source": [
    "plot_learning_curves(best_svm_clf_2, X_train_red, y_train)\n",
    "plt.axis([0, 200, 0, 1])                     \n",
    "plt.show() "
   ]
  },
  {
   "cell_type": "markdown",
   "metadata": {},
   "source": [
    "### Sequential feature selection"
   ]
  },
  {
   "cell_type": "code",
   "execution_count": 1076,
   "metadata": {
    "collapsed": true
   },
   "outputs": [],
   "source": [
    "from mlxtend.feature_selection import SequentialFeatureSelector as SFS"
   ]
  },
  {
   "cell_type": "code",
   "execution_count": 1077,
   "metadata": {},
   "outputs": [],
   "source": [
    "log_reg_clf = LogisticRegression(penalty='l2', C=0.1, solver='liblinear')\n",
    "\n",
    "sfs1 = SFS(log_reg_clf, k_features=(10,20), forward=True, floating=False, verbose=0, \n",
    "           scoring='roc_auc', cv=6, n_jobs=-1)\n",
    "\n",
    "sfs1 = sfs1.fit(X_train, y_train)"
   ]
  },
  {
   "cell_type": "code",
   "execution_count": 1078,
   "metadata": {},
   "outputs": [
    {
     "data": {
      "text/plain": [
       "['8',\n",
       " '16',\n",
       " '33',\n",
       " '39',\n",
       " '65',\n",
       " '69',\n",
       " '73',\n",
       " '82',\n",
       " '91',\n",
       " '108',\n",
       " '117',\n",
       " '189',\n",
       " '199',\n",
       " '217',\n",
       " '229',\n",
       " '249',\n",
       " '258',\n",
       " '295']"
      ]
     },
     "execution_count": 1078,
     "metadata": {},
     "output_type": "execute_result"
    }
   ],
   "source": [
    "top_features = list(sfs1.k_feature_names_)\n",
    "top_features"
   ]
  },
  {
   "cell_type": "code",
   "execution_count": 1079,
   "metadata": {},
   "outputs": [],
   "source": [
    "X_train_sfs = prepare_pipeline.fit_transform(train_set[top_features])"
   ]
  },
  {
   "cell_type": "code",
   "execution_count": 1080,
   "metadata": {},
   "outputs": [
    {
     "name": "stdout",
     "output_type": "stream",
     "text": [
      "CV scores mean:     0.8240418118466898 \n",
      "CV scores std dev:  0.03537311588724473\n",
      "CV auc scores mean:     0.9363880974992087 \n",
      "CV auc scores std dev:  0.029617574549180677\n"
     ]
    }
   ],
   "source": [
    "scores_mean, scores_dev = CV_scores(log_reg_clf, X_train_sfs, y_train)\n",
    "print(\"CV scores mean:    \", scores_mean, \"\\nCV scores std dev: \", scores_dev)\n",
    "scores_mean_auc, scores_dev_auc = CV_scores_auc(log_reg_clf, X_train_sfs, y_train)\n",
    "print(\"CV auc scores mean:    \", scores_mean_auc, \"\\nCV auc scores std dev: \", scores_dev_auc)"
   ]
  },
  {
   "cell_type": "code",
   "execution_count": 1081,
   "metadata": {},
   "outputs": [
    {
     "data": {
      "image/png": "[encoded data removed]",
      "text/plain": [
       "<matplotlib.figure.Figure at 0x1a2a66fcf8>"
      ]
     },
     "metadata": {},
     "output_type": "display_data"
    }
   ],
   "source": [
    "plot_learning_curves(log_reg_clf, X_train_sfs, y_train)\n",
    "plt.axis([0, 200, 0, 1])                     \n",
    "plt.show() "
   ]
  },
  {
   "cell_type": "code",
   "execution_count": 1083,
   "metadata": {},
   "outputs": [],
   "source": [
    "log_reg_clf.fit(X_train_sfs,y_train)\n",
    "\n",
    "X_test_sfs = prepare_pipeline.fit_transform(test_set[top_features])\n",
    "y_pred_sfs = log_reg_clf.predict_proba(X_test_sfs)\n",
    "df_pred_sfs = pd.DataFrame({'id': ids, 'target': y_pred_sfs[:,1]})  \n",
    "df_pred_sfs[['id', 'target']].to_csv('submission_sfs.csv', index=False) "
   ]
  },
  {
   "cell_type": "markdown",
   "metadata": {
    "collapsed": true
   },
   "source": [
    "## Dimensionnality reduction"
   ]
  },
  {
   "cell_type": "code",
   "execution_count": 311,
   "metadata": {
    "collapsed": true
   },
   "outputs": [],
   "source": [
    "from sklearn.decomposition import PCA"
   ]
  },
  {
   "cell_type": "code",
   "execution_count": 418,
   "metadata": {},
   "outputs": [
    {
     "data": {
      "text/plain": [
       "array([0.01415622, 0.01393714, 0.01348502, 0.01315009, 0.01307046,\n",
       "       0.0126725 , 0.01243153, 0.01227743, 0.01211999, 0.01181826])"
      ]
     },
     "execution_count": 418,
     "metadata": {},
     "output_type": "execute_result"
    }
   ],
   "source": [
    "pca = PCA()\n",
    "\n",
    "pca.fit(X_train)\n",
    "pca.explained_variance_ratio_[:10]"
   ]
  },
  {
   "cell_type": "code",
   "execution_count": 419,
   "metadata": {},
   "outputs": [
    {
     "data": {
      "text/plain": [
       "250"
      ]
     },
     "execution_count": 419,
     "metadata": {},
     "output_type": "execute_result"
    }
   ],
   "source": [
    "len(pca.explained_variance_ratio_)  # the number of components is capped by the number of training instances."
   ]
  },
  {
   "cell_type": "code",
   "execution_count": 420,
   "metadata": {},
   "outputs": [
    {
     "data": {
      "image/png": "[encoded data removed]",
      "text/plain": [
       "<matplotlib.figure.Figure at 0x11b9e2dd8>"
      ]
     },
     "metadata": {},
     "output_type": "display_data"
    }
   ],
   "source": [
    "cum_sum = np.cumsum(pca.explained_variance_ratio_)\n",
    "\n",
    "plt.figure(figsize = (4,4))\n",
    "plt.plot(range(len(cum_sum)), cum_sum, \"b-\")\n",
    "plt.show()"
   ]
  },
  {
   "cell_type": "code",
   "execution_count": 421,
   "metadata": {
    "collapsed": true
   },
   "outputs": [],
   "source": [
    "pca = PCA(n_components = 0.9) # keeps 90 percent variance\n",
    "\n",
    "X_train_red = pca.fit_transform(X_train)"
   ]
  },
  {
   "cell_type": "code",
   "execution_count": 422,
   "metadata": {},
   "outputs": [
    {
     "data": {
      "text/plain": [
       "(250, 139)"
      ]
     },
     "execution_count": 422,
     "metadata": {},
     "output_type": "execute_result"
    }
   ],
   "source": [
    "X_train_red.shape"
   ]
  },
  {
   "cell_type": "code",
   "execution_count": 425,
   "metadata": {},
   "outputs": [
    {
     "name": "stdout",
     "output_type": "stream",
     "text": [
      "CV scores mean:     0.5963995354239258 \n",
      "CV scores std dev:  0.05809716837892613\n",
      "CV auc scores mean:     0.5120528648306426 \n",
      "CV auc scores std dev:  0.11695998312993561\n"
     ]
    }
   ],
   "source": [
    "scores_mean, scores_dev = CV_scores(best_tree_clf, X_train_red, y_train)\n",
    "print(\"CV scores mean:    \", scores_mean, \"\\nCV scores std dev: \", scores_dev)\n",
    "scores_mean_auc, scores_dev_auc = CV_scores_auc(best_tree_clf, X_train_red, y_train)\n",
    "print(\"CV auc scores mean:    \", scores_mean_auc, \"\\nCV auc scores std dev: \", scores_dev_auc)"
   ]
  },
  {
   "cell_type": "code",
   "execution_count": 426,
   "metadata": {},
   "outputs": [
    {
     "data": {
      "image/png": "[encoded data removed]",
      "text/plain": [
       "<matplotlib.figure.Figure at 0x1a24c7a588>"
      ]
     },
     "metadata": {},
     "output_type": "display_data"
    }
   ],
   "source": [
    "plot_learning_curves(best_tree_clf, X_train_red, y_train)\n",
    "plt.axis([0, 200, 0, 1])                     \n",
    "plt.show() "
   ]
  },
  {
   "cell_type": "code",
   "execution_count": 427,
   "metadata": {
    "collapsed": true
   },
   "outputs": [],
   "source": [
    "log_reg_3 = LogisticRegression(penalty='l1', C=0.1, solver='liblinear')"
   ]
  },
  {
   "cell_type": "code",
   "execution_count": 428,
   "metadata": {},
   "outputs": [
    {
     "name": "stdout",
     "output_type": "stream",
     "text": [
      "CV scores mean:     0.6685056136275648 \n",
      "CV scores std dev:  0.07135489424053444\n",
      "CV auc scores mean:     0.7019468186134853 \n",
      "CV auc scores std dev:  0.07234015278623121\n"
     ]
    }
   ],
   "source": [
    "scores_mean, scores_dev = CV_scores(log_reg_3, X_train_red, y_train)\n",
    "print(\"CV scores mean:    \", scores_mean, \"\\nCV scores std dev: \", scores_dev)\n",
    "scores_mean_auc, scores_dev_auc = CV_scores_auc(log_reg_3, X_train_red, y_train)\n",
    "print(\"CV auc scores mean:    \", scores_mean_auc, \"\\nCV auc scores std dev: \", scores_dev_auc)"
   ]
  },
  {
   "cell_type": "code",
   "execution_count": 429,
   "metadata": {
    "collapsed": true
   },
   "outputs": [],
   "source": [
    "from sklearn.manifold import LocallyLinearEmbedding\n",
    "\n",
    "lle = LocallyLinearEmbedding(n_components=20, n_neighbors=10)\n",
    "X_lle_train = lle.fit_transform(X_train)"
   ]
  },
  {
   "cell_type": "code",
   "execution_count": 437,
   "metadata": {},
   "outputs": [
    {
     "name": "stdout",
     "output_type": "stream",
     "text": [
      "CV scores mean:     0.6637630662020906 \n",
      "CV scores std dev:  0.05476244873525327\n",
      "CV auc scores mean:     0.5864751503640393 \n",
      "CV auc scores std dev:  0.0709445484330997\n"
     ]
    }
   ],
   "source": [
    "scores_mean, scores_dev = CV_scores(best_tree_clf, X_lle_train, y_train)\n",
    "print(\"CV scores mean:    \", scores_mean, \"\\nCV scores std dev: \", scores_dev)\n",
    "scores_mean_auc, scores_dev_auc = CV_scores_auc(best_tree_clf, X_lle_train, y_train)\n",
    "print(\"CV auc scores mean:    \", scores_mean_auc, \"\\nCV auc scores std dev: \", scores_dev_auc)"
   ]
  },
  {
   "cell_type": "code",
   "execution_count": 438,
   "metadata": {},
   "outputs": [
    {
     "data": {
      "image/png": "[encoded data removed]",
      "text/plain": [
       "<matplotlib.figure.Figure at 0x11bfc12b0>"
      ]
     },
     "metadata": {},
     "output_type": "display_data"
    }
   ],
   "source": [
    "plot_learning_curves(best_tree_clf, X_lle_train, y_train)\n",
    "plt.axis([0, 200, 0, 1])                     \n",
    "plt.show()"
   ]
  },
  {
   "cell_type": "markdown",
   "metadata": {},
   "source": [
    "## Stacking models"
   ]
  },
  {
   "cell_type": "code",
   "execution_count": 326,
   "metadata": {
    "collapsed": true
   },
   "outputs": [],
   "source": [
    "# Define level 1 classifiers\n",
    "\n",
    "from sklearn.linear_model import SGDClassifier\n",
    "from sklearn.naive_bayes import GaussianNB \n",
    "from sklearn.ensemble import RandomForestClassifier\n",
    "#from lightgbm import LGBMClassifier\n",
    "from sklearn.svm import SVC\n",
    "from sklearn.neighbors import KNeighborsClassifier\n",
    "\n",
    "\n",
    "RANDOM_SEED = 16\n",
    "\n",
    "rf = RandomForestClassifier(n_estimators=500, random_state=RANDOM_SEED)\n",
    "nb = GaussianNB()\n",
    "svc = SVC(kernel='rbf', C=1.0, gamma='auto', probability=True)\n",
    "knn = KNeighborsClassifier(n_neighbors=63)\n",
    "sgd = SGDClassifier(eta0=1, max_iter=1000, tol=0.0001, alpha=0.01, l1_ratio=1.0, \n",
    "                    learning_rate='adaptive', loss='log', penalty='elasticnet')"
   ]
  },
  {
   "cell_type": "code",
   "execution_count": 327,
   "metadata": {
    "collapsed": true
   },
   "outputs": [],
   "source": [
    "# Define level 2 classifier and stacking\n",
    "\n",
    "from sklearn.linear_model import LogisticRegression\n",
    "from mlxtend.classifier import StackingCVClassifier\n",
    "\n",
    "np.random.seed(RANDOM_SEED)\n",
    "lr = LogisticRegression(max_iter=1000, class_weight='balanced', penalty='l1', C=0.1, solver='liblinear')\n",
    "sclf = StackingCVClassifier(classifiers=[knn, rf, nb, sgd], \n",
    "                            use_probas=True,\n",
    "                            use_features_in_secondary=True,\n",
    "                            meta_classifier=lr,\n",
    "                            cv=6)"
   ]
  },
  {
   "cell_type": "code",
   "execution_count": 329,
   "metadata": {},
   "outputs": [
    {
     "name": "stdout",
     "output_type": "stream",
     "text": [
      "Fold:  1\n",
      "0.8775510204081634\n",
      "0.6666666666666666\n",
      "Fold:  2\n",
      "0.7176470588235295\n",
      "0.6904761904761905\n",
      "Fold:  3\n",
      "0.923469387755102\n",
      "0.8095238095238095\n",
      "Fold:  4\n",
      "0.8245192307692308\n",
      "0.7619047619047619\n",
      "Fold:  5\n",
      "0.8284313725490197\n",
      "0.6829268292682927\n",
      "Fold:  6\n",
      "0.861244019138756\n",
      "0.8048780487804879\n",
      "AUC score:       0.8388103482406336\n",
      "Accuracy score:  0.736062717770035\n"
     ]
    }
   ],
   "source": [
    "# Set up K-Fold cross validation and predictions\n",
    "from sklearn.metrics import roc_auc_score\n",
    "from sklearn.model_selection import KFold\n",
    "\n",
    "num_folds = 6\n",
    "folds = KFold(n_splits=num_folds, random_state=16)\n",
    "\n",
    "test_result = np.zeros(len(test_set))\n",
    "auc_score = 0\n",
    "accur_score = 0\n",
    "\n",
    "for fold_, (trn_idx, val_idx) in enumerate(folds.split(train_set, target_set)):\n",
    "    print(\"Fold: \", fold_ + 1)\n",
    "    \n",
    "    X_train, y_train = train_set.iloc[trn_idx], target_set.iloc[trn_idx]\n",
    "    X_valid, y_valid = train_set.iloc[val_idx], target_set.iloc[val_idx]\n",
    "    \n",
    "    sclf.fit(X_train.values, y_train.values)\n",
    "    \n",
    "    y_proba = sclf.predict_proba(X_valid)\n",
    "    auc = roc_auc_score(y_valid, y_proba[:, 1])\n",
    "    print(auc)\n",
    "    auc_score += auc\n",
    "    \n",
    "    y_pred = (y_proba >= 0.5)*1\n",
    "    accur = accuracy_score(y_valid, y_pred[:, 1])\n",
    "    print(accur)\n",
    "    accur_score += accur\n",
    "\n",
    "    preds = sclf.predict_proba(test_set)\n",
    "    test_result += preds[:, 1]\n",
    "\n",
    "# print the average AUC and Accuracy across the folds and compute the final results on the test data\n",
    "auc_score = auc_score / folds.n_splits\n",
    "accur_score = accur_score / folds.n_splits\n",
    "print(\"AUC score:      \", auc_score)\n",
    "print(\"Accuracy score: \", accur_score)\n",
    "test_result = test_result / folds.n_splits"
   ]
  },
  {
   "cell_type": "code",
   "execution_count": 332,
   "metadata": {
    "collapsed": true
   },
   "outputs": [],
   "source": [
    "y_pred_stacking = (test_result >= 0.5)*1"
   ]
  },
  {
   "cell_type": "code",
   "execution_count": 333,
   "metadata": {
    "collapsed": true
   },
   "outputs": [],
   "source": [
    "df_stacking = pd.DataFrame({'id': ids, 'target': y_pred_stacking})  "
   ]
  },
  {
   "cell_type": "code",
   "execution_count": 334,
   "metadata": {
    "collapsed": true
   },
   "outputs": [],
   "source": [
    "df_stacking[['id', 'target']].to_csv('submission_stacking.csv', index=False) "
   ]
  },
  {
   "cell_type": "markdown",
   "metadata": {},
   "source": [
    "### Another try: Stacking with SFS"
   ]
  },
  {
   "cell_type": "code",
   "execution_count": 1084,
   "metadata": {},
   "outputs": [],
   "source": [
    "from mlxtend.classifier import StackingCVClassifier\n",
    "\n",
    "sgd = SGDClassifier(eta0=1, max_iter=1000, tol=0.0001, alpha=0.01, l1_ratio=1.0, \n",
    "                    learning_rate='adaptive', loss='log', penalty='elasticnet')\n",
    "\n",
    "lr = LogisticRegression(max_iter=1000, class_weight='balanced', penalty='l1', C=0.1, solver='liblinear')\n",
    "sclf = StackingCVClassifier(classifiers=[log_reg_2, log_reg_4, log_reg_clf, sgd], \n",
    "                            use_probas=True,\n",
    "                            use_features_in_secondary=True,\n",
    "                            meta_classifier=lr,\n",
    "                            cv=6)"
   ]
  },
  {
   "cell_type": "code",
   "execution_count": 1085,
   "metadata": {},
   "outputs": [
    {
     "name": "stdout",
     "output_type": "stream",
     "text": [
      "CV scores mean:     0.791908633372048 \n",
      "CV scores std dev:  0.05114917467474852\n",
      "CV auc scores mean:     0.8901234567901234 \n",
      "CV auc scores std dev:  0.04117379571576814\n"
     ]
    }
   ],
   "source": [
    "scores_mean, scores_dev = CV_scores(sclf, X_train_sfs, y_train)\n",
    "print(\"CV scores mean:    \", scores_mean, \"\\nCV scores std dev: \", scores_dev)\n",
    "scores_mean_auc, scores_dev_auc = CV_scores_auc(sclf, X_train_sfs, y_train)\n",
    "print(\"CV auc scores mean:    \", scores_mean_auc, \"\\nCV auc scores std dev: \", scores_dev_auc)"
   ]
  },
  {
   "cell_type": "code",
   "execution_count": 1055,
   "metadata": {},
   "outputs": [
    {
     "name": "stderr",
     "output_type": "stream",
     "text": [
      "/Users/Benjamin/anaconda/lib/python3.6/site-packages/sklearn/model_selection/_split.py:652: Warning: The least populated class in y has only 3 members, which is too few. The minimum number of members in any class cannot be less than n_splits=6.\n",
      "  % (min_groups, self.n_splits)), Warning)\n",
      "/Users/Benjamin/anaconda/lib/python3.6/site-packages/sklearn/model_selection/_split.py:652: Warning: The least populated class in y has only 4 members, which is too few. The minimum number of members in any class cannot be less than n_splits=6.\n",
      "  % (min_groups, self.n_splits)), Warning)\n",
      "/Users/Benjamin/anaconda/lib/python3.6/site-packages/sklearn/model_selection/_split.py:652: Warning: The least populated class in y has only 4 members, which is too few. The minimum number of members in any class cannot be less than n_splits=6.\n",
      "  % (min_groups, self.n_splits)), Warning)\n",
      "/Users/Benjamin/anaconda/lib/python3.6/site-packages/sklearn/model_selection/_split.py:652: Warning: The least populated class in y has only 4 members, which is too few. The minimum number of members in any class cannot be less than n_splits=6.\n",
      "  % (min_groups, self.n_splits)), Warning)\n",
      "/Users/Benjamin/anaconda/lib/python3.6/site-packages/sklearn/model_selection/_split.py:652: Warning: The least populated class in y has only 4 members, which is too few. The minimum number of members in any class cannot be less than n_splits=6.\n",
      "  % (min_groups, self.n_splits)), Warning)\n",
      "/Users/Benjamin/anaconda/lib/python3.6/site-packages/sklearn/model_selection/_split.py:652: Warning: The least populated class in y has only 4 members, which is too few. The minimum number of members in any class cannot be less than n_splits=6.\n",
      "  % (min_groups, self.n_splits)), Warning)\n",
      "/Users/Benjamin/anaconda/lib/python3.6/site-packages/sklearn/model_selection/_split.py:652: Warning: The least populated class in y has only 4 members, which is too few. The minimum number of members in any class cannot be less than n_splits=6.\n",
      "  % (min_groups, self.n_splits)), Warning)\n",
      "/Users/Benjamin/anaconda/lib/python3.6/site-packages/sklearn/model_selection/_split.py:652: Warning: The least populated class in y has only 4 members, which is too few. The minimum number of members in any class cannot be less than n_splits=6.\n",
      "  % (min_groups, self.n_splits)), Warning)\n",
      "/Users/Benjamin/anaconda/lib/python3.6/site-packages/sklearn/model_selection/_split.py:652: Warning: The least populated class in y has only 5 members, which is too few. The minimum number of members in any class cannot be less than n_splits=6.\n",
      "  % (min_groups, self.n_splits)), Warning)\n",
      "/Users/Benjamin/anaconda/lib/python3.6/site-packages/sklearn/model_selection/_split.py:652: Warning: The least populated class in y has only 5 members, which is too few. The minimum number of members in any class cannot be less than n_splits=6.\n",
      "  % (min_groups, self.n_splits)), Warning)\n",
      "/Users/Benjamin/anaconda/lib/python3.6/site-packages/sklearn/model_selection/_split.py:652: Warning: The least populated class in y has only 5 members, which is too few. The minimum number of members in any class cannot be less than n_splits=6.\n",
      "  % (min_groups, self.n_splits)), Warning)\n",
      "/Users/Benjamin/anaconda/lib/python3.6/site-packages/sklearn/model_selection/_split.py:652: Warning: The least populated class in y has only 5 members, which is too few. The minimum number of members in any class cannot be less than n_splits=6.\n",
      "  % (min_groups, self.n_splits)), Warning)\n"
     ]
    },
    {
     "data": {
      "image/png": "[encoded data removed]",
      "text/plain": [
       "<matplotlib.figure.Figure at 0x11b581080>"
      ]
     },
     "metadata": {},
     "output_type": "display_data"
    }
   ],
   "source": [
    "plot_learning_curves(sclf, X_train_sfs, y_train)\n",
    "plt.axis([0, 200, 0, 1])                     \n",
    "plt.show()"
   ]
  },
  {
   "cell_type": "code",
   "execution_count": 1086,
   "metadata": {},
   "outputs": [],
   "source": [
    "sclf.fit(X_train_sfs,y_train)\n",
    "\n",
    "X_test_sfs = prepare_pipeline.fit_transform(test_set[top_features])\n",
    "y_pred_sfs = sclf.predict_proba(X_test_sfs)\n",
    "df_pred_sclf_sfs = pd.DataFrame({'id': ids, 'target': y_pred_sfs[:,1]})  \n",
    "df_pred_sclf_sfs[['id', 'target']].to_csv('submission_sclf_sfs.csv', index=False) "
   ]
  },
  {
   "cell_type": "markdown",
   "metadata": {
    "collapsed": true
   },
   "source": [
    "## Bayesian model"
   ]
  },
  {
   "cell_type": "code",
   "execution_count": 897,
   "metadata": {
    "collapsed": true
   },
   "outputs": [],
   "source": [
    "import pandas as pd\n",
    "import numpy as np\n",
    "\n",
    "%matplotlib inline\n",
    "import matplotlib.pyplot as plt\n",
    "import matplotlib as mpl\n",
    "\n",
    "import seaborn as sns"
   ]
  },
  {
   "cell_type": "code",
   "execution_count": 898,
   "metadata": {
    "collapsed": true
   },
   "outputs": [],
   "source": [
    "from sklearn.model_selection import train_test_split\n",
    "\n",
    "np.random.seed(11)\n",
    "perm = np.random.permutation(len(X_train))\n",
    "X_tr, X_val, y_tr, y_val = train_test_split(X_train[perm], y_train[perm], test_size = 0.2)"
   ]
  },
  {
   "cell_type": "code",
   "execution_count": 899,
   "metadata": {},
   "outputs": [
    {
     "name": "stdout",
     "output_type": "stream",
     "text": [
      "(200, 300) (200,) (50, 300) (50,)\n"
     ]
    }
   ],
   "source": [
    "print(X_tr.shape, y_tr.shape, X_val.shape, y_val.shape)"
   ]
  },
  {
   "cell_type": "code",
   "execution_count": 900,
   "metadata": {
    "collapsed": true
   },
   "outputs": [],
   "source": [
    "n_tr, n_feat = X_tr.shape"
   ]
  },
  {
   "cell_type": "code",
   "execution_count": 901,
   "metadata": {
    "collapsed": true
   },
   "outputs": [],
   "source": [
    "def sigmoid(x):\n",
    "    y = 1/(1 + np.exp(-x))\n",
    "    return y"
   ]
  },
  {
   "cell_type": "code",
   "execution_count": 957,
   "metadata": {
    "collapsed": true
   },
   "outputs": [],
   "source": [
    "from sklearn.metrics import log_loss\n",
    "\n",
    "def objective(W):\n",
    "    \"\"\"Objective function to minimize\"\"\"\n",
    "    W_ar = np.array(W)\n",
    "    v, w = (W_ar[:n_feat], W_ar[n_feat:2*n_feat])\n",
    "    labels = ((v >= 0)*1).reshape(-1,)\n",
    "    labels_fin = np.where(labels == 1)[0]\n",
    "    X_red = X_tr[:,labels_fin]\n",
    "    w_red = w[labels_fin]\n",
    "    #w_true, b = (w[1:], w[0])\n",
    "    y = sigmoid(np.matmul(X_red, w_red))\n",
    "    loss = np.mean(log_loss(y_tr,y))\n",
    "    return loss"
   ]
  },
  {
   "cell_type": "code",
   "execution_count": 958,
   "metadata": {},
   "outputs": [
    {
     "name": "stdout",
     "output_type": "stream",
     "text": [
      "[-0.43124651  0.61541742 -0.67617133 -0.44667059 -0.8425169 ]\n"
     ]
    },
    {
     "data": {
      "text/plain": [
       "2.9087045397347544"
      ]
     },
     "execution_count": 958,
     "metadata": {},
     "output_type": "execute_result"
    }
   ],
   "source": [
    "W0 = np.random.uniform(-1, 1, 2*n_feat)\n",
    "print(W0[:5])\n",
    "objective(W0)"
   ]
  },
  {
   "cell_type": "code",
   "execution_count": 977,
   "metadata": {
    "collapsed": true
   },
   "outputs": [],
   "source": [
    "from hyperopt import hp\n",
    "\n",
    "# Create the domain space\n",
    "\n",
    "#space = [hp.normal('bias', mu=0, sigma = 3)] + [hp.normal(str(dim), mu=0, sigma=0.3) for dim in range(n_feat)]\n",
    "\n",
    "space = [hp.normal(str(dim), mu=0, sigma=0.3) for dim in range(2*n_feat)]"
   ]
  },
  {
   "cell_type": "code",
   "execution_count": 978,
   "metadata": {},
   "outputs": [
    {
     "data": {
      "text/plain": [
       "(0.18023274256447053,\n",
       " -0.386483753076257,\n",
       " 0.6738044150684281,\n",
       " -0.14485448033514756,\n",
       " -0.00834497653440984)"
      ]
     },
     "execution_count": 978,
     "metadata": {},
     "output_type": "execute_result"
    }
   ],
   "source": [
    "from hyperopt.pyll.stochastic import sample\n",
    "\n",
    "sample(space)[:5]"
   ]
  },
  {
   "cell_type": "code",
   "execution_count": 979,
   "metadata": {},
   "outputs": [
    {
     "name": "stdout",
     "output_type": "stream",
     "text": [
      "\r",
      "  0%|          | 0/200 [00:00<?, ?it/s, best loss: ?]"
     ]
    },
    {
     "name": "stderr",
     "output_type": "stream",
     "text": [
      "INFO:hyperopt.tpe:tpe_transform took 0.175304 seconds\n",
      "INFO:hyperopt.tpe:TPE using 0 trials\n"
     ]
    },
    {
     "name": "stdout",
     "output_type": "stream",
     "text": [
      "\r",
      "  0%|          | 1/200 [00:00<00:53,  3.69it/s, best loss: 1.789812246273048]"
     ]
    },
    {
     "name": "stderr",
     "output_type": "stream",
     "text": [
      "INFO:hyperopt.tpe:tpe_transform took 0.164762 seconds\n",
      "INFO:hyperopt.tpe:TPE using 1/1 trials with best loss 1.789812\n"
     ]
    },
    {
     "name": "stdout",
     "output_type": "stream",
     "text": [
      "\r",
      "  1%|          | 2/200 [00:00<00:54,  3.65it/s, best loss: 1.5028999124045357]"
     ]
    },
    {
     "name": "stderr",
     "output_type": "stream",
     "text": [
      "INFO:hyperopt.tpe:tpe_transform took 0.181243 seconds\n",
      "INFO:hyperopt.tpe:TPE using 2/2 trials with best loss 1.502900\n"
     ]
    },
    {
     "name": "stdout",
     "output_type": "stream",
     "text": [
      "\r",
      "  2%|▏         | 3/200 [00:00<00:55,  3.56it/s, best loss: 1.4371350295007395]"
     ]
    },
    {
     "name": "stderr",
     "output_type": "stream",
     "text": [
      "INFO:hyperopt.tpe:tpe_transform took 0.195594 seconds\n",
      "INFO:hyperopt.tpe:TPE using 3/3 trials with best loss 1.437135\n"
     ]
    },
    {
     "name": "stdout",
     "output_type": "stream",
     "text": [
      "\r",
      "  2%|▏         | 4/200 [00:01<00:57,  3.42it/s, best loss: 1.4371350295007395]"
     ]
    },
    {
     "name": "stderr",
     "output_type": "stream",
     "text": [
      "INFO:hyperopt.tpe:tpe_transform took 0.189765 seconds\n",
      "INFO:hyperopt.tpe:TPE using 4/4 trials with best loss 1.437135\n"
     ]
    },
    {
     "name": "stdout",
     "output_type": "stream",
     "text": [
      "\r",
      "  2%|▎         | 5/200 [00:01<00:57,  3.42it/s, best loss: 1.4371350295007395]"
     ]
    },
    {
     "name": "stderr",
     "output_type": "stream",
     "text": [
      "INFO:hyperopt.tpe:tpe_transform took 0.372464 seconds\n",
      "INFO:hyperopt.tpe:TPE using 5/5 trials with best loss 1.437135\n"
     ]
    },
    {
     "name": "stdout",
     "output_type": "stream",
     "text": [
      "\r",
      "  3%|▎         | 6/200 [00:01<01:10,  2.74it/s, best loss: 1.4371350295007395]"
     ]
    },
    {
     "name": "stderr",
     "output_type": "stream",
     "text": [
      "INFO:hyperopt.tpe:tpe_transform took 0.286036 seconds\n",
      "INFO:hyperopt.tpe:TPE using 6/6 trials with best loss 1.437135\n"
     ]
    },
    {
     "name": "stdout",
     "output_type": "stream",
     "text": [
      "\r",
      "  4%|▎         | 7/200 [00:02<01:12,  2.66it/s, best loss: 1.4371350295007395]"
     ]
    },
    {
     "name": "stderr",
     "output_type": "stream",
     "text": [
      "INFO:hyperopt.tpe:tpe_transform took 0.361279 seconds\n",
      "INFO:hyperopt.tpe:TPE using 7/7 trials with best loss 1.437135\n"
     ]
    },
    {
     "name": "stdout",
     "output_type": "stream",
     "text": [
      "\r",
      "  4%|▍         | 8/200 [00:02<01:18,  2.44it/s, best loss: 1.4371350295007395]"
     ]
    },
    {
     "name": "stderr",
     "output_type": "stream",
     "text": [
      "INFO:hyperopt.tpe:tpe_transform took 0.367293 seconds\n",
      "INFO:hyperopt.tpe:TPE using 8/8 trials with best loss 1.437135\n"
     ]
    },
    {
     "name": "stdout",
     "output_type": "stream",
     "text": [
      "\r",
      "  4%|▍         | 9/200 [00:03<01:21,  2.34it/s, best loss: 1.4371350295007395]"
     ]
    },
    {
     "name": "stderr",
     "output_type": "stream",
     "text": [
      "INFO:hyperopt.tpe:tpe_transform took 0.184144 seconds\n",
      "INFO:hyperopt.tpe:TPE using 9/9 trials with best loss 1.437135\n"
     ]
    },
    {
     "name": "stdout",
     "output_type": "stream",
     "text": [
      "\r",
      "  5%|▌         | 10/200 [00:03<01:14,  2.56it/s, best loss: 1.323912330304576]"
     ]
    },
    {
     "name": "stderr",
     "output_type": "stream",
     "text": [
      "INFO:hyperopt.tpe:tpe_transform took 0.356913 seconds\n",
      "INFO:hyperopt.tpe:TPE using 10/10 trials with best loss 1.323912\n"
     ]
    },
    {
     "name": "stdout",
     "output_type": "stream",
     "text": [
      "\r",
      "  6%|▌         | 11/200 [00:04<01:18,  2.41it/s, best loss: 1.323912330304576]"
     ]
    },
    {
     "name": "stderr",
     "output_type": "stream",
     "text": [
      "INFO:hyperopt.tpe:tpe_transform took 0.356987 seconds\n",
      "INFO:hyperopt.tpe:TPE using 11/11 trials with best loss 1.323912\n"
     ]
    },
    {
     "name": "stdout",
     "output_type": "stream",
     "text": [
      "\r",
      "  6%|▌         | 12/200 [00:04<01:20,  2.34it/s, best loss: 1.2811692072379912]"
     ]
    },
    {
     "name": "stderr",
     "output_type": "stream",
     "text": [
      "INFO:hyperopt.tpe:tpe_transform took 0.184915 seconds\n",
      "INFO:hyperopt.tpe:TPE using 12/12 trials with best loss 1.281169\n"
     ]
    },
    {
     "name": "stdout",
     "output_type": "stream",
     "text": [
      "\r",
      "  6%|▋         | 13/200 [00:04<01:13,  2.55it/s, best loss: 1.2811692072379912]"
     ]
    },
    {
     "name": "stderr",
     "output_type": "stream",
     "text": [
      "INFO:hyperopt.tpe:tpe_transform took 0.426220 seconds\n",
      "INFO:hyperopt.tpe:TPE using 13/13 trials with best loss 1.281169\n"
     ]
    },
    {
     "name": "stdout",
     "output_type": "stream",
     "text": [
      "\r",
      "  7%|▋         | 14/200 [00:05<01:32,  2.01it/s, best loss: 1.2811692072379912]"
     ]
    },
    {
     "name": "stderr",
     "output_type": "stream",
     "text": [
      "INFO:hyperopt.tpe:tpe_transform took 0.202911 seconds\n",
      "INFO:hyperopt.tpe:TPE using 14/14 trials with best loss 1.281169\n"
     ]
    },
    {
     "name": "stdout",
     "output_type": "stream",
     "text": [
      "\r",
      "  8%|▊         | 15/200 [00:05<01:21,  2.26it/s, best loss: 1.2811692072379912]"
     ]
    },
    {
     "name": "stderr",
     "output_type": "stream",
     "text": [
      "INFO:hyperopt.tpe:tpe_transform took 0.356296 seconds\n",
      "INFO:hyperopt.tpe:TPE using 15/15 trials with best loss 1.281169\n"
     ]
    },
    {
     "name": "stdout",
     "output_type": "stream",
     "text": [
      "\r",
      "  8%|▊         | 16/200 [00:06<01:21,  2.25it/s, best loss: 1.2811692072379912]"
     ]
    },
    {
     "name": "stderr",
     "output_type": "stream",
     "text": [
      "INFO:hyperopt.tpe:tpe_transform took 0.200695 seconds\n",
      "INFO:hyperopt.tpe:TPE using 16/16 trials with best loss 1.281169\n"
     ]
    },
    {
     "name": "stdout",
     "output_type": "stream",
     "text": [
      "\r",
      "  8%|▊         | 17/200 [00:06<01:22,  2.21it/s, best loss: 1.2811692072379912]"
     ]
    },
    {
     "name": "stderr",
     "output_type": "stream",
     "text": [
      "INFO:hyperopt.tpe:tpe_transform took 0.225058 seconds\n",
      "INFO:hyperopt.tpe:TPE using 17/17 trials with best loss 1.281169\n"
     ]
    },
    {
     "name": "stdout",
     "output_type": "stream",
     "text": [
      "\r",
      "  9%|▉         | 18/200 [00:07<01:16,  2.38it/s, best loss: 1.2811692072379912]"
     ]
    },
    {
     "name": "stderr",
     "output_type": "stream",
     "text": [
      "INFO:hyperopt.tpe:tpe_transform took 0.363218 seconds\n",
      "INFO:hyperopt.tpe:TPE using 18/18 trials with best loss 1.281169\n"
     ]
    },
    {
     "name": "stdout",
     "output_type": "stream",
     "text": [
      "\r",
      " 10%|▉         | 19/200 [00:07<01:20,  2.25it/s, best loss: 1.2811692072379912]"
     ]
    },
    {
     "name": "stderr",
     "output_type": "stream",
     "text": [
      "INFO:hyperopt.tpe:tpe_transform took 0.208761 seconds\n",
      "INFO:hyperopt.tpe:TPE using 19/19 trials with best loss 1.281169\n"
     ]
    },
    {
     "name": "stdout",
     "output_type": "stream",
     "text": [
      "\r",
      " 10%|█         | 20/200 [00:08<01:15,  2.38it/s, best loss: 1.2811692072379912]"
     ]
    },
    {
     "name": "stderr",
     "output_type": "stream",
     "text": [
      "INFO:hyperopt.tpe:tpe_transform took 0.747516 seconds\n",
      "INFO:hyperopt.tpe:TPE using 20/20 trials with best loss 1.281169\n"
     ]
    },
    {
     "name": "stdout",
     "output_type": "stream",
     "text": [
      "\r",
      " 10%|█         | 21/200 [00:09<02:25,  1.23it/s, best loss: 1.2811692072379912]"
     ]
    },
    {
     "name": "stderr",
     "output_type": "stream",
     "text": [
      "INFO:hyperopt.tpe:tpe_transform took 0.424746 seconds\n",
      "INFO:hyperopt.tpe:TPE using 21/21 trials with best loss 1.281169\n"
     ]
    },
    {
     "name": "stdout",
     "output_type": "stream",
     "text": [
      "\r",
      " 11%|█         | 22/200 [00:11<03:03,  1.03s/it, best loss: 1.2811692072379912]"
     ]
    },
    {
     "name": "stderr",
     "output_type": "stream",
     "text": [
      "INFO:hyperopt.tpe:tpe_transform took 0.266744 seconds\n",
      "INFO:hyperopt.tpe:TPE using 22/22 trials with best loss 1.281169\n"
     ]
    },
    {
     "name": "stdout",
     "output_type": "stream",
     "text": [
      "\r",
      " 12%|█▏        | 23/200 [00:12<03:11,  1.08s/it, best loss: 1.2811692072379912]"
     ]
    },
    {
     "name": "stderr",
     "output_type": "stream",
     "text": [
      "INFO:hyperopt.tpe:tpe_transform took 0.533995 seconds\n",
      "INFO:hyperopt.tpe:TPE using 23/23 trials with best loss 1.281169\n"
     ]
    },
    {
     "name": "stdout",
     "output_type": "stream",
     "text": [
      "\r",
      " 12%|█▏        | 24/200 [00:14<03:33,  1.21s/it, best loss: 1.2811692072379912]"
     ]
    },
    {
     "name": "stderr",
     "output_type": "stream",
     "text": [
      "INFO:hyperopt.tpe:tpe_transform took 0.569470 seconds\n",
      "INFO:hyperopt.tpe:TPE using 24/24 trials with best loss 1.281169\n"
     ]
    },
    {
     "name": "stdout",
     "output_type": "stream",
     "text": [
      "\r",
      " 12%|█▎        | 25/200 [00:15<03:54,  1.34s/it, best loss: 1.2811692072379912]"
     ]
    },
    {
     "name": "stderr",
     "output_type": "stream",
     "text": [
      "INFO:hyperopt.tpe:tpe_transform took 0.248492 seconds\n",
      "INFO:hyperopt.tpe:TPE using 25/25 trials with best loss 1.281169\n"
     ]
    },
    {
     "name": "stdout",
     "output_type": "stream",
     "text": [
      "\r",
      " 13%|█▎        | 26/200 [00:17<04:04,  1.41s/it, best loss: 1.2811692072379912]"
     ]
    },
    {
     "name": "stderr",
     "output_type": "stream",
     "text": [
      "INFO:hyperopt.tpe:tpe_transform took 0.244097 seconds\n",
      "INFO:hyperopt.tpe:TPE using 26/26 trials with best loss 1.281169\n"
     ]
    },
    {
     "name": "stdout",
     "output_type": "stream",
     "text": [
      "\r",
      " 14%|█▎        | 27/200 [00:18<03:52,  1.34s/it, best loss: 1.2811692072379912]"
     ]
    },
    {
     "name": "stderr",
     "output_type": "stream",
     "text": [
      "INFO:hyperopt.tpe:tpe_transform took 0.626216 seconds\n",
      "INFO:hyperopt.tpe:TPE using 27/27 trials with best loss 1.281169\n"
     ]
    },
    {
     "name": "stdout",
     "output_type": "stream",
     "text": [
      "\r",
      " 14%|█▍        | 28/200 [00:19<03:58,  1.39s/it, best loss: 1.2811692072379912]"
     ]
    },
    {
     "name": "stderr",
     "output_type": "stream",
     "text": [
      "INFO:hyperopt.tpe:tpe_transform took 0.239773 seconds\n",
      "INFO:hyperopt.tpe:TPE using 28/28 trials with best loss 1.281169\n"
     ]
    },
    {
     "name": "stdout",
     "output_type": "stream",
     "text": [
      "\r",
      " 14%|█▍        | 29/200 [00:21<04:12,  1.48s/it, best loss: 1.2811692072379912]"
     ]
    },
    {
     "name": "stderr",
     "output_type": "stream",
     "text": [
      "INFO:hyperopt.tpe:tpe_transform took 0.312886 seconds\n",
      "INFO:hyperopt.tpe:TPE using 29/29 trials with best loss 1.281169\n"
     ]
    },
    {
     "name": "stdout",
     "output_type": "stream",
     "text": [
      "\r",
      " 15%|█▌        | 30/200 [00:23<04:06,  1.45s/it, best loss: 1.2811692072379912]"
     ]
    },
    {
     "name": "stderr",
     "output_type": "stream",
     "text": [
      "INFO:hyperopt.tpe:tpe_transform took 0.551792 seconds\n",
      "INFO:hyperopt.tpe:TPE using 30/30 trials with best loss 1.281169\n"
     ]
    },
    {
     "name": "stdout",
     "output_type": "stream",
     "text": [
      "\r",
      " 16%|█▌        | 31/200 [00:24<04:08,  1.47s/it, best loss: 1.2811692072379912]"
     ]
    },
    {
     "name": "stderr",
     "output_type": "stream",
     "text": [
      "INFO:hyperopt.tpe:tpe_transform took 0.229730 seconds\n",
      "INFO:hyperopt.tpe:TPE using 31/31 trials with best loss 1.281169\n"
     ]
    },
    {
     "name": "stdout",
     "output_type": "stream",
     "text": [
      "\r",
      " 16%|█▌        | 32/200 [00:25<04:00,  1.43s/it, best loss: 1.2811692072379912]"
     ]
    },
    {
     "name": "stderr",
     "output_type": "stream",
     "text": [
      "INFO:hyperopt.tpe:tpe_transform took 0.152884 seconds\n",
      "INFO:hyperopt.tpe:TPE using 32/32 trials with best loss 1.281169\n"
     ]
    },
    {
     "name": "stdout",
     "output_type": "stream",
     "text": [
      "\r",
      " 16%|█▋        | 33/200 [00:26<03:26,  1.24s/it, best loss: 1.2811692072379912]"
     ]
    },
    {
     "name": "stderr",
     "output_type": "stream",
     "text": [
      "INFO:hyperopt.tpe:tpe_transform took 0.349889 seconds\n",
      "INFO:hyperopt.tpe:TPE using 33/33 trials with best loss 1.281169\n"
     ]
    },
    {
     "name": "stdout",
     "output_type": "stream",
     "text": [
      "\r",
      " 17%|█▋        | 34/200 [00:27<03:13,  1.17s/it, best loss: 1.2811692072379912]"
     ]
    },
    {
     "name": "stderr",
     "output_type": "stream",
     "text": [
      "INFO:hyperopt.tpe:tpe_transform took 0.173637 seconds\n",
      "INFO:hyperopt.tpe:TPE using 34/34 trials with best loss 1.281169\n"
     ]
    },
    {
     "name": "stdout",
     "output_type": "stream",
     "text": [
      "\r",
      " 18%|█▊        | 35/200 [00:28<03:06,  1.13s/it, best loss: 1.2811692072379912]"
     ]
    },
    {
     "name": "stderr",
     "output_type": "stream",
     "text": [
      "INFO:hyperopt.tpe:tpe_transform took 0.153369 seconds\n",
      "INFO:hyperopt.tpe:TPE using 35/35 trials with best loss 1.281169\n"
     ]
    },
    {
     "name": "stdout",
     "output_type": "stream",
     "text": [
      "\r",
      " 18%|█▊        | 36/200 [00:29<02:48,  1.03s/it, best loss: 1.2811692072379912]"
     ]
    },
    {
     "name": "stderr",
     "output_type": "stream",
     "text": [
      "INFO:hyperopt.tpe:tpe_transform took 0.353553 seconds\n",
      "INFO:hyperopt.tpe:TPE using 36/36 trials with best loss 1.281169\n"
     ]
    },
    {
     "name": "stdout",
     "output_type": "stream",
     "text": [
      "\r",
      " 18%|█▊        | 37/200 [00:30<02:47,  1.03s/it, best loss: 1.2811692072379912]"
     ]
    },
    {
     "name": "stderr",
     "output_type": "stream",
     "text": [
      "INFO:hyperopt.tpe:tpe_transform took 0.354143 seconds\n",
      "INFO:hyperopt.tpe:TPE using 37/37 trials with best loss 1.281169\n"
     ]
    },
    {
     "name": "stdout",
     "output_type": "stream",
     "text": [
      "\r",
      " 19%|█▉        | 38/200 [00:31<02:45,  1.02s/it, best loss: 1.2811692072379912]"
     ]
    },
    {
     "name": "stderr",
     "output_type": "stream",
     "text": [
      "INFO:hyperopt.tpe:tpe_transform took 0.178924 seconds\n",
      "INFO:hyperopt.tpe:TPE using 38/38 trials with best loss 1.281169\n"
     ]
    },
    {
     "name": "stdout",
     "output_type": "stream",
     "text": [
      "\r",
      " 20%|█▉        | 39/200 [00:32<02:36,  1.03it/s, best loss: 1.2811692072379912]"
     ]
    },
    {
     "name": "stderr",
     "output_type": "stream",
     "text": [
      "INFO:hyperopt.tpe:tpe_transform took 0.333755 seconds\n",
      "INFO:hyperopt.tpe:TPE using 39/39 trials with best loss 1.281169\n"
     ]
    },
    {
     "name": "stdout",
     "output_type": "stream",
     "text": [
      "\r",
      " 20%|██        | 40/200 [00:33<02:35,  1.03it/s, best loss: 1.2811692072379912]"
     ]
    },
    {
     "name": "stderr",
     "output_type": "stream",
     "text": [
      "INFO:hyperopt.tpe:tpe_transform took 0.349119 seconds\n",
      "INFO:hyperopt.tpe:TPE using 40/40 trials with best loss 1.281169\n"
     ]
    },
    {
     "name": "stdout",
     "output_type": "stream",
     "text": [
      "\r",
      " 20%|██        | 41/200 [00:34<02:36,  1.02it/s, best loss: 1.2811692072379912]"
     ]
    },
    {
     "name": "stderr",
     "output_type": "stream",
     "text": [
      "INFO:hyperopt.tpe:tpe_transform took 0.174455 seconds\n",
      "INFO:hyperopt.tpe:TPE using 41/41 trials with best loss 1.281169\n"
     ]
    },
    {
     "name": "stdout",
     "output_type": "stream",
     "text": [
      "\r",
      " 21%|██        | 42/200 [00:35<02:28,  1.07it/s, best loss: 1.2811692072379912]"
     ]
    },
    {
     "name": "stderr",
     "output_type": "stream",
     "text": [
      "INFO:hyperopt.tpe:tpe_transform took 0.328826 seconds\n",
      "INFO:hyperopt.tpe:TPE using 42/42 trials with best loss 1.281169\n"
     ]
    },
    {
     "name": "stdout",
     "output_type": "stream",
     "text": [
      "\r",
      " 22%|██▏       | 43/200 [00:36<02:29,  1.05it/s, best loss: 1.2811692072379912]"
     ]
    },
    {
     "name": "stderr",
     "output_type": "stream",
     "text": [
      "INFO:hyperopt.tpe:tpe_transform took 0.347709 seconds\n",
      "INFO:hyperopt.tpe:TPE using 43/43 trials with best loss 1.281169\n"
     ]
    },
    {
     "name": "stdout",
     "output_type": "stream",
     "text": [
      "\r",
      " 22%|██▏       | 44/200 [00:37<02:31,  1.03it/s, best loss: 1.2811692072379912]"
     ]
    },
    {
     "name": "stderr",
     "output_type": "stream",
     "text": [
      "INFO:hyperopt.tpe:tpe_transform took 0.170505 seconds\n",
      "INFO:hyperopt.tpe:TPE using 44/44 trials with best loss 1.281169\n"
     ]
    },
    {
     "name": "stdout",
     "output_type": "stream",
     "text": [
      "\r",
      " 22%|██▎       | 45/200 [00:38<03:00,  1.17s/it, best loss: 1.2811692072379912]"
     ]
    },
    {
     "name": "stderr",
     "output_type": "stream",
     "text": [
      "INFO:hyperopt.tpe:tpe_transform took 0.263681 seconds\n",
      "INFO:hyperopt.tpe:TPE using 45/45 trials with best loss 1.281169\n"
     ]
    },
    {
     "name": "stdout",
     "output_type": "stream",
     "text": [
      "\r",
      " 23%|██▎       | 46/200 [00:40<03:07,  1.22s/it, best loss: 1.2811692072379912]"
     ]
    },
    {
     "name": "stderr",
     "output_type": "stream",
     "text": [
      "INFO:hyperopt.tpe:tpe_transform took 0.609257 seconds\n",
      "INFO:hyperopt.tpe:TPE using 46/46 trials with best loss 1.281169\n"
     ]
    },
    {
     "name": "stdout",
     "output_type": "stream",
     "text": [
      "\r",
      " 24%|██▎       | 47/200 [00:41<03:26,  1.35s/it, best loss: 1.2811692072379912]"
     ]
    },
    {
     "name": "stderr",
     "output_type": "stream",
     "text": [
      "INFO:hyperopt.tpe:tpe_transform took 0.223184 seconds\n",
      "INFO:hyperopt.tpe:TPE using 47/47 trials with best loss 1.281169\n"
     ]
    },
    {
     "name": "stdout",
     "output_type": "stream",
     "text": [
      "\r",
      " 24%|██▍       | 48/200 [00:43<03:35,  1.42s/it, best loss: 1.2811692072379912]"
     ]
    },
    {
     "name": "stderr",
     "output_type": "stream",
     "text": [
      "INFO:hyperopt.tpe:tpe_transform took 0.217358 seconds\n",
      "INFO:hyperopt.tpe:TPE using 48/48 trials with best loss 1.281169\n"
     ]
    },
    {
     "name": "stdout",
     "output_type": "stream",
     "text": [
      "\r",
      " 24%|██▍       | 49/200 [00:44<03:20,  1.32s/it, best loss: 1.2811692072379912]"
     ]
    },
    {
     "name": "stderr",
     "output_type": "stream",
     "text": [
      "INFO:hyperopt.tpe:tpe_transform took 0.332553 seconds\n",
      "INFO:hyperopt.tpe:TPE using 49/49 trials with best loss 1.281169\n"
     ]
    },
    {
     "name": "stdout",
     "output_type": "stream",
     "text": [
      "\r",
      " 25%|██▌       | 50/200 [00:45<03:05,  1.23s/it, best loss: 1.2811692072379912]"
     ]
    },
    {
     "name": "stderr",
     "output_type": "stream",
     "text": [
      "INFO:hyperopt.tpe:tpe_transform took 0.166951 seconds\n",
      "INFO:hyperopt.tpe:TPE using 50/50 trials with best loss 1.281169\n"
     ]
    },
    {
     "name": "stdout",
     "output_type": "stream",
     "text": [
      "\r",
      " 26%|██▌       | 51/200 [00:46<02:56,  1.18s/it, best loss: 1.2811692072379912]"
     ]
    },
    {
     "name": "stderr",
     "output_type": "stream",
     "text": [
      "INFO:hyperopt.tpe:tpe_transform took 0.153301 seconds\n",
      "INFO:hyperopt.tpe:TPE using 51/51 trials with best loss 1.281169\n"
     ]
    },
    {
     "name": "stdout",
     "output_type": "stream",
     "text": [
      "\r",
      " 26%|██▌       | 52/200 [00:47<02:39,  1.08s/it, best loss: 1.2811692072379912]"
     ]
    },
    {
     "name": "stderr",
     "output_type": "stream",
     "text": [
      "INFO:hyperopt.tpe:tpe_transform took 0.342577 seconds\n",
      "INFO:hyperopt.tpe:TPE using 52/52 trials with best loss 1.281169\n"
     ]
    },
    {
     "name": "stdout",
     "output_type": "stream",
     "text": [
      "\r",
      " 26%|██▋       | 53/200 [00:48<02:35,  1.06s/it, best loss: 1.2811692072379912]"
     ]
    },
    {
     "name": "stderr",
     "output_type": "stream",
     "text": [
      "INFO:hyperopt.tpe:tpe_transform took 0.171277 seconds\n",
      "INFO:hyperopt.tpe:TPE using 53/53 trials with best loss 1.281169\n"
     ]
    },
    {
     "name": "stdout",
     "output_type": "stream",
     "text": [
      "\r",
      " 27%|██▋       | 54/200 [00:49<02:35,  1.06s/it, best loss: 1.2811692072379912]"
     ]
    },
    {
     "name": "stderr",
     "output_type": "stream",
     "text": [
      "INFO:hyperopt.tpe:tpe_transform took 0.152868 seconds\n",
      "INFO:hyperopt.tpe:TPE using 54/54 trials with best loss 1.281169\n"
     ]
    },
    {
     "name": "stdout",
     "output_type": "stream",
     "text": [
      "\r",
      " 28%|██▊       | 55/200 [00:50<02:24,  1.00it/s, best loss: 1.2811692072379912]"
     ]
    },
    {
     "name": "stderr",
     "output_type": "stream",
     "text": [
      "INFO:hyperopt.tpe:tpe_transform took 0.339800 seconds\n",
      "INFO:hyperopt.tpe:TPE using 55/55 trials with best loss 1.281169\n"
     ]
    },
    {
     "name": "stdout",
     "output_type": "stream",
     "text": [
      "\r",
      " 28%|██▊       | 56/200 [00:51<02:28,  1.03s/it, best loss: 1.2811692072379912]"
     ]
    },
    {
     "name": "stderr",
     "output_type": "stream",
     "text": [
      "INFO:hyperopt.tpe:tpe_transform took 0.289947 seconds\n",
      "INFO:hyperopt.tpe:TPE using 56/56 trials with best loss 1.281169\n"
     ]
    },
    {
     "name": "stdout",
     "output_type": "stream",
     "text": [
      "\r",
      " 28%|██▊       | 57/200 [00:52<02:42,  1.14s/it, best loss: 1.2811692072379912]"
     ]
    },
    {
     "name": "stderr",
     "output_type": "stream",
     "text": [
      "INFO:hyperopt.tpe:tpe_transform took 0.577146 seconds\n",
      "INFO:hyperopt.tpe:TPE using 57/57 trials with best loss 1.281169\n"
     ]
    },
    {
     "name": "stdout",
     "output_type": "stream",
     "text": [
      "\r",
      " 29%|██▉       | 58/200 [00:54<02:59,  1.26s/it, best loss: 1.2811692072379912]"
     ]
    },
    {
     "name": "stderr",
     "output_type": "stream",
     "text": [
      "INFO:hyperopt.tpe:tpe_transform took 0.519243 seconds\n",
      "INFO:hyperopt.tpe:TPE using 58/58 trials with best loss 1.281169\n"
     ]
    },
    {
     "name": "stdout",
     "output_type": "stream",
     "text": [
      "\r",
      " 30%|██▉       | 59/200 [00:55<03:07,  1.33s/it, best loss: 1.2811692072379912]"
     ]
    },
    {
     "name": "stderr",
     "output_type": "stream",
     "text": [
      "INFO:hyperopt.tpe:tpe_transform took 0.216486 seconds\n",
      "INFO:hyperopt.tpe:TPE using 59/59 trials with best loss 1.281169\n"
     ]
    },
    {
     "name": "stdout",
     "output_type": "stream",
     "text": [
      "\r",
      " 30%|███       | 60/200 [00:56<02:52,  1.23s/it, best loss: 1.2811692072379912]"
     ]
    },
    {
     "name": "stderr",
     "output_type": "stream",
     "text": [
      "INFO:hyperopt.tpe:tpe_transform took 0.321986 seconds\n",
      "INFO:hyperopt.tpe:TPE using 60/60 trials with best loss 1.281169\n"
     ]
    },
    {
     "name": "stdout",
     "output_type": "stream",
     "text": [
      "\r",
      " 30%|███       | 61/200 [00:57<02:41,  1.16s/it, best loss: 1.2811692072379912]"
     ]
    },
    {
     "name": "stderr",
     "output_type": "stream",
     "text": [
      "INFO:hyperopt.tpe:tpe_transform took 0.338674 seconds\n",
      "INFO:hyperopt.tpe:TPE using 61/61 trials with best loss 1.281169\n"
     ]
    },
    {
     "name": "stdout",
     "output_type": "stream",
     "text": [
      "\r",
      " 31%|███       | 62/200 [00:59<03:01,  1.31s/it, best loss: 1.2811692072379912]"
     ]
    },
    {
     "name": "stderr",
     "output_type": "stream",
     "text": [
      "INFO:hyperopt.tpe:tpe_transform took 0.249653 seconds\n",
      "INFO:hyperopt.tpe:TPE using 62/62 trials with best loss 1.281169\n"
     ]
    },
    {
     "name": "stdout",
     "output_type": "stream",
     "text": [
      "\r",
      " 32%|███▏      | 63/200 [01:01<03:08,  1.37s/it, best loss: 1.2811692072379912]"
     ]
    },
    {
     "name": "stderr",
     "output_type": "stream",
     "text": [
      "INFO:hyperopt.tpe:tpe_transform took 0.549991 seconds\n",
      "INFO:hyperopt.tpe:TPE using 63/63 trials with best loss 1.281169\n"
     ]
    },
    {
     "name": "stdout",
     "output_type": "stream",
     "text": [
      "\r",
      " 32%|███▏      | 64/200 [01:02<03:16,  1.44s/it, best loss: 1.2811692072379912]"
     ]
    },
    {
     "name": "stderr",
     "output_type": "stream",
     "text": [
      "INFO:hyperopt.tpe:tpe_transform took 0.550899 seconds\n",
      "INFO:hyperopt.tpe:TPE using 64/64 trials with best loss 1.281169\n"
     ]
    },
    {
     "name": "stdout",
     "output_type": "stream",
     "text": [
      "\r",
      " 32%|███▎      | 65/200 [01:04<03:10,  1.41s/it, best loss: 1.2811692072379912]"
     ]
    },
    {
     "name": "stderr",
     "output_type": "stream",
     "text": [
      "INFO:hyperopt.tpe:tpe_transform took 0.153042 seconds\n",
      "INFO:hyperopt.tpe:TPE using 65/65 trials with best loss 1.281169\n"
     ]
    },
    {
     "name": "stdout",
     "output_type": "stream",
     "text": [
      "\r",
      " 33%|███▎      | 66/200 [01:04<02:47,  1.25s/it, best loss: 1.2811692072379912]"
     ]
    },
    {
     "name": "stderr",
     "output_type": "stream",
     "text": [
      "INFO:hyperopt.tpe:tpe_transform took 0.344459 seconds\n",
      "INFO:hyperopt.tpe:TPE using 66/66 trials with best loss 1.281169\n"
     ]
    },
    {
     "name": "stdout",
     "output_type": "stream",
     "text": [
      "\r",
      " 34%|███▎      | 67/200 [01:06<02:41,  1.22s/it, best loss: 1.2811692072379912]"
     ]
    },
    {
     "name": "stderr",
     "output_type": "stream",
     "text": [
      "INFO:hyperopt.tpe:tpe_transform took 0.612972 seconds\n",
      "INFO:hyperopt.tpe:TPE using 67/67 trials with best loss 1.281169\n"
     ]
    },
    {
     "name": "stdout",
     "output_type": "stream",
     "text": [
      "\r",
      " 34%|███▍      | 68/200 [01:07<03:00,  1.37s/it, best loss: 1.2811692072379912]"
     ]
    },
    {
     "name": "stderr",
     "output_type": "stream",
     "text": [
      "INFO:hyperopt.tpe:tpe_transform took 0.264025 seconds\n",
      "INFO:hyperopt.tpe:TPE using 68/68 trials with best loss 1.281169\n"
     ]
    },
    {
     "name": "stdout",
     "output_type": "stream",
     "text": [
      "\r",
      " 34%|███▍      | 69/200 [01:09<02:59,  1.37s/it, best loss: 1.2811692072379912]"
     ]
    },
    {
     "name": "stderr",
     "output_type": "stream",
     "text": [
      "INFO:hyperopt.tpe:tpe_transform took 0.499205 seconds\n",
      "INFO:hyperopt.tpe:TPE using 69/69 trials with best loss 1.281169\n"
     ]
    },
    {
     "name": "stdout",
     "output_type": "stream",
     "text": [
      "\r",
      " 35%|███▌      | 70/200 [01:10<03:03,  1.41s/it, best loss: 1.2811692072379912]"
     ]
    },
    {
     "name": "stderr",
     "output_type": "stream",
     "text": [
      "INFO:hyperopt.tpe:tpe_transform took 0.534799 seconds\n",
      "INFO:hyperopt.tpe:TPE using 70/70 trials with best loss 1.281169\n"
     ]
    },
    {
     "name": "stdout",
     "output_type": "stream",
     "text": [
      "\r",
      " 36%|███▌      | 71/200 [01:12<03:03,  1.42s/it, best loss: 1.2811692072379912]"
     ]
    },
    {
     "name": "stderr",
     "output_type": "stream",
     "text": [
      "INFO:hyperopt.tpe:tpe_transform took 0.153971 seconds\n",
      "INFO:hyperopt.tpe:TPE using 71/71 trials with best loss 1.281169\n"
     ]
    },
    {
     "name": "stdout",
     "output_type": "stream",
     "text": [
      "\r",
      " 36%|███▌      | 72/200 [01:12<02:41,  1.26s/it, best loss: 1.2811692072379912]"
     ]
    },
    {
     "name": "stderr",
     "output_type": "stream",
     "text": [
      "INFO:hyperopt.tpe:tpe_transform took 0.328405 seconds\n",
      "INFO:hyperopt.tpe:TPE using 72/72 trials with best loss 1.281169\n"
     ]
    },
    {
     "name": "stdout",
     "output_type": "stream",
     "text": [
      "\r",
      " 36%|███▋      | 73/200 [01:14<02:33,  1.21s/it, best loss: 1.2811692072379912]"
     ]
    },
    {
     "name": "stderr",
     "output_type": "stream",
     "text": [
      "INFO:hyperopt.tpe:tpe_transform took 0.361513 seconds\n",
      "INFO:hyperopt.tpe:TPE using 73/73 trials with best loss 1.281169\n"
     ]
    },
    {
     "name": "stdout",
     "output_type": "stream",
     "text": [
      "\r",
      " 37%|███▋      | 74/200 [01:15<02:28,  1.18s/it, best loss: 1.2811692072379912]"
     ]
    },
    {
     "name": "stderr",
     "output_type": "stream",
     "text": [
      "INFO:hyperopt.tpe:tpe_transform took 0.174098 seconds\n",
      "INFO:hyperopt.tpe:TPE using 74/74 trials with best loss 1.281169\n"
     ]
    },
    {
     "name": "stdout",
     "output_type": "stream",
     "text": [
      "\r",
      " 38%|███▊      | 75/200 [01:16<02:17,  1.10s/it, best loss: 1.2811692072379912]"
     ]
    },
    {
     "name": "stderr",
     "output_type": "stream",
     "text": [
      "INFO:hyperopt.tpe:tpe_transform took 0.329920 seconds\n",
      "INFO:hyperopt.tpe:TPE using 75/75 trials with best loss 1.281169\n"
     ]
    },
    {
     "name": "stdout",
     "output_type": "stream",
     "text": [
      "\r",
      " 38%|███▊      | 76/200 [01:17<02:15,  1.10s/it, best loss: 1.2811692072379912]"
     ]
    },
    {
     "name": "stderr",
     "output_type": "stream",
     "text": [
      "INFO:hyperopt.tpe:tpe_transform took 0.154239 seconds\n",
      "INFO:hyperopt.tpe:TPE using 76/76 trials with best loss 1.281169\n"
     ]
    },
    {
     "name": "stdout",
     "output_type": "stream",
     "text": [
      "\r",
      " 38%|███▊      | 77/200 [01:18<02:14,  1.10s/it, best loss: 1.2811692072379912]"
     ]
    },
    {
     "name": "stderr",
     "output_type": "stream",
     "text": [
      "INFO:hyperopt.tpe:tpe_transform took 0.154508 seconds\n",
      "INFO:hyperopt.tpe:TPE using 77/77 trials with best loss 1.281169\n"
     ]
    },
    {
     "name": "stdout",
     "output_type": "stream",
     "text": [
      "\r",
      " 39%|███▉      | 78/200 [01:19<02:06,  1.03s/it, best loss: 1.2811692072379912]"
     ]
    },
    {
     "name": "stderr",
     "output_type": "stream",
     "text": [
      "INFO:hyperopt.tpe:tpe_transform took 0.335522 seconds\n",
      "INFO:hyperopt.tpe:TPE using 78/78 trials with best loss 1.281169\n"
     ]
    },
    {
     "name": "stdout",
     "output_type": "stream",
     "text": [
      "\r",
      " 40%|███▉      | 79/200 [01:20<02:06,  1.05s/it, best loss: 1.2811692072379912]"
     ]
    },
    {
     "name": "stderr",
     "output_type": "stream",
     "text": [
      "INFO:hyperopt.tpe:tpe_transform took 0.159489 seconds\n",
      "INFO:hyperopt.tpe:TPE using 79/79 trials with best loss 1.281169\n"
     ]
    },
    {
     "name": "stdout",
     "output_type": "stream",
     "text": [
      "\r",
      " 40%|████      | 80/200 [01:21<02:16,  1.14s/it, best loss: 1.2811692072379912]"
     ]
    },
    {
     "name": "stderr",
     "output_type": "stream",
     "text": [
      "INFO:hyperopt.tpe:tpe_transform took 0.559687 seconds\n",
      "INFO:hyperopt.tpe:TPE using 80/80 trials with best loss 1.281169\n"
     ]
    },
    {
     "name": "stdout",
     "output_type": "stream",
     "text": [
      "\r",
      " 40%|████      | 81/200 [01:23<02:34,  1.30s/it, best loss: 1.2811692072379912]"
     ]
    },
    {
     "name": "stderr",
     "output_type": "stream",
     "text": [
      "INFO:hyperopt.tpe:tpe_transform took 0.584942 seconds\n",
      "INFO:hyperopt.tpe:TPE using 81/81 trials with best loss 1.281169\n"
     ]
    },
    {
     "name": "stdout",
     "output_type": "stream",
     "text": [
      "\r",
      " 41%|████      | 82/200 [01:24<02:48,  1.42s/it, best loss: 1.2811692072379912]"
     ]
    },
    {
     "name": "stderr",
     "output_type": "stream",
     "text": [
      "INFO:hyperopt.tpe:tpe_transform took 0.219669 seconds\n",
      "INFO:hyperopt.tpe:TPE using 82/82 trials with best loss 1.281169\n"
     ]
    },
    {
     "name": "stdout",
     "output_type": "stream",
     "text": [
      "\r",
      " 42%|████▏     | 83/200 [01:26<02:43,  1.40s/it, best loss: 1.2811692072379912]"
     ]
    },
    {
     "name": "stderr",
     "output_type": "stream",
     "text": [
      "INFO:hyperopt.tpe:tpe_transform took 0.549889 seconds\n",
      "INFO:hyperopt.tpe:TPE using 83/83 trials with best loss 1.281169\n"
     ]
    },
    {
     "name": "stdout",
     "output_type": "stream",
     "text": [
      "\r",
      " 42%|████▏     | 84/200 [01:27<02:43,  1.41s/it, best loss: 1.2811692072379912]"
     ]
    },
    {
     "name": "stderr",
     "output_type": "stream",
     "text": [
      "INFO:hyperopt.tpe:tpe_transform took 0.153445 seconds\n",
      "INFO:hyperopt.tpe:TPE using 84/84 trials with best loss 1.281169\n"
     ]
    },
    {
     "name": "stdout",
     "output_type": "stream",
     "text": [
      "\r",
      " 42%|████▎     | 85/200 [01:28<02:30,  1.31s/it, best loss: 1.2811692072379912]"
     ]
    },
    {
     "name": "stderr",
     "output_type": "stream",
     "text": [
      "INFO:hyperopt.tpe:tpe_transform took 0.213985 seconds\n",
      "INFO:hyperopt.tpe:TPE using 85/85 trials with best loss 1.281169\n"
     ]
    },
    {
     "name": "stdout",
     "output_type": "stream",
     "text": [
      "\r",
      " 43%|████▎     | 86/200 [01:30<02:33,  1.35s/it, best loss: 1.2811692072379912]"
     ]
    },
    {
     "name": "stderr",
     "output_type": "stream",
     "text": [
      "INFO:hyperopt.tpe:tpe_transform took 0.597797 seconds\n",
      "INFO:hyperopt.tpe:TPE using 86/86 trials with best loss 1.281169\n"
     ]
    },
    {
     "name": "stdout",
     "output_type": "stream",
     "text": [
      "\r",
      " 44%|████▎     | 87/200 [01:32<02:46,  1.48s/it, best loss: 1.2811692072379912]"
     ]
    },
    {
     "name": "stderr",
     "output_type": "stream",
     "text": [
      "INFO:hyperopt.tpe:tpe_transform took 0.252043 seconds\n",
      "INFO:hyperopt.tpe:TPE using 87/87 trials with best loss 1.281169\n"
     ]
    },
    {
     "name": "stdout",
     "output_type": "stream",
     "text": [
      "\r",
      " 44%|████▍     | 88/200 [01:33<02:43,  1.46s/it, best loss: 1.2811692072379912]"
     ]
    },
    {
     "name": "stderr",
     "output_type": "stream",
     "text": [
      "INFO:hyperopt.tpe:tpe_transform took 0.562114 seconds\n",
      "INFO:hyperopt.tpe:TPE using 88/88 trials with best loss 1.281169\n"
     ]
    },
    {
     "name": "stdout",
     "output_type": "stream",
     "text": [
      "\r",
      " 44%|████▍     | 89/200 [01:35<02:53,  1.56s/it, best loss: 1.2811692072379912]"
     ]
    },
    {
     "name": "stderr",
     "output_type": "stream",
     "text": [
      "INFO:hyperopt.tpe:tpe_transform took 0.630121 seconds\n",
      "INFO:hyperopt.tpe:TPE using 89/89 trials with best loss 1.281169\n"
     ]
    },
    {
     "name": "stdout",
     "output_type": "stream",
     "text": [
      "\r",
      " 45%|████▌     | 90/200 [01:36<02:57,  1.61s/it, best loss: 1.2811692072379912]"
     ]
    },
    {
     "name": "stderr",
     "output_type": "stream",
     "text": [
      "INFO:hyperopt.tpe:tpe_transform took 0.231570 seconds\n",
      "INFO:hyperopt.tpe:TPE using 90/90 trials with best loss 1.281169\n"
     ]
    },
    {
     "name": "stdout",
     "output_type": "stream",
     "text": [
      "\r",
      " 46%|████▌     | 91/200 [01:38<02:49,  1.55s/it, best loss: 1.2811692072379912]"
     ]
    },
    {
     "name": "stderr",
     "output_type": "stream",
     "text": [
      "INFO:hyperopt.tpe:tpe_transform took 0.579780 seconds\n",
      "INFO:hyperopt.tpe:TPE using 91/91 trials with best loss 1.281169\n"
     ]
    },
    {
     "name": "stdout",
     "output_type": "stream",
     "text": [
      "\r",
      " 46%|████▌     | 92/200 [01:40<02:55,  1.63s/it, best loss: 1.2811692072379912]"
     ]
    },
    {
     "name": "stderr",
     "output_type": "stream",
     "text": [
      "INFO:hyperopt.tpe:tpe_transform took 0.293178 seconds\n",
      "INFO:hyperopt.tpe:TPE using 92/92 trials with best loss 1.281169\n"
     ]
    },
    {
     "name": "stdout",
     "output_type": "stream",
     "text": [
      "\r",
      " 46%|████▋     | 93/200 [01:41<02:51,  1.61s/it, best loss: 1.2811692072379912]"
     ]
    },
    {
     "name": "stderr",
     "output_type": "stream",
     "text": [
      "INFO:hyperopt.tpe:tpe_transform took 0.550503 seconds\n",
      "INFO:hyperopt.tpe:TPE using 93/93 trials with best loss 1.281169\n"
     ]
    },
    {
     "name": "stdout",
     "output_type": "stream",
     "text": [
      "\r",
      " 47%|████▋     | 94/200 [01:43<02:58,  1.68s/it, best loss: 1.2811692072379912]"
     ]
    },
    {
     "name": "stderr",
     "output_type": "stream",
     "text": [
      "INFO:hyperopt.tpe:tpe_transform took 0.666870 seconds\n",
      "INFO:hyperopt.tpe:TPE using 94/94 trials with best loss 1.281169\n"
     ]
    },
    {
     "name": "stdout",
     "output_type": "stream",
     "text": [
      "\r",
      " 48%|████▊     | 95/200 [01:45<03:08,  1.79s/it, best loss: 1.2811692072379912]"
     ]
    },
    {
     "name": "stderr",
     "output_type": "stream",
     "text": [
      "INFO:hyperopt.tpe:tpe_transform took 0.230871 seconds\n",
      "INFO:hyperopt.tpe:TPE using 95/95 trials with best loss 1.281169\n"
     ]
    },
    {
     "name": "stdout",
     "output_type": "stream",
     "text": [
      "\r",
      " 48%|████▊     | 96/200 [01:47<02:57,  1.71s/it, best loss: 1.2811692072379912]"
     ]
    },
    {
     "name": "stderr",
     "output_type": "stream",
     "text": [
      "INFO:hyperopt.tpe:tpe_transform took 0.569774 seconds\n",
      "INFO:hyperopt.tpe:TPE using 96/96 trials with best loss 1.281169\n"
     ]
    },
    {
     "name": "stdout",
     "output_type": "stream",
     "text": [
      "\r",
      " 48%|████▊     | 97/200 [01:48<02:56,  1.71s/it, best loss: 1.2811692072379912]"
     ]
    },
    {
     "name": "stderr",
     "output_type": "stream",
     "text": [
      "INFO:hyperopt.tpe:tpe_transform took 0.218860 seconds\n",
      "INFO:hyperopt.tpe:TPE using 97/97 trials with best loss 1.281169\n"
     ]
    },
    {
     "name": "stdout",
     "output_type": "stream",
     "text": [
      "\r",
      " 49%|████▉     | 98/200 [01:50<02:56,  1.73s/it, best loss: 1.2811692072379912]"
     ]
    },
    {
     "name": "stderr",
     "output_type": "stream",
     "text": [
      "INFO:hyperopt.tpe:tpe_transform took 0.244405 seconds\n",
      "INFO:hyperopt.tpe:TPE using 98/98 trials with best loss 1.281169\n"
     ]
    },
    {
     "name": "stdout",
     "output_type": "stream",
     "text": [
      "\r",
      " 50%|████▉     | 99/200 [01:52<02:45,  1.64s/it, best loss: 1.2811692072379912]"
     ]
    },
    {
     "name": "stderr",
     "output_type": "stream",
     "text": [
      "INFO:hyperopt.tpe:tpe_transform took 0.602503 seconds\n",
      "INFO:hyperopt.tpe:TPE using 99/99 trials with best loss 1.281169\n"
     ]
    },
    {
     "name": "stdout",
     "output_type": "stream",
     "text": [
      "\r",
      " 50%|█████     | 100/200 [01:53<02:48,  1.68s/it, best loss: 1.2811692072379912]"
     ]
    },
    {
     "name": "stderr",
     "output_type": "stream",
     "text": [
      "INFO:hyperopt.tpe:tpe_transform took 0.239191 seconds\n",
      "INFO:hyperopt.tpe:TPE using 100/100 trials with best loss 1.281169\n"
     ]
    },
    {
     "name": "stdout",
     "output_type": "stream",
     "text": [
      "\r",
      " 50%|█████     | 101/200 [01:55<02:40,  1.62s/it, best loss: 1.2811692072379912]"
     ]
    },
    {
     "name": "stderr",
     "output_type": "stream",
     "text": [
      "INFO:hyperopt.tpe:tpe_transform took 0.570733 seconds\n",
      "INFO:hyperopt.tpe:TPE using 101/101 trials with best loss 1.281169\n"
     ]
    },
    {
     "name": "stdout",
     "output_type": "stream",
     "text": [
      "\r",
      " 51%|█████     | 102/200 [01:57<02:41,  1.65s/it, best loss: 1.2811692072379912]"
     ]
    },
    {
     "name": "stderr",
     "output_type": "stream",
     "text": [
      "INFO:hyperopt.tpe:tpe_transform took 0.233902 seconds\n",
      "INFO:hyperopt.tpe:TPE using 102/102 trials with best loss 1.281169\n"
     ]
    },
    {
     "name": "stdout",
     "output_type": "stream",
     "text": [
      "\r",
      " 52%|█████▏    | 103/200 [01:58<02:33,  1.59s/it, best loss: 1.2811692072379912]"
     ]
    },
    {
     "name": "stderr",
     "output_type": "stream",
     "text": [
      "INFO:hyperopt.tpe:tpe_transform took 0.569186 seconds\n",
      "INFO:hyperopt.tpe:TPE using 103/103 trials with best loss 1.281169\n"
     ]
    },
    {
     "name": "stdout",
     "output_type": "stream",
     "text": [
      "\r",
      " 52%|█████▏    | 104/200 [02:00<02:37,  1.64s/it, best loss: 1.2811692072379912]"
     ]
    },
    {
     "name": "stderr",
     "output_type": "stream",
     "text": [
      "INFO:hyperopt.tpe:tpe_transform took 0.585319 seconds\n",
      "INFO:hyperopt.tpe:TPE using 104/104 trials with best loss 1.281169\n"
     ]
    },
    {
     "name": "stdout",
     "output_type": "stream",
     "text": [
      "\r",
      " 52%|█████▎    | 105/200 [02:02<02:39,  1.68s/it, best loss: 1.2811692072379912]"
     ]
    },
    {
     "name": "stderr",
     "output_type": "stream",
     "text": [
      "INFO:hyperopt.tpe:tpe_transform took 0.218764 seconds\n",
      "INFO:hyperopt.tpe:TPE using 105/105 trials with best loss 1.281169\n"
     ]
    },
    {
     "name": "stdout",
     "output_type": "stream",
     "text": [
      "\r",
      " 53%|█████▎    | 106/200 [02:03<02:32,  1.62s/it, best loss: 1.2811692072379912]"
     ]
    },
    {
     "name": "stderr",
     "output_type": "stream",
     "text": [
      "INFO:hyperopt.tpe:tpe_transform took 0.600829 seconds\n",
      "INFO:hyperopt.tpe:TPE using 106/106 trials with best loss 1.281169\n"
     ]
    },
    {
     "name": "stdout",
     "output_type": "stream",
     "text": [
      "\r",
      " 54%|█████▎    | 107/200 [02:05<02:36,  1.68s/it, best loss: 1.2811692072379912]"
     ]
    },
    {
     "name": "stderr",
     "output_type": "stream",
     "text": [
      "INFO:hyperopt.tpe:tpe_transform took 0.272921 seconds\n",
      "INFO:hyperopt.tpe:TPE using 107/107 trials with best loss 1.281169\n"
     ]
    },
    {
     "name": "stdout",
     "output_type": "stream",
     "text": [
      "\r",
      " 54%|█████▍    | 108/200 [02:06<02:31,  1.65s/it, best loss: 1.2811692072379912]"
     ]
    },
    {
     "name": "stderr",
     "output_type": "stream",
     "text": [
      "INFO:hyperopt.tpe:tpe_transform took 0.543770 seconds\n",
      "INFO:hyperopt.tpe:TPE using 108/108 trials with best loss 1.281169\n"
     ]
    },
    {
     "name": "stdout",
     "output_type": "stream",
     "text": [
      "\r",
      " 55%|█████▍    | 109/200 [02:08<02:36,  1.72s/it, best loss: 1.2811692072379912]"
     ]
    },
    {
     "name": "stderr",
     "output_type": "stream",
     "text": [
      "INFO:hyperopt.tpe:tpe_transform took 0.623606 seconds\n",
      "INFO:hyperopt.tpe:TPE using 109/109 trials with best loss 1.281169\n"
     ]
    },
    {
     "name": "stdout",
     "output_type": "stream",
     "text": [
      "\r",
      " 55%|█████▌    | 110/200 [02:10<02:37,  1.75s/it, best loss: 1.2811692072379912]"
     ]
    },
    {
     "name": "stderr",
     "output_type": "stream",
     "text": [
      "INFO:hyperopt.tpe:tpe_transform took 0.229043 seconds\n",
      "INFO:hyperopt.tpe:TPE using 110/110 trials with best loss 1.281169\n"
     ]
    },
    {
     "name": "stdout",
     "output_type": "stream",
     "text": [
      "\r",
      " 56%|█████▌    | 111/200 [02:12<02:27,  1.66s/it, best loss: 1.2811692072379912]"
     ]
    },
    {
     "name": "stderr",
     "output_type": "stream",
     "text": [
      "INFO:hyperopt.tpe:tpe_transform took 0.580880 seconds\n",
      "INFO:hyperopt.tpe:TPE using 111/111 trials with best loss 1.281169\n"
     ]
    },
    {
     "name": "stdout",
     "output_type": "stream",
     "text": [
      "\r",
      " 56%|█████▌    | 112/200 [02:13<02:30,  1.71s/it, best loss: 1.2811692072379912]"
     ]
    },
    {
     "name": "stderr",
     "output_type": "stream",
     "text": [
      "INFO:hyperopt.tpe:tpe_transform took 0.233342 seconds\n",
      "INFO:hyperopt.tpe:TPE using 112/112 trials with best loss 1.281169\n"
     ]
    },
    {
     "name": "stdout",
     "output_type": "stream",
     "text": [
      "\r",
      " 56%|█████▋    | 113/200 [02:15<02:22,  1.64s/it, best loss: 1.2811692072379912]"
     ]
    },
    {
     "name": "stderr",
     "output_type": "stream",
     "text": [
      "INFO:hyperopt.tpe:tpe_transform took 0.581910 seconds\n",
      "INFO:hyperopt.tpe:TPE using 113/113 trials with best loss 1.281169\n"
     ]
    },
    {
     "name": "stdout",
     "output_type": "stream",
     "text": [
      "\r",
      " 57%|█████▋    | 114/200 [02:17<02:28,  1.73s/it, best loss: 1.2811692072379912]"
     ]
    },
    {
     "name": "stderr",
     "output_type": "stream",
     "text": [
      "INFO:hyperopt.tpe:tpe_transform took 0.278258 seconds\n",
      "INFO:hyperopt.tpe:TPE using 114/114 trials with best loss 1.281169\n"
     ]
    },
    {
     "name": "stdout",
     "output_type": "stream",
     "text": [
      "\r",
      " 57%|█████▊    | 115/200 [02:18<02:21,  1.67s/it, best loss: 1.2811692072379912]"
     ]
    },
    {
     "name": "stderr",
     "output_type": "stream",
     "text": [
      "INFO:hyperopt.tpe:tpe_transform took 0.540379 seconds\n",
      "INFO:hyperopt.tpe:TPE using 115/115 trials with best loss 1.281169\n"
     ]
    },
    {
     "name": "stdout",
     "output_type": "stream",
     "text": [
      "\r",
      " 58%|█████▊    | 116/200 [02:20<02:24,  1.72s/it, best loss: 1.2811692072379912]"
     ]
    },
    {
     "name": "stderr",
     "output_type": "stream",
     "text": [
      "INFO:hyperopt.tpe:tpe_transform took 0.580866 seconds\n",
      "INFO:hyperopt.tpe:TPE using 116/116 trials with best loss 1.281169\n"
     ]
    },
    {
     "name": "stdout",
     "output_type": "stream",
     "text": [
      "\r",
      " 58%|█████▊    | 117/200 [02:22<02:23,  1.72s/it, best loss: 1.2811692072379912]"
     ]
    },
    {
     "name": "stderr",
     "output_type": "stream",
     "text": [
      "INFO:hyperopt.tpe:tpe_transform took 0.232078 seconds\n",
      "INFO:hyperopt.tpe:TPE using 117/117 trials with best loss 1.281169\n"
     ]
    },
    {
     "name": "stdout",
     "output_type": "stream",
     "text": [
      "\r",
      " 59%|█████▉    | 118/200 [02:23<02:17,  1.68s/it, best loss: 1.2811692072379912]"
     ]
    },
    {
     "name": "stderr",
     "output_type": "stream",
     "text": [
      "INFO:hyperopt.tpe:tpe_transform took 0.577013 seconds\n",
      "INFO:hyperopt.tpe:TPE using 118/118 trials with best loss 1.281169\n"
     ]
    },
    {
     "name": "stdout",
     "output_type": "stream",
     "text": [
      "\r",
      " 60%|█████▉    | 119/200 [02:25<02:20,  1.73s/it, best loss: 1.2811692072379912]"
     ]
    },
    {
     "name": "stderr",
     "output_type": "stream",
     "text": [
      "INFO:hyperopt.tpe:tpe_transform took 0.237749 seconds\n",
      "INFO:hyperopt.tpe:TPE using 119/119 trials with best loss 1.281169\n"
     ]
    },
    {
     "name": "stdout",
     "output_type": "stream",
     "text": [
      "\r",
      " 60%|██████    | 120/200 [02:27<02:14,  1.68s/it, best loss: 1.2811692072379912]"
     ]
    },
    {
     "name": "stderr",
     "output_type": "stream",
     "text": [
      "INFO:hyperopt.tpe:tpe_transform took 0.584774 seconds\n",
      "INFO:hyperopt.tpe:TPE using 120/120 trials with best loss 1.281169\n"
     ]
    },
    {
     "name": "stdout",
     "output_type": "stream",
     "text": [
      "\r",
      " 60%|██████    | 121/200 [02:29<02:17,  1.74s/it, best loss: 1.2811692072379912]"
     ]
    },
    {
     "name": "stderr",
     "output_type": "stream",
     "text": [
      "INFO:hyperopt.tpe:tpe_transform took 0.216235 seconds\n",
      "INFO:hyperopt.tpe:TPE using 121/121 trials with best loss 1.281169\n"
     ]
    },
    {
     "name": "stdout",
     "output_type": "stream",
     "text": [
      "\r",
      " 61%|██████    | 122/200 [02:30<02:09,  1.66s/it, best loss: 1.2811692072379912]"
     ]
    },
    {
     "name": "stderr",
     "output_type": "stream",
     "text": [
      "INFO:hyperopt.tpe:tpe_transform took 0.619452 seconds\n",
      "INFO:hyperopt.tpe:TPE using 122/122 trials with best loss 1.281169\n"
     ]
    },
    {
     "name": "stdout",
     "output_type": "stream",
     "text": [
      "\r",
      " 62%|██████▏   | 123/200 [02:32<02:14,  1.75s/it, best loss: 1.2505958626380087]"
     ]
    },
    {
     "name": "stderr",
     "output_type": "stream",
     "text": [
      "INFO:hyperopt.tpe:tpe_transform took 0.566344 seconds\n",
      "INFO:hyperopt.tpe:TPE using 123/123 trials with best loss 1.250596\n"
     ]
    },
    {
     "name": "stdout",
     "output_type": "stream",
     "text": [
      "\r",
      " 62%|██████▏   | 124/200 [02:34<02:16,  1.80s/it, best loss: 1.2505958626380087]"
     ]
    },
    {
     "name": "stderr",
     "output_type": "stream",
     "text": [
      "INFO:hyperopt.tpe:tpe_transform took 0.248318 seconds\n",
      "INFO:hyperopt.tpe:TPE using 124/124 trials with best loss 1.250596\n"
     ]
    },
    {
     "name": "stdout",
     "output_type": "stream",
     "text": [
      "\r",
      " 62%|██████▎   | 125/200 [02:36<02:12,  1.76s/it, best loss: 1.2505958626380087]"
     ]
    },
    {
     "name": "stderr",
     "output_type": "stream",
     "text": [
      "INFO:hyperopt.tpe:tpe_transform took 0.589345 seconds\n",
      "INFO:hyperopt.tpe:TPE using 125/125 trials with best loss 1.250596\n"
     ]
    },
    {
     "name": "stdout",
     "output_type": "stream",
     "text": [
      "\r",
      " 63%|██████▎   | 126/200 [02:38<02:18,  1.87s/it, best loss: 1.2505958626380087]"
     ]
    },
    {
     "name": "stderr",
     "output_type": "stream",
     "text": [
      "INFO:hyperopt.tpe:tpe_transform took 0.267254 seconds\n",
      "INFO:hyperopt.tpe:TPE using 126/126 trials with best loss 1.250596\n"
     ]
    },
    {
     "name": "stdout",
     "output_type": "stream",
     "text": [
      "\r",
      " 64%|██████▎   | 127/200 [02:39<02:09,  1.77s/it, best loss: 1.2505958626380087]"
     ]
    },
    {
     "name": "stderr",
     "output_type": "stream",
     "text": [
      "INFO:hyperopt.tpe:tpe_transform took 0.542301 seconds\n",
      "INFO:hyperopt.tpe:TPE using 127/127 trials with best loss 1.250596\n"
     ]
    },
    {
     "name": "stdout",
     "output_type": "stream",
     "text": [
      "\r",
      " 64%|██████▍   | 128/200 [02:41<02:09,  1.80s/it, best loss: 1.2505958626380087]"
     ]
    },
    {
     "name": "stderr",
     "output_type": "stream",
     "text": [
      "INFO:hyperopt.tpe:tpe_transform took 0.297882 seconds\n",
      "INFO:hyperopt.tpe:TPE using 128/128 trials with best loss 1.250596\n"
     ]
    },
    {
     "name": "stdout",
     "output_type": "stream",
     "text": [
      "\r",
      " 64%|██████▍   | 129/200 [02:44<02:19,  1.97s/it, best loss: 1.2505958626380087]"
     ]
    },
    {
     "name": "stderr",
     "output_type": "stream",
     "text": [
      "INFO:hyperopt.tpe:tpe_transform took 0.333177 seconds\n",
      "INFO:hyperopt.tpe:TPE using 129/129 trials with best loss 1.250596\n"
     ]
    },
    {
     "name": "stdout",
     "output_type": "stream",
     "text": [
      "\r",
      " 65%|██████▌   | 130/200 [02:45<02:12,  1.90s/it, best loss: 1.2505958626380087]"
     ]
    },
    {
     "name": "stderr",
     "output_type": "stream",
     "text": [
      "INFO:hyperopt.tpe:tpe_transform took 0.639864 seconds\n",
      "INFO:hyperopt.tpe:TPE using 130/130 trials with best loss 1.250596\n"
     ]
    },
    {
     "name": "stdout",
     "output_type": "stream",
     "text": [
      "\r",
      " 66%|██████▌   | 131/200 [02:47<02:13,  1.93s/it, best loss: 1.2505958626380087]"
     ]
    },
    {
     "name": "stderr",
     "output_type": "stream",
     "text": [
      "INFO:hyperopt.tpe:tpe_transform took 0.242078 seconds\n",
      "INFO:hyperopt.tpe:TPE using 131/131 trials with best loss 1.250596\n"
     ]
    },
    {
     "name": "stdout",
     "output_type": "stream",
     "text": [
      "\r",
      " 66%|██████▌   | 132/200 [02:49<02:04,  1.83s/it, best loss: 1.2505958626380087]"
     ]
    },
    {
     "name": "stderr",
     "output_type": "stream",
     "text": [
      "INFO:hyperopt.tpe:tpe_transform took 0.618224 seconds\n",
      "INFO:hyperopt.tpe:TPE using 132/132 trials with best loss 1.250596\n"
     ]
    },
    {
     "name": "stdout",
     "output_type": "stream",
     "text": [
      "\r",
      " 66%|██████▋   | 133/200 [02:51<02:06,  1.89s/it, best loss: 1.2505958626380087]"
     ]
    },
    {
     "name": "stderr",
     "output_type": "stream",
     "text": [
      "INFO:hyperopt.tpe:tpe_transform took 0.251270 seconds\n",
      "INFO:hyperopt.tpe:TPE using 133/133 trials with best loss 1.250596\n"
     ]
    },
    {
     "name": "stdout",
     "output_type": "stream",
     "text": [
      "\r",
      " 67%|██████▋   | 134/200 [02:53<01:59,  1.82s/it, best loss: 1.2505958626380087]"
     ]
    },
    {
     "name": "stderr",
     "output_type": "stream",
     "text": [
      "INFO:hyperopt.tpe:tpe_transform took 0.622465 seconds\n",
      "INFO:hyperopt.tpe:TPE using 134/134 trials with best loss 1.250596\n"
     ]
    },
    {
     "name": "stdout",
     "output_type": "stream",
     "text": [
      "\r",
      " 68%|██████▊   | 135/200 [02:55<02:01,  1.86s/it, best loss: 1.2505958626380087]"
     ]
    },
    {
     "name": "stderr",
     "output_type": "stream",
     "text": [
      "INFO:hyperopt.tpe:tpe_transform took 0.256085 seconds\n",
      "INFO:hyperopt.tpe:TPE using 135/135 trials with best loss 1.250596\n"
     ]
    },
    {
     "name": "stdout",
     "output_type": "stream",
     "text": [
      "\r",
      " 68%|██████▊   | 136/200 [02:57<02:03,  1.92s/it, best loss: 1.2505958626380087]"
     ]
    },
    {
     "name": "stderr",
     "output_type": "stream",
     "text": [
      "INFO:hyperopt.tpe:tpe_transform took 0.234090 seconds\n",
      "INFO:hyperopt.tpe:TPE using 136/136 trials with best loss 1.250596\n"
     ]
    },
    {
     "name": "stdout",
     "output_type": "stream",
     "text": [
      "\r",
      " 68%|██████▊   | 137/200 [02:58<01:57,  1.87s/it, best loss: 1.2505958626380087]"
     ]
    },
    {
     "name": "stderr",
     "output_type": "stream",
     "text": [
      "INFO:hyperopt.tpe:tpe_transform took 0.644003 seconds\n",
      "INFO:hyperopt.tpe:TPE using 137/137 trials with best loss 1.250596\n"
     ]
    },
    {
     "name": "stdout",
     "output_type": "stream",
     "text": [
      "\r",
      " 69%|██████▉   | 138/200 [03:00<01:56,  1.89s/it, best loss: 1.2505958626380087]"
     ]
    },
    {
     "name": "stderr",
     "output_type": "stream",
     "text": [
      "INFO:hyperopt.tpe:tpe_transform took 0.217530 seconds\n",
      "INFO:hyperopt.tpe:TPE using 138/138 trials with best loss 1.250596\n"
     ]
    },
    {
     "name": "stdout",
     "output_type": "stream",
     "text": [
      "\r",
      " 70%|██████▉   | 139/200 [03:02<01:49,  1.80s/it, best loss: 1.2505958626380087]"
     ]
    },
    {
     "name": "stderr",
     "output_type": "stream",
     "text": [
      "INFO:hyperopt.tpe:tpe_transform took 0.618328 seconds\n",
      "INFO:hyperopt.tpe:TPE using 139/139 trials with best loss 1.250596\n"
     ]
    },
    {
     "name": "stdout",
     "output_type": "stream",
     "text": [
      "\r",
      " 70%|███████   | 140/200 [03:04<01:51,  1.85s/it, best loss: 1.2505958626380087]"
     ]
    },
    {
     "name": "stderr",
     "output_type": "stream",
     "text": [
      "INFO:hyperopt.tpe:tpe_transform took 0.284064 seconds\n",
      "INFO:hyperopt.tpe:TPE using 140/140 trials with best loss 1.250596\n"
     ]
    },
    {
     "name": "stdout",
     "output_type": "stream",
     "text": [
      "\r",
      " 70%|███████   | 141/200 [03:06<01:47,  1.82s/it, best loss: 1.2505958626380087]"
     ]
    },
    {
     "name": "stderr",
     "output_type": "stream",
     "text": [
      "INFO:hyperopt.tpe:tpe_transform took 0.540562 seconds\n",
      "INFO:hyperopt.tpe:TPE using 141/141 trials with best loss 1.250596\n"
     ]
    },
    {
     "name": "stdout",
     "output_type": "stream",
     "text": [
      "\r",
      " 71%|███████   | 142/200 [03:08<01:49,  1.89s/it, best loss: 1.2505958626380087]"
     ]
    },
    {
     "name": "stderr",
     "output_type": "stream",
     "text": [
      "INFO:hyperopt.tpe:tpe_transform took 0.278492 seconds\n",
      "INFO:hyperopt.tpe:TPE using 142/142 trials with best loss 1.250596\n"
     ]
    },
    {
     "name": "stdout",
     "output_type": "stream",
     "text": [
      "\r",
      " 72%|███████▏  | 143/200 [03:10<01:49,  1.92s/it, best loss: 1.2505958626380087]"
     ]
    },
    {
     "name": "stderr",
     "output_type": "stream",
     "text": [
      "INFO:hyperopt.tpe:tpe_transform took 0.267920 seconds\n",
      "INFO:hyperopt.tpe:TPE using 143/143 trials with best loss 1.250596\n"
     ]
    },
    {
     "name": "stdout",
     "output_type": "stream",
     "text": [
      "\r",
      " 72%|███████▏  | 144/200 [03:11<01:43,  1.85s/it, best loss: 1.2505958626380087]"
     ]
    },
    {
     "name": "stderr",
     "output_type": "stream",
     "text": [
      "INFO:hyperopt.tpe:tpe_transform took 0.617506 seconds\n",
      "INFO:hyperopt.tpe:TPE using 144/144 trials with best loss 1.250596\n"
     ]
    },
    {
     "name": "stdout",
     "output_type": "stream",
     "text": [
      "\r",
      " 72%|███████▎  | 145/200 [03:13<01:43,  1.88s/it, best loss: 1.2505958626380087]"
     ]
    },
    {
     "name": "stderr",
     "output_type": "stream",
     "text": [
      "INFO:hyperopt.tpe:tpe_transform took 0.245346 seconds\n",
      "INFO:hyperopt.tpe:TPE using 145/145 trials with best loss 1.250596\n"
     ]
    },
    {
     "name": "stdout",
     "output_type": "stream",
     "text": [
      "\r",
      " 73%|███████▎  | 146/200 [03:15<01:39,  1.85s/it, best loss: 1.2505958626380087]"
     ]
    },
    {
     "name": "stderr",
     "output_type": "stream",
     "text": [
      "INFO:hyperopt.tpe:tpe_transform took 0.567630 seconds\n",
      "INFO:hyperopt.tpe:TPE using 146/146 trials with best loss 1.250596\n"
     ]
    },
    {
     "name": "stdout",
     "output_type": "stream",
     "text": [
      "\r",
      " 74%|███████▎  | 147/200 [03:17<01:41,  1.91s/it, best loss: 1.2505958626380087]"
     ]
    },
    {
     "name": "stderr",
     "output_type": "stream",
     "text": [
      "INFO:hyperopt.tpe:tpe_transform took 0.240225 seconds\n",
      "INFO:hyperopt.tpe:TPE using 147/147 trials with best loss 1.250596\n"
     ]
    },
    {
     "name": "stdout",
     "output_type": "stream",
     "text": [
      "\r",
      " 74%|███████▍  | 148/200 [03:19<01:36,  1.85s/it, best loss: 1.2505958626380087]"
     ]
    },
    {
     "name": "stderr",
     "output_type": "stream",
     "text": [
      "INFO:hyperopt.tpe:tpe_transform took 0.649693 seconds\n",
      "INFO:hyperopt.tpe:TPE using 148/148 trials with best loss 1.250596\n"
     ]
    },
    {
     "name": "stdout",
     "output_type": "stream",
     "text": [
      "\r",
      " 74%|███████▍  | 149/200 [03:21<01:38,  1.93s/it, best loss: 1.2505958626380087]"
     ]
    },
    {
     "name": "stderr",
     "output_type": "stream",
     "text": [
      "INFO:hyperopt.tpe:tpe_transform took 0.592090 seconds\n",
      "INFO:hyperopt.tpe:TPE using 149/149 trials with best loss 1.250596\n"
     ]
    },
    {
     "name": "stdout",
     "output_type": "stream",
     "text": [
      "\r",
      " 75%|███████▌  | 150/200 [03:23<01:37,  1.94s/it, best loss: 1.2505958626380087]"
     ]
    },
    {
     "name": "stderr",
     "output_type": "stream",
     "text": [
      "INFO:hyperopt.tpe:tpe_transform took 0.233441 seconds\n",
      "INFO:hyperopt.tpe:TPE using 150/150 trials with best loss 1.250596\n"
     ]
    },
    {
     "name": "stdout",
     "output_type": "stream",
     "text": [
      "\r",
      " 76%|███████▌  | 151/200 [03:25<01:32,  1.90s/it, best loss: 1.2505958626380087]"
     ]
    },
    {
     "name": "stderr",
     "output_type": "stream",
     "text": [
      "INFO:hyperopt.tpe:tpe_transform took 0.610893 seconds\n",
      "INFO:hyperopt.tpe:TPE using 151/151 trials with best loss 1.250596\n"
     ]
    },
    {
     "name": "stdout",
     "output_type": "stream",
     "text": [
      "\r",
      " 76%|███████▌  | 152/200 [03:27<01:32,  1.93s/it, best loss: 1.2505958626380087]"
     ]
    },
    {
     "name": "stderr",
     "output_type": "stream",
     "text": [
      "INFO:hyperopt.tpe:tpe_transform took 0.255204 seconds\n",
      "INFO:hyperopt.tpe:TPE using 152/152 trials with best loss 1.250596\n"
     ]
    },
    {
     "name": "stdout",
     "output_type": "stream",
     "text": [
      "\r",
      " 76%|███████▋  | 153/200 [03:29<01:27,  1.87s/it, best loss: 1.2505958626380087]"
     ]
    },
    {
     "name": "stderr",
     "output_type": "stream",
     "text": [
      "INFO:hyperopt.tpe:tpe_transform took 0.608719 seconds\n",
      "INFO:hyperopt.tpe:TPE using 153/153 trials with best loss 1.250596\n"
     ]
    },
    {
     "name": "stdout",
     "output_type": "stream",
     "text": [
      "\r",
      " 77%|███████▋  | 154/200 [03:31<01:27,  1.90s/it, best loss: 1.2505958626380087]"
     ]
    },
    {
     "name": "stderr",
     "output_type": "stream",
     "text": [
      "INFO:hyperopt.tpe:tpe_transform took 0.217254 seconds\n",
      "INFO:hyperopt.tpe:TPE using 154/154 trials with best loss 1.250596\n"
     ]
    },
    {
     "name": "stdout",
     "output_type": "stream",
     "text": [
      "\r",
      " 78%|███████▊  | 155/200 [03:32<01:21,  1.80s/it, best loss: 1.2505958626380087]"
     ]
    },
    {
     "name": "stderr",
     "output_type": "stream",
     "text": [
      "INFO:hyperopt.tpe:tpe_transform took 0.596439 seconds\n",
      "INFO:hyperopt.tpe:TPE using 155/155 trials with best loss 1.250596\n"
     ]
    },
    {
     "name": "stdout",
     "output_type": "stream",
     "text": [
      "\r",
      " 78%|███████▊  | 156/200 [03:34<01:20,  1.83s/it, best loss: 1.2505958626380087]"
     ]
    },
    {
     "name": "stderr",
     "output_type": "stream",
     "text": [
      "INFO:hyperopt.tpe:tpe_transform took 0.283370 seconds\n",
      "INFO:hyperopt.tpe:TPE using 156/156 trials with best loss 1.250596\n"
     ]
    },
    {
     "name": "stdout",
     "output_type": "stream",
     "text": [
      "\r",
      " 78%|███████▊  | 157/200 [03:36<01:18,  1.83s/it, best loss: 1.2505958626380087]"
     ]
    },
    {
     "name": "stderr",
     "output_type": "stream",
     "text": [
      "INFO:hyperopt.tpe:tpe_transform took 0.561760 seconds\n",
      "INFO:hyperopt.tpe:TPE using 157/157 trials with best loss 1.250596\n"
     ]
    },
    {
     "name": "stdout",
     "output_type": "stream",
     "text": [
      "\r",
      " 79%|███████▉  | 158/200 [03:38<01:17,  1.85s/it, best loss: 1.2505958626380087]"
     ]
    },
    {
     "name": "stderr",
     "output_type": "stream",
     "text": [
      "INFO:hyperopt.tpe:tpe_transform took 0.230555 seconds\n",
      "INFO:hyperopt.tpe:TPE using 158/158 trials with best loss 1.250596\n"
     ]
    },
    {
     "name": "stdout",
     "output_type": "stream",
     "text": [
      "\r",
      " 80%|███████▉  | 159/200 [03:40<01:16,  1.88s/it, best loss: 1.2505958626380087]"
     ]
    },
    {
     "name": "stderr",
     "output_type": "stream",
     "text": [
      "INFO:hyperopt.tpe:tpe_transform took 0.239179 seconds\n",
      "INFO:hyperopt.tpe:TPE using 159/159 trials with best loss 1.250596\n"
     ]
    },
    {
     "name": "stdout",
     "output_type": "stream",
     "text": [
      "\r",
      " 80%|████████  | 160/200 [03:41<01:12,  1.82s/it, best loss: 1.2505958626380087]"
     ]
    },
    {
     "name": "stderr",
     "output_type": "stream",
     "text": [
      "INFO:hyperopt.tpe:tpe_transform took 0.646359 seconds\n",
      "INFO:hyperopt.tpe:TPE using 160/160 trials with best loss 1.250596\n"
     ]
    },
    {
     "name": "stdout",
     "output_type": "stream",
     "text": [
      "\r",
      " 80%|████████  | 161/200 [03:43<01:12,  1.87s/it, best loss: 1.2505958626380087]"
     ]
    },
    {
     "name": "stderr",
     "output_type": "stream",
     "text": [
      "INFO:hyperopt.tpe:tpe_transform took 0.251792 seconds\n",
      "INFO:hyperopt.tpe:TPE using 161/161 trials with best loss 1.250596\n"
     ]
    },
    {
     "name": "stdout",
     "output_type": "stream",
     "text": [
      "\r",
      " 81%|████████  | 162/200 [03:45<01:08,  1.80s/it, best loss: 1.2505958626380087]"
     ]
    },
    {
     "name": "stderr",
     "output_type": "stream",
     "text": [
      "INFO:hyperopt.tpe:tpe_transform took 0.593323 seconds\n",
      "INFO:hyperopt.tpe:TPE using 162/162 trials with best loss 1.250596\n"
     ]
    },
    {
     "name": "stdout",
     "output_type": "stream",
     "text": [
      "\r",
      " 82%|████████▏ | 163/200 [03:47<01:08,  1.85s/it, best loss: 1.2505958626380087]"
     ]
    },
    {
     "name": "stderr",
     "output_type": "stream",
     "text": [
      "INFO:hyperopt.tpe:tpe_transform took 0.234834 seconds\n",
      "INFO:hyperopt.tpe:TPE using 163/163 trials with best loss 1.250596\n"
     ]
    },
    {
     "name": "stdout",
     "output_type": "stream",
     "text": [
      "\r",
      " 82%|████████▏ | 164/200 [03:49<01:04,  1.79s/it, best loss: 1.2505958626380087]"
     ]
    },
    {
     "name": "stderr",
     "output_type": "stream",
     "text": [
      "INFO:hyperopt.tpe:tpe_transform took 0.564251 seconds\n",
      "INFO:hyperopt.tpe:TPE using 164/164 trials with best loss 1.250596\n"
     ]
    },
    {
     "name": "stdout",
     "output_type": "stream",
     "text": [
      "\r",
      " 82%|████████▎ | 165/200 [03:50<01:03,  1.82s/it, best loss: 1.2505958626380087]"
     ]
    },
    {
     "name": "stderr",
     "output_type": "stream",
     "text": [
      "INFO:hyperopt.tpe:tpe_transform took 0.228615 seconds\n",
      "INFO:hyperopt.tpe:TPE using 165/165 trials with best loss 1.250596\n"
     ]
    },
    {
     "name": "stdout",
     "output_type": "stream",
     "text": [
      "\r",
      " 83%|████████▎ | 166/200 [03:53<01:03,  1.88s/it, best loss: 1.2505958626380087]"
     ]
    },
    {
     "name": "stderr",
     "output_type": "stream",
     "text": [
      "INFO:hyperopt.tpe:tpe_transform took 0.230319 seconds\n",
      "INFO:hyperopt.tpe:TPE using 166/166 trials with best loss 1.250596\n"
     ]
    },
    {
     "name": "stdout",
     "output_type": "stream",
     "text": [
      "\r",
      " 84%|████████▎ | 167/200 [03:54<00:59,  1.82s/it, best loss: 1.2505958626380087]"
     ]
    },
    {
     "name": "stderr",
     "output_type": "stream",
     "text": [
      "INFO:hyperopt.tpe:tpe_transform took 0.239344 seconds\n",
      "INFO:hyperopt.tpe:TPE using 167/167 trials with best loss 1.250596\n"
     ]
    },
    {
     "name": "stdout",
     "output_type": "stream",
     "text": [
      "\r",
      " 84%|████████▍ | 168/200 [03:56<01:00,  1.88s/it, best loss: 1.2505958626380087]"
     ]
    },
    {
     "name": "stderr",
     "output_type": "stream",
     "text": [
      "INFO:hyperopt.tpe:tpe_transform took 0.251034 seconds\n",
      "INFO:hyperopt.tpe:TPE using 168/168 trials with best loss 1.250596\n"
     ]
    },
    {
     "name": "stdout",
     "output_type": "stream",
     "text": [
      "\r",
      " 84%|████████▍ | 169/200 [03:58<00:55,  1.80s/it, best loss: 1.2505958626380087]"
     ]
    },
    {
     "name": "stderr",
     "output_type": "stream",
     "text": [
      "INFO:hyperopt.tpe:tpe_transform took 0.576467 seconds\n",
      "INFO:hyperopt.tpe:TPE using 169/169 trials with best loss 1.250596\n"
     ]
    },
    {
     "name": "stdout",
     "output_type": "stream",
     "text": [
      "\r",
      " 85%|████████▌ | 170/200 [04:00<00:55,  1.85s/it, best loss: 1.2505958626380087]"
     ]
    },
    {
     "name": "stderr",
     "output_type": "stream",
     "text": [
      "INFO:hyperopt.tpe:tpe_transform took 0.244197 seconds\n",
      "INFO:hyperopt.tpe:TPE using 170/170 trials with best loss 1.250596\n"
     ]
    },
    {
     "name": "stdout",
     "output_type": "stream",
     "text": [
      "\r",
      " 86%|████████▌ | 171/200 [04:02<00:53,  1.84s/it, best loss: 1.2505958626380087]"
     ]
    },
    {
     "name": "stderr",
     "output_type": "stream",
     "text": [
      "INFO:hyperopt.tpe:tpe_transform took 0.625898 seconds\n",
      "INFO:hyperopt.tpe:TPE using 171/171 trials with best loss 1.250596\n"
     ]
    },
    {
     "name": "stdout",
     "output_type": "stream",
     "text": [
      "\r",
      " 86%|████████▌ | 172/200 [04:04<00:53,  1.90s/it, best loss: 1.2505958626380087]"
     ]
    },
    {
     "name": "stderr",
     "output_type": "stream",
     "text": [
      "INFO:hyperopt.tpe:tpe_transform took 0.234914 seconds\n",
      "INFO:hyperopt.tpe:TPE using 172/172 trials with best loss 1.250596\n"
     ]
    },
    {
     "name": "stdout",
     "output_type": "stream",
     "text": [
      "\r",
      " 86%|████████▋ | 173/200 [04:05<00:49,  1.84s/it, best loss: 1.2505958626380087]"
     ]
    },
    {
     "name": "stderr",
     "output_type": "stream",
     "text": [
      "INFO:hyperopt.tpe:tpe_transform took 0.624479 seconds\n",
      "INFO:hyperopt.tpe:TPE using 173/173 trials with best loss 1.250596\n"
     ]
    },
    {
     "name": "stdout",
     "output_type": "stream",
     "text": [
      "\r",
      " 87%|████████▋ | 174/200 [04:07<00:50,  1.93s/it, best loss: 1.2505958626380087]"
     ]
    },
    {
     "name": "stderr",
     "output_type": "stream",
     "text": [
      "INFO:hyperopt.tpe:tpe_transform took 0.251593 seconds\n",
      "INFO:hyperopt.tpe:TPE using 174/174 trials with best loss 1.250596\n"
     ]
    },
    {
     "name": "stdout",
     "output_type": "stream",
     "text": [
      "\r",
      " 88%|████████▊ | 175/200 [04:09<00:46,  1.86s/it, best loss: 1.2505958626380087]"
     ]
    },
    {
     "name": "stderr",
     "output_type": "stream",
     "text": [
      "INFO:hyperopt.tpe:tpe_transform took 0.583906 seconds\n",
      "INFO:hyperopt.tpe:TPE using 175/175 trials with best loss 1.250596\n"
     ]
    },
    {
     "name": "stdout",
     "output_type": "stream",
     "text": [
      "\r",
      " 88%|████████▊ | 176/200 [04:11<00:45,  1.90s/it, best loss: 1.2505958626380087]"
     ]
    },
    {
     "name": "stderr",
     "output_type": "stream",
     "text": [
      "INFO:hyperopt.tpe:tpe_transform took 0.235408 seconds\n",
      "INFO:hyperopt.tpe:TPE using 176/176 trials with best loss 1.250596\n"
     ]
    },
    {
     "name": "stdout",
     "output_type": "stream",
     "text": [
      "\r",
      " 88%|████████▊ | 177/200 [04:13<00:41,  1.82s/it, best loss: 1.2505958626380087]"
     ]
    },
    {
     "name": "stderr",
     "output_type": "stream",
     "text": [
      "INFO:hyperopt.tpe:tpe_transform took 0.619454 seconds\n",
      "INFO:hyperopt.tpe:TPE using 177/177 trials with best loss 1.250596\n"
     ]
    },
    {
     "name": "stdout",
     "output_type": "stream",
     "text": [
      "\r",
      " 89%|████████▉ | 178/200 [04:15<00:42,  1.94s/it, best loss: 1.2505958626380087]"
     ]
    },
    {
     "name": "stderr",
     "output_type": "stream",
     "text": [
      "INFO:hyperopt.tpe:tpe_transform took 0.253521 seconds\n",
      "INFO:hyperopt.tpe:TPE using 178/178 trials with best loss 1.250596\n"
     ]
    },
    {
     "name": "stdout",
     "output_type": "stream",
     "text": [
      "\r",
      " 90%|████████▉ | 179/200 [04:17<00:41,  1.98s/it, best loss: 1.2505958626380087]"
     ]
    },
    {
     "name": "stderr",
     "output_type": "stream",
     "text": [
      "INFO:hyperopt.tpe:tpe_transform took 0.649195 seconds\n",
      "INFO:hyperopt.tpe:TPE using 179/179 trials with best loss 1.250596\n"
     ]
    },
    {
     "name": "stdout",
     "output_type": "stream",
     "text": [
      "\r",
      " 90%|█████████ | 180/200 [04:19<00:40,  2.02s/it, best loss: 1.2505958626380087]"
     ]
    },
    {
     "name": "stderr",
     "output_type": "stream",
     "text": [
      "INFO:hyperopt.tpe:tpe_transform took 0.270269 seconds\n",
      "INFO:hyperopt.tpe:TPE using 180/180 trials with best loss 1.250596\n"
     ]
    },
    {
     "name": "stdout",
     "output_type": "stream",
     "text": [
      "\r",
      " 90%|█████████ | 181/200 [04:21<00:37,  1.95s/it, best loss: 1.2505958626380087]"
     ]
    },
    {
     "name": "stderr",
     "output_type": "stream",
     "text": [
      "INFO:hyperopt.tpe:tpe_transform took 0.236762 seconds\n",
      "INFO:hyperopt.tpe:TPE using 181/181 trials with best loss 1.250596\n"
     ]
    },
    {
     "name": "stdout",
     "output_type": "stream",
     "text": [
      "\r",
      " 91%|█████████ | 182/200 [04:22<00:31,  1.76s/it, best loss: 1.2505958626380087]"
     ]
    },
    {
     "name": "stderr",
     "output_type": "stream",
     "text": [
      "INFO:hyperopt.tpe:tpe_transform took 0.165378 seconds\n",
      "INFO:hyperopt.tpe:TPE using 182/182 trials with best loss 1.250596\n"
     ]
    },
    {
     "name": "stdout",
     "output_type": "stream",
     "text": [
      "\r",
      " 92%|█████████▏| 183/200 [04:24<00:28,  1.67s/it, best loss: 1.2505958626380087]"
     ]
    },
    {
     "name": "stderr",
     "output_type": "stream",
     "text": [
      "INFO:hyperopt.tpe:tpe_transform took 0.157775 seconds\n",
      "INFO:hyperopt.tpe:TPE using 183/183 trials with best loss 1.250596\n"
     ]
    },
    {
     "name": "stdout",
     "output_type": "stream",
     "text": [
      "\r",
      " 92%|█████████▏| 184/200 [04:26<00:28,  1.79s/it, best loss: 1.2505958626380087]"
     ]
    },
    {
     "name": "stderr",
     "output_type": "stream",
     "text": [
      "INFO:hyperopt.tpe:tpe_transform took 0.738379 seconds\n",
      "INFO:hyperopt.tpe:TPE using 184/184 trials with best loss 1.250596\n"
     ]
    },
    {
     "name": "stdout",
     "output_type": "stream",
     "text": [
      "\r",
      " 92%|█████████▎| 185/200 [04:29<00:31,  2.11s/it, best loss: 1.2505958626380087]"
     ]
    },
    {
     "name": "stderr",
     "output_type": "stream",
     "text": [
      "INFO:hyperopt.tpe:tpe_transform took 0.273516 seconds\n",
      "INFO:hyperopt.tpe:TPE using 185/185 trials with best loss 1.250596\n"
     ]
    },
    {
     "name": "stdout",
     "output_type": "stream",
     "text": [
      "\r",
      " 93%|█████████▎| 186/200 [04:31<00:30,  2.17s/it, best loss: 1.2505958626380087]"
     ]
    },
    {
     "name": "stderr",
     "output_type": "stream",
     "text": [
      "INFO:hyperopt.tpe:tpe_transform took 1.103731 seconds\n",
      "INFO:hyperopt.tpe:TPE using 186/186 trials with best loss 1.250596\n"
     ]
    },
    {
     "name": "stdout",
     "output_type": "stream",
     "text": [
      "\r",
      " 94%|█████████▎| 187/200 [04:35<00:35,  2.73s/it, best loss: 1.2505958626380087]"
     ]
    },
    {
     "name": "stderr",
     "output_type": "stream",
     "text": [
      "INFO:hyperopt.tpe:tpe_transform took 0.324944 seconds\n",
      "INFO:hyperopt.tpe:TPE using 187/187 trials with best loss 1.250596\n"
     ]
    },
    {
     "name": "stdout",
     "output_type": "stream",
     "text": [
      "\r",
      " 94%|█████████▍| 188/200 [04:38<00:33,  2.76s/it, best loss: 1.2505958626380087]"
     ]
    },
    {
     "name": "stderr",
     "output_type": "stream",
     "text": [
      "INFO:hyperopt.tpe:tpe_transform took 0.709324 seconds\n",
      "INFO:hyperopt.tpe:TPE using 188/188 trials with best loss 1.250596\n"
     ]
    },
    {
     "name": "stdout",
     "output_type": "stream",
     "text": [
      "\r",
      " 94%|█████████▍| 189/200 [04:40<00:29,  2.67s/it, best loss: 1.2505958626380087]"
     ]
    },
    {
     "name": "stderr",
     "output_type": "stream",
     "text": [
      "INFO:hyperopt.tpe:tpe_transform took 0.209103 seconds\n",
      "INFO:hyperopt.tpe:TPE using 189/189 trials with best loss 1.250596\n"
     ]
    },
    {
     "name": "stdout",
     "output_type": "stream",
     "text": [
      "\r",
      " 95%|█████████▌| 190/200 [04:42<00:23,  2.34s/it, best loss: 1.2505958626380087]"
     ]
    },
    {
     "name": "stderr",
     "output_type": "stream",
     "text": [
      "INFO:hyperopt.tpe:tpe_transform took 0.388728 seconds\n",
      "INFO:hyperopt.tpe:TPE using 190/190 trials with best loss 1.250596\n"
     ]
    },
    {
     "name": "stdout",
     "output_type": "stream",
     "text": [
      "\r",
      " 96%|█████████▌| 191/200 [04:44<00:19,  2.22s/it, best loss: 1.2505958626380087]"
     ]
    },
    {
     "name": "stderr",
     "output_type": "stream",
     "text": [
      "INFO:hyperopt.tpe:tpe_transform took 0.297075 seconds\n",
      "INFO:hyperopt.tpe:TPE using 191/191 trials with best loss 1.250596\n"
     ]
    },
    {
     "name": "stdout",
     "output_type": "stream",
     "text": [
      "\r",
      " 96%|█████████▌| 192/200 [04:45<00:16,  2.04s/it, best loss: 1.2505958626380087]"
     ]
    },
    {
     "name": "stderr",
     "output_type": "stream",
     "text": [
      "INFO:hyperopt.tpe:tpe_transform took 0.361087 seconds\n",
      "INFO:hyperopt.tpe:TPE using 192/192 trials with best loss 1.250596\n"
     ]
    },
    {
     "name": "stdout",
     "output_type": "stream",
     "text": [
      "\r",
      " 96%|█████████▋| 193/200 [04:47<00:13,  1.90s/it, best loss: 1.2505958626380087]"
     ]
    },
    {
     "name": "stderr",
     "output_type": "stream",
     "text": [
      "INFO:hyperopt.tpe:tpe_transform took 0.161988 seconds\n",
      "INFO:hyperopt.tpe:TPE using 193/193 trials with best loss 1.250596\n"
     ]
    },
    {
     "name": "stdout",
     "output_type": "stream",
     "text": [
      "\r",
      " 97%|█████████▋| 194/200 [04:49<00:11,  1.83s/it, best loss: 1.2505958626380087]"
     ]
    },
    {
     "name": "stderr",
     "output_type": "stream",
     "text": [
      "INFO:hyperopt.tpe:tpe_transform took 0.309538 seconds\n",
      "INFO:hyperopt.tpe:TPE using 194/194 trials with best loss 1.250596\n"
     ]
    },
    {
     "name": "stdout",
     "output_type": "stream",
     "text": [
      "\r",
      " 98%|█████████▊| 195/200 [04:50<00:08,  1.73s/it, best loss: 1.2505958626380087]"
     ]
    },
    {
     "name": "stderr",
     "output_type": "stream",
     "text": [
      "INFO:hyperopt.tpe:tpe_transform took 0.187065 seconds\n",
      "INFO:hyperopt.tpe:TPE using 195/195 trials with best loss 1.250596\n"
     ]
    },
    {
     "name": "stdout",
     "output_type": "stream",
     "text": [
      "\r",
      " 98%|█████████▊| 196/200 [04:52<00:06,  1.65s/it, best loss: 1.2505958626380087]"
     ]
    },
    {
     "name": "stderr",
     "output_type": "stream",
     "text": [
      "INFO:hyperopt.tpe:tpe_transform took 0.177894 seconds\n",
      "INFO:hyperopt.tpe:TPE using 196/196 trials with best loss 1.250596\n"
     ]
    },
    {
     "name": "stdout",
     "output_type": "stream",
     "text": [
      "\r",
      " 98%|█████████▊| 197/200 [04:53<00:04,  1.54s/it, best loss: 1.2505958626380087]"
     ]
    },
    {
     "name": "stderr",
     "output_type": "stream",
     "text": [
      "INFO:hyperopt.tpe:tpe_transform took 0.404688 seconds\n",
      "INFO:hyperopt.tpe:TPE using 197/197 trials with best loss 1.250596\n"
     ]
    },
    {
     "name": "stdout",
     "output_type": "stream",
     "text": [
      "\r",
      " 99%|█████████▉| 198/200 [04:54<00:03,  1.53s/it, best loss: 1.2505958626380087]"
     ]
    },
    {
     "name": "stderr",
     "output_type": "stream",
     "text": [
      "INFO:hyperopt.tpe:tpe_transform took 0.168213 seconds\n",
      "INFO:hyperopt.tpe:TPE using 198/198 trials with best loss 1.250596\n"
     ]
    },
    {
     "name": "stdout",
     "output_type": "stream",
     "text": [
      "\r",
      "100%|█████████▉| 199/200 [04:56<00:01,  1.44s/it, best loss: 1.2505958626380087]"
     ]
    },
    {
     "name": "stderr",
     "output_type": "stream",
     "text": [
      "INFO:hyperopt.tpe:tpe_transform took 0.375377 seconds\n",
      "INFO:hyperopt.tpe:TPE using 199/199 trials with best loss 1.250596\n"
     ]
    },
    {
     "name": "stdout",
     "output_type": "stream",
     "text": [
      "100%|██████████| 200/200 [04:57<00:00,  1.43s/it, best loss: 1.2505958626380087]\n",
      "100%|██████████| 2000/2000 [03:04<00:00, 10.83it/s, best loss: 1.0682723223821022]\n"
     ]
    }
   ],
   "source": [
    "from hyperopt import rand, tpe\n",
    "\n",
    "# Create the algorithms\n",
    "tpe_algo = tpe.suggest\n",
    "rand_algo = rand.suggest\n",
    "\n",
    "from hyperopt import Trials\n",
    "\n",
    "# Create two trials objects\n",
    "tpe_trials = Trials()\n",
    "rand_trials = Trials()\n",
    "\n",
    "from hyperopt import fmin\n",
    "\n",
    "# Run max_evals evals with the tpe algorithm\n",
    "tpe_best = fmin(fn=objective, space=space, algo=tpe_algo, trials=tpe_trials, \n",
    "                max_evals=200, rstate= np.random.RandomState(50))\n",
    "\n",
    "# Run max_evals evals with the random algorithm\n",
    "rand_best = fmin(fn=objective, space=space, algo=rand_algo, trials=rand_trials, \n",
    "                 max_evals=2000, rstate= np.random.RandomState(50))"
   ]
  },
  {
   "cell_type": "code",
   "execution_count": 980,
   "metadata": {},
   "outputs": [
    {
     "name": "stdout",
     "output_type": "stream",
     "text": [
      "Minimum loss attained with TPE:    1.2506\n",
      "Minimum loss attained with random: 1.0683\n",
      "\n",
      "Number of trials needed to attain minimum with TPE:    122\n",
      "Number of trials needed to attain minimum with random: 69\n"
     ]
    }
   ],
   "source": [
    "# Print out information about losses\n",
    "print('Minimum loss attained with TPE:    {:.4f}'.format(tpe_trials.best_trial['result']['loss']))\n",
    "print('Minimum loss attained with random: {:.4f}'.format(rand_trials.best_trial['result']['loss']))\n",
    "\n",
    "# Print out information about number of trials\n",
    "print('\\nNumber of trials needed to attain minimum with TPE:    {}'.format(tpe_trials.best_trial['misc']['idxs']['127'][0]))\n",
    "print('Number of trials needed to attain minimum with random: {}'.format(rand_trials.best_trial['misc']['idxs']['127'][0]))\n"
   ]
  },
  {
   "cell_type": "code",
   "execution_count": 981,
   "metadata": {
    "collapsed": true
   },
   "outputs": [],
   "source": [
    "tpe_results = pd.DataFrame.from_dict(tpe_best, orient='index')\n",
    "rand_results = pd.DataFrame.from_dict(rand_best, orient='index')\n",
    "\n",
    "w_pred_tpe = np.array(tpe_results)\n",
    "w_pred_rand = np.array(rand_results)"
   ]
  },
  {
   "cell_type": "code",
   "execution_count": 911,
   "metadata": {
    "collapsed": true
   },
   "outputs": [],
   "source": [
    "def pred(w):\n",
    "    w_true, b = (w[1:], w[0])\n",
    "    y = sigmoid(np.matmul(X_val, w_true) + b)\n",
    "    y_pred = (y >= 0.5)*1\n",
    "    return y_pred"
   ]
  },
  {
   "cell_type": "code",
   "execution_count": 975,
   "metadata": {
    "collapsed": true
   },
   "outputs": [],
   "source": [
    "def pred_2(W):\n",
    "    v, w = (W[:n_feat], W[n_feat:(2*n_feat)])\n",
    "    labels = ((v >= 0)*1).reshape(-1,)\n",
    "    labels_fin = np.where(labels == 1)[0]\n",
    "    X_red = X_val[:,labels_fin]\n",
    "    w_red = w[labels_fin]\n",
    "    y = sigmoid(np.matmul(X_red, w_red))\n",
    "    y_pred = (y >= 0.5)*1\n",
    "    return y_pred"
   ]
  },
  {
   "cell_type": "code",
   "execution_count": 982,
   "metadata": {},
   "outputs": [
    {
     "name": "stdout",
     "output_type": "stream",
     "text": [
      "0.6 0.46\n"
     ]
    }
   ],
   "source": [
    "from sklearn.metrics import accuracy_score\n",
    "\n",
    "y_pred_tpe = pred_2(w_pred_tpe)\n",
    "y_pred_rand = pred_2(w_pred_rand)\n",
    "print(accuracy_score(y_val,y_pred_tpe), accuracy_score(y_val,y_pred_rand))"
   ]
  },
  {
   "cell_type": "markdown",
   "metadata": {
    "collapsed": true
   },
   "source": [
    "## Predictions on test set"
   ]
  },
  {
   "cell_type": "markdown",
   "metadata": {},
   "source": [
    "Best classifier so far: LogReg with l1 penalty"
   ]
  },
  {
   "cell_type": "code",
   "execution_count": 1063,
   "metadata": {},
   "outputs": [
    {
     "data": {
      "text/plain": [
       "LogisticRegression(C=0.1, class_weight=None, dual=False, fit_intercept=True,\n",
       "          intercept_scaling=1, max_iter=100, multi_class='warn',\n",
       "          n_jobs=None, penalty='l1', random_state=None, solver='liblinear',\n",
       "          tol=0.0001, verbose=0, warm_start=False)"
      ]
     },
     "execution_count": 1063,
     "metadata": {},
     "output_type": "execute_result"
    }
   ],
   "source": [
    "log_reg_l1 = LogisticRegression(penalty='l1', C=0.1, solver='liblinear')\n",
    "log_reg_l1.fit(X_train,y_train)"
   ]
  },
  {
   "cell_type": "code",
   "execution_count": 1064,
   "metadata": {
    "collapsed": true
   },
   "outputs": [],
   "source": [
    "ids = test_data['id']"
   ]
  },
  {
   "cell_type": "code",
   "execution_count": 1028,
   "metadata": {
    "collapsed": true
   },
   "outputs": [],
   "source": [
    "def prediction(clf):\n",
    "    y_predict = clf.predict(X_test)\n",
    "    df = pd.DataFrame({'id': ids, 'target': y_predict})     \n",
    "    return df"
   ]
  },
  {
   "cell_type": "code",
   "execution_count": 1071,
   "metadata": {
    "collapsed": true
   },
   "outputs": [],
   "source": [
    "def predict_proba(clf):\n",
    "    y_proba = clf.predict_proba(X_test)\n",
    "    df = pd.DataFrame({'id': ids, 'target': y_proba[:,1]})     \n",
    "    return df"
   ]
  },
  {
   "cell_type": "code",
   "execution_count": 1066,
   "metadata": {},
   "outputs": [
    {
     "data": {
      "text/html": [
       "<div>\n",
       "<style>\n",
       "    .dataframe thead tr:only-child th {\n",
       "        text-align: right;\n",
       "    }\n",
       "\n",
       "    .dataframe thead th {\n",
       "        text-align: left;\n",
       "    }\n",
       "\n",
       "    .dataframe tbody tr th {\n",
       "        vertical-align: top;\n",
       "    }\n",
       "</style>\n",
       "<table border=\"1\" class=\"dataframe\">\n",
       "  <thead>\n",
       "    <tr style=\"text-align: right;\">\n",
       "      <th></th>\n",
       "      <th>id</th>\n",
       "      <th>target</th>\n",
       "    </tr>\n",
       "  </thead>\n",
       "  <tbody>\n",
       "    <tr>\n",
       "      <th>0</th>\n",
       "      <td>250</td>\n",
       "      <td>1.0</td>\n",
       "    </tr>\n",
       "    <tr>\n",
       "      <th>1</th>\n",
       "      <td>251</td>\n",
       "      <td>1.0</td>\n",
       "    </tr>\n",
       "    <tr>\n",
       "      <th>2</th>\n",
       "      <td>252</td>\n",
       "      <td>1.0</td>\n",
       "    </tr>\n",
       "    <tr>\n",
       "      <th>3</th>\n",
       "      <td>253</td>\n",
       "      <td>1.0</td>\n",
       "    </tr>\n",
       "    <tr>\n",
       "      <th>4</th>\n",
       "      <td>254</td>\n",
       "      <td>1.0</td>\n",
       "    </tr>\n",
       "  </tbody>\n",
       "</table>\n",
       "</div>"
      ],
      "text/plain": [
       "    id  target\n",
       "0  250     1.0\n",
       "1  251     1.0\n",
       "2  252     1.0\n",
       "3  253     1.0\n",
       "4  254     1.0"
      ]
     },
     "execution_count": 1066,
     "metadata": {},
     "output_type": "execute_result"
    }
   ],
   "source": [
    "df_pred = prediction(log_reg_l1)\n",
    "\n",
    "df_pred.head()"
   ]
  },
  {
   "cell_type": "code",
   "execution_count": 250,
   "metadata": {
    "collapsed": true
   },
   "outputs": [],
   "source": [
    "df_pred[['id', 'target']].to_csv('submission.csv', index=False) "
   ]
  },
  {
   "cell_type": "code",
   "execution_count": 439,
   "metadata": {
    "collapsed": true
   },
   "outputs": [],
   "source": [
    "log_reg_saga = LogisticRegression(penalty='l1', C=0.12, solver='saga', warm_start=True)\n",
    "log_reg_saga.fit(X_train,y_train)\n",
    "\n",
    "df_pred_saga = prediction(log_reg_saga)\n",
    "df_pred_saga[['id', 'target']].to_csv('submission_saga.csv', index=False) "
   ]
  },
  {
   "cell_type": "code",
   "execution_count": 1073,
   "metadata": {},
   "outputs": [
    {
     "data": {
      "text/html": [
       "<div>\n",
       "<style>\n",
       "    .dataframe thead tr:only-child th {\n",
       "        text-align: right;\n",
       "    }\n",
       "\n",
       "    .dataframe thead th {\n",
       "        text-align: left;\n",
       "    }\n",
       "\n",
       "    .dataframe tbody tr th {\n",
       "        vertical-align: top;\n",
       "    }\n",
       "</style>\n",
       "<table border=\"1\" class=\"dataframe\">\n",
       "  <thead>\n",
       "    <tr style=\"text-align: right;\">\n",
       "      <th></th>\n",
       "      <th>id</th>\n",
       "      <th>target</th>\n",
       "    </tr>\n",
       "  </thead>\n",
       "  <tbody>\n",
       "    <tr>\n",
       "      <th>0</th>\n",
       "      <td>250</td>\n",
       "      <td>0.734584</td>\n",
       "    </tr>\n",
       "    <tr>\n",
       "      <th>1</th>\n",
       "      <td>251</td>\n",
       "      <td>0.593910</td>\n",
       "    </tr>\n",
       "    <tr>\n",
       "      <th>2</th>\n",
       "      <td>252</td>\n",
       "      <td>0.616450</td>\n",
       "    </tr>\n",
       "    <tr>\n",
       "      <th>3</th>\n",
       "      <td>253</td>\n",
       "      <td>0.805189</td>\n",
       "    </tr>\n",
       "    <tr>\n",
       "      <th>4</th>\n",
       "      <td>254</td>\n",
       "      <td>0.529846</td>\n",
       "    </tr>\n",
       "  </tbody>\n",
       "</table>\n",
       "</div>"
      ],
      "text/plain": [
       "    id    target\n",
       "0  250  0.734584\n",
       "1  251  0.593910\n",
       "2  252  0.616450\n",
       "3  253  0.805189\n",
       "4  254  0.529846"
      ]
     },
     "execution_count": 1073,
     "metadata": {},
     "output_type": "execute_result"
    }
   ],
   "source": [
    "df_proba_log_reg_l1 = predict_proba(log_reg_l1)\n",
    "df_proba.head()"
   ]
  },
  {
   "cell_type": "code",
   "execution_count": 1075,
   "metadata": {},
   "outputs": [],
   "source": [
    "df_proba_log_reg_l1[['id', 'target']].to_csv('submission_proba_log_reg.csv', index=False) "
   ]
  },
  {
   "cell_type": "markdown",
   "metadata": {},
   "source": [
    "## Neural network with dropout"
   ]
  },
  {
   "cell_type": "code",
   "execution_count": 592,
   "metadata": {
    "collapsed": true
   },
   "outputs": [],
   "source": [
    "from sklearn.model_selection import train_test_split\n",
    "\n",
    "np.random.seed(11)\n",
    "perm = np.random.permutation(len(X_train))\n",
    "X_tr, X_val, y_tr, y_val = train_test_split(X_train[perm], y_train[perm], test_size = 0.2)"
   ]
  },
  {
   "cell_type": "code",
   "execution_count": 475,
   "metadata": {
    "collapsed": true
   },
   "outputs": [],
   "source": [
    "import tensorflow as tf"
   ]
  },
  {
   "cell_type": "code",
   "execution_count": 477,
   "metadata": {
    "collapsed": true
   },
   "outputs": [],
   "source": [
    "def reset_graph(seed=42):\n",
    "    tf.reset_default_graph()\n",
    "    tf.set_random_seed(seed)\n",
    "    np.random.seed(seed)"
   ]
  },
  {
   "cell_type": "code",
   "execution_count": 489,
   "metadata": {
    "collapsed": true
   },
   "outputs": [],
   "source": [
    "def shuffle_batch(X, y, batch_size):\n",
    "    rnd_idx = np.random.permutation(len(X))\n",
    "    n_batches = len(X) // batch_size\n",
    "    for batch_idx in np.array_split(rnd_idx, n_batches):\n",
    "        X_batch, y_batch = X[batch_idx], y[batch_idx]\n",
    "        yield X_batch, y_batch"
   ]
  },
  {
   "cell_type": "code",
   "execution_count": 893,
   "metadata": {
    "collapsed": true
   },
   "outputs": [],
   "source": [
    "reset_graph()\n",
    "\n",
    "# Parameters/Variables/Placeholders\n",
    "\n",
    "n_features = X_train.shape[1]\n",
    "n_hidden1 = 200\n",
    "#n_hidden2 = 100\n",
    "n_outputs = 2\n",
    "\n",
    "X = tf.placeholder(tf.float32, shape=(None, n_features), name=\"X\")\n",
    "y = tf.placeholder(tf.int32, shape=(None), name=\"y\")\n",
    "\n",
    "\n",
    "training = tf.placeholder_with_default(False, shape=(), name='training')\n",
    "\n",
    "dropout_rate = 0.25  # == 1 - keep_prob\n",
    "X_drop = tf.layers.dropout(X, dropout_rate, training=training)"
   ]
  },
  {
   "cell_type": "code",
   "execution_count": 894,
   "metadata": {
    "collapsed": true
   },
   "outputs": [],
   "source": [
    "# NN Model\n",
    "\n",
    "from functools import partial\n",
    "\n",
    "scale = 0.02\n",
    "\n",
    "my_dense_layer = partial(\n",
    "    tf.layers.dense, activation=tf.nn.relu,\n",
    "    kernel_regularizer=tf.contrib.layers.l1_regularizer(scale))\n",
    "\n",
    "with tf.name_scope(\"dnn\"):\n",
    "    hidden1 = my_dense_layer(X_drop, n_hidden1, activation=tf.nn.relu,\n",
    "                              name=\"hidden1\")\n",
    "    hidden1_drop = tf.layers.dropout(hidden1, dropout_rate, training=training)\n",
    "    \n",
    "#    hidden2 = my_dense_layer(hidden1_drop, n_hidden2, activation=tf.nn.relu,\n",
    "#                              name=\"hidden2\")\n",
    "#    hidden2_drop = tf.layers.dropout(hidden2, dropout_rate, training=training)\n",
    "    \n",
    "    logits = my_dense_layer(hidden1_drop, n_outputs, activation=None, name=\"outputs\")"
   ]
  },
  {
   "cell_type": "code",
   "execution_count": 895,
   "metadata": {
    "collapsed": true
   },
   "outputs": [],
   "source": [
    "# Loss/Training/Evaluation\n",
    "\n",
    "with tf.name_scope(\"loss\"):\n",
    "    xentropy = tf.nn.sparse_softmax_cross_entropy_with_logits(labels=y, logits=logits)\n",
    "    base_loss = tf.reduce_mean(xentropy, name=\"avg_xentropy\") \n",
    "    reg_losses = tf.get_collection(tf.GraphKeys.REGULARIZATION_LOSSES)\n",
    "    loss = tf.add_n([base_loss] + reg_losses, name=\"loss\")\n",
    "\n",
    "with tf.name_scope(\"train\"):\n",
    "    learning_rate = 0.01\n",
    "    optimizer = tf.train.AdamOptimizer(learning_rate)\n",
    "    training_op = optimizer.minimize(loss)    \n",
    "\n",
    "with tf.name_scope(\"eval\"):\n",
    "    correct = tf.nn.in_top_k(logits, y, 1)\n",
    "    accuracy = tf.reduce_mean(tf.cast(correct, tf.float32))\n",
    "    \n",
    "init = tf.global_variables_initializer()\n",
    "saver = tf.train.Saver()"
   ]
  },
  {
   "cell_type": "code",
   "execution_count": 896,
   "metadata": {},
   "outputs": [
    {
     "name": "stdout",
     "output_type": "stream",
     "text": [
      "0 Train accuracy: 0.94   Validation accuracy: 0.64\n",
      "10 Train accuracy: 0.93   Validation accuracy: 0.66\n",
      "20 Train accuracy: 0.955   Validation accuracy: 0.7\n",
      "30 Train accuracy: 0.955   Validation accuracy: 0.7\n",
      "40 Train accuracy: 0.955   Validation accuracy: 0.68\n",
      "50 Train accuracy: 0.955   Validation accuracy: 0.72\n",
      "60 Train accuracy: 0.955   Validation accuracy: 0.74\n",
      "70 Train accuracy: 0.97   Validation accuracy: 0.72\n",
      "80 Train accuracy: 0.98   Validation accuracy: 0.72\n",
      "90 Train accuracy: 0.96   Validation accuracy: 0.66\n",
      "100 Train accuracy: 0.955   Validation accuracy: 0.76\n",
      "110 Train accuracy: 0.96   Validation accuracy: 0.7\n",
      "120 Train accuracy: 0.955   Validation accuracy: 0.72\n",
      "130 Train accuracy: 0.935   Validation accuracy: 0.68\n",
      "140 Train accuracy: 0.96   Validation accuracy: 0.7\n",
      "150 Train accuracy: 0.975   Validation accuracy: 0.72\n",
      "160 Train accuracy: 0.96   Validation accuracy: 0.74\n",
      "170 Train accuracy: 0.965   Validation accuracy: 0.7\n",
      "180 Train accuracy: 0.96   Validation accuracy: 0.7\n",
      "190 Train accuracy: 0.965   Validation accuracy: 0.68\n"
     ]
    }
   ],
   "source": [
    "n_epochs = 200\n",
    "batch_size = 25\n",
    "\n",
    "with tf.Session() as sess:\n",
    "    init.run()\n",
    "    for epoch in range(n_epochs):\n",
    "        for X_batch, y_batch in shuffle_batch(X_tr, y_tr, batch_size):\n",
    "            sess.run(training_op, feed_dict={X: X_batch, y: y_batch, training: True})        \n",
    "        if epoch % 10 == 0:\n",
    "            accuracy_val = accuracy.eval(feed_dict={X: X_val, y: y_val})\n",
    "            accuracy_train = accuracy.eval(feed_dict={X: X_tr, y: y_tr})\n",
    "            print(epoch, \"Train accuracy:\", accuracy_train, \"  Validation accuracy:\", accuracy_val)\n",
    "\n",
    "    save_path = saver.save(sess, \"./my_model_final.ckpt\")"
   ]
  },
  {
   "cell_type": "code",
   "execution_count": 554,
   "metadata": {},
   "outputs": [
    {
     "name": "stderr",
     "output_type": "stream",
     "text": [
      "INFO:tensorflow:Restoring parameters from ./my_model_final.ckpt\n"
     ]
    }
   ],
   "source": [
    "with tf.Session() as sess:\n",
    "    saver.restore(sess, \"./my_model_final.ckpt\") # or better, use save_path\n",
    "    Z = logits.eval(feed_dict={X: X_test})\n",
    "    y_pred_nn = np.argmax(Z, axis=1)"
   ]
  },
  {
   "cell_type": "code",
   "execution_count": 557,
   "metadata": {
    "collapsed": true
   },
   "outputs": [],
   "source": [
    "df_nn = pd.DataFrame({'id': ids, 'target': y_pred_nn})\n",
    "df_nn[['id', 'target']].to_csv('submission_nn.csv', index=False) "
   ]
  },
  {
   "cell_type": "code",
   "execution_count": null,
   "metadata": {
    "collapsed": true
   },
   "outputs": [],
   "source": []
  }
 ],
 "metadata": {
  "kernelspec": {
   "display_name": "Python 3",
   "language": "python",
   "name": "python3"
  },
  "language_info": {
   "codemirror_mode": {
    "name": "ipython",
    "version": 3
   },
   "file_extension": ".py",
   "mimetype": "text/x-python",
   "name": "python",
   "nbconvert_exporter": "python",
   "pygments_lexer": "ipython3",
   "version": "3.6.8"
  }
 },
 "nbformat": 4,
 "nbformat_minor": 2
}
