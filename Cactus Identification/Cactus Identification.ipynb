{
 "cells": [
  {
   "cell_type": "code",
   "execution_count": 2,
   "metadata": {
    "collapsed": true
   },
   "outputs": [],
   "source": [
    "import numpy as np\n",
    "import os\n",
    "import pandas as pd\n",
    "#import tensorflow as tf\n",
    "\n",
    "# To plot pretty figures\n",
    "%matplotlib inline\n",
    "import matplotlib\n",
    "import matplotlib.pyplot as plt\n",
    "plt.rcParams['axes.labelsize'] = 14\n",
    "plt.rcParams['xtick.labelsize'] = 12\n",
    "plt.rcParams['ytick.labelsize'] = 12"
   ]
  },
  {
   "cell_type": "markdown",
   "metadata": {},
   "source": [
    "### Exploring the data"
   ]
  },
  {
   "cell_type": "code",
   "execution_count": 3,
   "metadata": {
    "collapsed": true
   },
   "outputs": [],
   "source": [
    "from IPython.display import display, Image"
   ]
  },
  {
   "cell_type": "code",
   "execution_count": 93,
   "metadata": {},
   "outputs": [
    {
     "data": {
      "text/plain": [
       "['.DS_Store', 'test', 'train', 'train.csv', 'sample_submission.csv']"
      ]
     },
     "execution_count": 93,
     "metadata": {},
     "output_type": "execute_result"
    }
   ],
   "source": [
    "os.listdir('input')"
   ]
  },
  {
   "cell_type": "code",
   "execution_count": 5,
   "metadata": {
    "collapsed": true
   },
   "outputs": [],
   "source": [
    "train_df = pd.read_csv('input/train.csv')\n",
    "submission_df = pd.read_csv('input/sample_submission.csv')"
   ]
  },
  {
   "cell_type": "code",
   "execution_count": 6,
   "metadata": {},
   "outputs": [
    {
     "data": {
      "text/html": [
       "<div>\n",
       "<style>\n",
       "    .dataframe thead tr:only-child th {\n",
       "        text-align: right;\n",
       "    }\n",
       "\n",
       "    .dataframe thead th {\n",
       "        text-align: left;\n",
       "    }\n",
       "\n",
       "    .dataframe tbody tr th {\n",
       "        vertical-align: top;\n",
       "    }\n",
       "</style>\n",
       "<table border=\"1\" class=\"dataframe\">\n",
       "  <thead>\n",
       "    <tr style=\"text-align: right;\">\n",
       "      <th></th>\n",
       "      <th>id</th>\n",
       "      <th>has_cactus</th>\n",
       "    </tr>\n",
       "  </thead>\n",
       "  <tbody>\n",
       "    <tr>\n",
       "      <th>0</th>\n",
       "      <td>0004be2cfeaba1c0361d39e2b000257b.jpg</td>\n",
       "      <td>1</td>\n",
       "    </tr>\n",
       "    <tr>\n",
       "      <th>1</th>\n",
       "      <td>000c8a36845c0208e833c79c1bffedd1.jpg</td>\n",
       "      <td>1</td>\n",
       "    </tr>\n",
       "    <tr>\n",
       "      <th>2</th>\n",
       "      <td>000d1e9a533f62e55c289303b072733d.jpg</td>\n",
       "      <td>1</td>\n",
       "    </tr>\n",
       "    <tr>\n",
       "      <th>3</th>\n",
       "      <td>0011485b40695e9138e92d0b3fb55128.jpg</td>\n",
       "      <td>1</td>\n",
       "    </tr>\n",
       "    <tr>\n",
       "      <th>4</th>\n",
       "      <td>0014d7a11e90b62848904c1418fc8cf2.jpg</td>\n",
       "      <td>1</td>\n",
       "    </tr>\n",
       "  </tbody>\n",
       "</table>\n",
       "</div>"
      ],
      "text/plain": [
       "                                     id  has_cactus\n",
       "0  0004be2cfeaba1c0361d39e2b000257b.jpg           1\n",
       "1  000c8a36845c0208e833c79c1bffedd1.jpg           1\n",
       "2  000d1e9a533f62e55c289303b072733d.jpg           1\n",
       "3  0011485b40695e9138e92d0b3fb55128.jpg           1\n",
       "4  0014d7a11e90b62848904c1418fc8cf2.jpg           1"
      ]
     },
     "execution_count": 6,
     "metadata": {},
     "output_type": "execute_result"
    }
   ],
   "source": [
    "train_df.head()"
   ]
  },
  {
   "cell_type": "code",
   "execution_count": 7,
   "metadata": {},
   "outputs": [
    {
     "name": "stdout",
     "output_type": "stream",
     "text": [
      "<class 'pandas.core.frame.DataFrame'>\n",
      "RangeIndex: 17500 entries, 0 to 17499\n",
      "Data columns (total 2 columns):\n",
      "id            17500 non-null object\n",
      "has_cactus    17500 non-null int64\n",
      "dtypes: int64(1), object(1)\n",
      "memory usage: 273.5+ KB\n"
     ]
    }
   ],
   "source": [
    "train_df.info()"
   ]
  },
  {
   "cell_type": "code",
   "execution_count": 8,
   "metadata": {},
   "outputs": [
    {
     "data": {
      "text/html": [
       "<div>\n",
       "<style>\n",
       "    .dataframe thead tr:only-child th {\n",
       "        text-align: right;\n",
       "    }\n",
       "\n",
       "    .dataframe thead th {\n",
       "        text-align: left;\n",
       "    }\n",
       "\n",
       "    .dataframe tbody tr th {\n",
       "        vertical-align: top;\n",
       "    }\n",
       "</style>\n",
       "<table border=\"1\" class=\"dataframe\">\n",
       "  <thead>\n",
       "    <tr style=\"text-align: right;\">\n",
       "      <th></th>\n",
       "      <th>has_cactus</th>\n",
       "    </tr>\n",
       "  </thead>\n",
       "  <tbody>\n",
       "    <tr>\n",
       "      <th>count</th>\n",
       "      <td>17500.000000</td>\n",
       "    </tr>\n",
       "    <tr>\n",
       "      <th>mean</th>\n",
       "      <td>0.750629</td>\n",
       "    </tr>\n",
       "    <tr>\n",
       "      <th>std</th>\n",
       "      <td>0.432662</td>\n",
       "    </tr>\n",
       "    <tr>\n",
       "      <th>min</th>\n",
       "      <td>0.000000</td>\n",
       "    </tr>\n",
       "    <tr>\n",
       "      <th>25%</th>\n",
       "      <td>1.000000</td>\n",
       "    </tr>\n",
       "    <tr>\n",
       "      <th>50%</th>\n",
       "      <td>1.000000</td>\n",
       "    </tr>\n",
       "    <tr>\n",
       "      <th>75%</th>\n",
       "      <td>1.000000</td>\n",
       "    </tr>\n",
       "    <tr>\n",
       "      <th>max</th>\n",
       "      <td>1.000000</td>\n",
       "    </tr>\n",
       "  </tbody>\n",
       "</table>\n",
       "</div>"
      ],
      "text/plain": [
       "         has_cactus\n",
       "count  17500.000000\n",
       "mean       0.750629\n",
       "std        0.432662\n",
       "min        0.000000\n",
       "25%        1.000000\n",
       "50%        1.000000\n",
       "75%        1.000000\n",
       "max        1.000000"
      ]
     },
     "execution_count": 8,
     "metadata": {},
     "output_type": "execute_result"
    }
   ],
   "source": [
    "train_df.describe()"
   ]
  },
  {
   "cell_type": "code",
   "execution_count": 9,
   "metadata": {},
   "outputs": [
    {
     "data": {
      "text/plain": [
       "1    13136\n",
       "0     4364\n",
       "Name: has_cactus, dtype: int64"
      ]
     },
     "execution_count": 9,
     "metadata": {},
     "output_type": "execute_result"
    }
   ],
   "source": [
    "train_df['has_cactus'].value_counts()"
   ]
  },
  {
   "cell_type": "code",
   "execution_count": 10,
   "metadata": {},
   "outputs": [
    {
     "data": {
      "text/plain": [
       "array([[<matplotlib.axes._subplots.AxesSubplot object at 0xb29175a20>]],\n",
       "      dtype=object)"
      ]
     },
     "execution_count": 10,
     "metadata": {},
     "output_type": "execute_result"
    },
    {
     "data": {
      "image/png": "[encoded data removed]",
      "text/plain": [
       "<matplotlib.figure.Figure at 0xb29175390>"
      ]
     },
     "metadata": {},
     "output_type": "display_data"
    }
   ],
   "source": [
    "train_df.hist()"
   ]
  },
  {
   "cell_type": "code",
   "execution_count": 11,
   "metadata": {},
   "outputs": [
    {
     "name": "stdout",
     "output_type": "stream",
     "text": [
      "Number of rows in submission/test set: 4000\n"
     ]
    }
   ],
   "source": [
    "print(\"Number of rows in submission/test set: %d\"%(len(submission_df)))"
   ]
  },
  {
   "cell_type": "code",
   "execution_count": 12,
   "metadata": {
    "collapsed": true
   },
   "outputs": [],
   "source": [
    "train_dir = \"input/train\"  # \"../input/train/train/\" for kernel submission"
   ]
  },
  {
   "cell_type": "code",
   "execution_count": 13,
   "metadata": {},
   "outputs": [
    {
     "data": {
      "image/jpeg": "[encoded data removed]",
      "text/plain": [
       "<IPython.core.display.Image object>"
      ]
     },
     "metadata": {
      "image/jpeg": {
       "height": 200,
       "width": 200
      }
     },
     "output_type": "display_data"
    }
   ],
   "source": [
    "im = Image(os.path.join(train_dir,train_df.iloc[0,0]), height=200, width=200)\n",
    "display(im)"
   ]
  },
  {
   "cell_type": "code",
   "execution_count": 14,
   "metadata": {},
   "outputs": [
    {
     "data": {
      "text/plain": [
       "(32, 32, 3)"
      ]
     },
     "execution_count": 14,
     "metadata": {},
     "output_type": "execute_result"
    }
   ],
   "source": [
    "image = plt.imread(os.path.join(train_dir,train_df.iloc[0,0]))\n",
    "image.shape"
   ]
  },
  {
   "cell_type": "code",
   "execution_count": 15,
   "metadata": {
    "collapsed": true
   },
   "outputs": [],
   "source": [
    "def grid_display(list_of_images, list_of_titles=[], no_of_columns=2, figsize=(10,10)):\n",
    "\n",
    "    fig = plt.figure(figsize=figsize)\n",
    "    column = 0\n",
    "    for i in range(len(list_of_images)):\n",
    "        column += 1\n",
    "        #  check for end of column and create a new figure\n",
    "        if column == no_of_columns+1:\n",
    "            fig = plt.figure(figsize=figsize)\n",
    "            column = 1\n",
    "        fig.add_subplot(1, no_of_columns, column)\n",
    "        plt.imshow(list_of_images[i])\n",
    "        plt.axis('off')\n",
    "        if len(list_of_titles) >= len(list_of_images):\n",
    "            plt.title(list_of_titles[i])"
   ]
  },
  {
   "cell_type": "code",
   "execution_count": 25,
   "metadata": {},
   "outputs": [
    {
     "data": {
      "image/png": "[encoded data removed]",
      "text/plain": [
       "<matplotlib.figure.Figure at 0xb2c663518>"
      ]
     },
     "metadata": {},
     "output_type": "display_data"
    },
    {
     "data": {
      "image/png": "[encoded data removed]",
      "text/plain": [
       "<matplotlib.figure.Figure at 0xb2beb8b00>"
      ]
     },
     "metadata": {},
     "output_type": "display_data"
    },
    {
     "data": {
      "image/png": "[encoded data removed]",
      "text/plain": [
       "<matplotlib.figure.Figure at 0xb29370400>"
      ]
     },
     "metadata": {},
     "output_type": "display_data"
    }
   ],
   "source": [
    "list_of_images = []\n",
    "list_of_titles = []\n",
    "\n",
    "for i in range(21):\n",
    "    list_of_images.append(plt.imread(os.path.join(train_dir,train_df.iloc[i,0])))\n",
    "    list_of_titles.append('is a cactus: {}'.format(train_df.iloc[i,1]))\n",
    "\n",
    "grid_display(list_of_images, list_of_titles, no_of_columns= 7, figsize = (15,15))"
   ]
  },
  {
   "cell_type": "markdown",
   "metadata": {},
   "source": [
    "### Generating train and validation sets"
   ]
  },
  {
   "cell_type": "code",
   "execution_count": 26,
   "metadata": {
    "collapsed": true
   },
   "outputs": [],
   "source": [
    "from keras.preprocessing.image import ImageDataGenerator"
   ]
  },
  {
   "cell_type": "code",
   "execution_count": 45,
   "metadata": {
    "collapsed": true
   },
   "outputs": [],
   "source": [
    "datagen = ImageDataGenerator(rescale=1./255,validation_split=0.2,shear_range=0.2,zoom_range=0.2,horizontal_flip=True)"
   ]
  },
  {
   "cell_type": "code",
   "execution_count": 46,
   "metadata": {},
   "outputs": [
    {
     "name": "stdout",
     "output_type": "stream",
     "text": [
      "size train: 14000.0, size validation: 3500.0\n"
     ]
    }
   ],
   "source": [
    "print('size train: {}, size validation: {}'.format(17500*0.8, 17500*0.2))"
   ]
  },
  {
   "cell_type": "code",
   "execution_count": 35,
   "metadata": {
    "collapsed": true
   },
   "outputs": [],
   "source": [
    "train_df.has_cactus=train_df.has_cactus.astype(str)"
   ]
  },
  {
   "cell_type": "code",
   "execution_count": 47,
   "metadata": {},
   "outputs": [
    {
     "name": "stdout",
     "output_type": "stream",
     "text": [
      "Found 14000 images belonging to 2 classes.\n",
      "Found 3500 images belonging to 2 classes.\n"
     ]
    }
   ],
   "source": [
    "train_generator = datagen.flow_from_dataframe(dataframe=train_df, directory=train_dir, subset='training', \n",
    "                                              x_col='id', y_col='has_cactus', class_mode='binary', \n",
    "                                              batch_size= 140, target_size=(32,32))\n",
    "\n",
    "\n",
    "validation_generator = datagen.flow_from_dataframe(dataframe=train_df, directory=train_dir, subset='validation', \n",
    "                                                   x_col='id', y_col='has_cactus', class_mode='binary', \n",
    "                                                   batch_size= 35, target_size=(32,32))"
   ]
  },
  {
   "cell_type": "markdown",
   "metadata": {},
   "source": [
    "### CNN model"
   ]
  },
  {
   "cell_type": "code",
   "execution_count": 49,
   "metadata": {
    "collapsed": true
   },
   "outputs": [],
   "source": [
    "from keras.models import Sequential\n",
    "from keras.layers import Convolution2D,Dense,Flatten,Dropout,MaxPool2D"
   ]
  },
  {
   "cell_type": "code",
   "execution_count": 50,
   "metadata": {
    "collapsed": true
   },
   "outputs": [],
   "source": [
    "model = Sequential()"
   ]
  },
  {
   "cell_type": "code",
   "execution_count": 51,
   "metadata": {},
   "outputs": [],
   "source": [
    "model.add(Convolution2D(32, (3,3), activation='relu', input_shape=(32,32,3)))\n",
    "model.add(Convolution2D(32, (3,3), activation='relu'))\n",
    "model.add(MaxPool2D(2,2))\n",
    "model.add(Convolution2D(64, (3,3), activation='relu'))\n",
    "model.add(Convolution2D(64, (3,3), activation='relu'))\n",
    "model.add(MaxPool2D(2,2))\n",
    "model.add(Convolution2D(128, (3,3), activation='relu'))\n",
    "model.add(MaxPool2D(2,2))\n",
    "model.add(Flatten())\n",
    "model.add(Dense(512, activation='relu'))\n",
    "model.add(Dropout(0.2))\n",
    "model.add(Dense(1, activation='sigmoid'))"
   ]
  },
  {
   "cell_type": "code",
   "execution_count": 52,
   "metadata": {},
   "outputs": [
    {
     "name": "stdout",
     "output_type": "stream",
     "text": [
      "_________________________________________________________________\n",
      "Layer (type)                 Output Shape              Param #   \n",
      "=================================================================\n",
      "conv2d_7 (Conv2D)            (None, 30, 30, 32)        896       \n",
      "_________________________________________________________________\n",
      "conv2d_8 (Conv2D)            (None, 28, 28, 32)        9248      \n",
      "_________________________________________________________________\n",
      "max_pooling2d_4 (MaxPooling2 (None, 14, 14, 32)        0         \n",
      "_________________________________________________________________\n",
      "conv2d_9 (Conv2D)            (None, 12, 12, 64)        18496     \n",
      "_________________________________________________________________\n",
      "conv2d_10 (Conv2D)           (None, 10, 10, 64)        36928     \n",
      "_________________________________________________________________\n",
      "max_pooling2d_5 (MaxPooling2 (None, 5, 5, 64)          0         \n",
      "_________________________________________________________________\n",
      "conv2d_11 (Conv2D)           (None, 3, 3, 128)         73856     \n",
      "_________________________________________________________________\n",
      "max_pooling2d_6 (MaxPooling2 (None, 1, 1, 128)         0         \n",
      "_________________________________________________________________\n",
      "flatten_2 (Flatten)          (None, 128)               0         \n",
      "_________________________________________________________________\n",
      "dense_3 (Dense)              (None, 512)               66048     \n",
      "_________________________________________________________________\n",
      "dropout_2 (Dropout)          (None, 512)               0         \n",
      "_________________________________________________________________\n",
      "dense_4 (Dense)              (None, 1)                 513       \n",
      "=================================================================\n",
      "Total params: 205,985\n",
      "Trainable params: 205,985\n",
      "Non-trainable params: 0\n",
      "_________________________________________________________________\n"
     ]
    }
   ],
   "source": [
    "model.summary()"
   ]
  },
  {
   "cell_type": "code",
   "execution_count": 53,
   "metadata": {
    "collapsed": true
   },
   "outputs": [],
   "source": [
    "model.compile(optimizer='adam', loss='binary_crossentropy', metrics=['accuracy'])"
   ]
  },
  {
   "cell_type": "code",
   "execution_count": 54,
   "metadata": {},
   "outputs": [
    {
     "name": "stdout",
     "output_type": "stream",
     "text": [
      "Epoch 1/40\n",
      "100/100 [==============================] - 52s 524ms/step - loss: 0.3546 - acc: 0.8482 - val_loss: 0.1895 - val_acc: 0.9334\n",
      "Epoch 2/40\n",
      "100/100 [==============================] - 58s 578ms/step - loss: 0.1536 - acc: 0.9423 - val_loss: 0.1336 - val_acc: 0.9537\n",
      "Epoch 3/40\n",
      "100/100 [==============================] - 54s 540ms/step - loss: 0.1214 - acc: 0.9548 - val_loss: 0.1047 - val_acc: 0.9649\n",
      "Epoch 4/40\n",
      "100/100 [==============================] - 50s 498ms/step - loss: 0.1075 - acc: 0.9589 - val_loss: 0.0893 - val_acc: 0.9666\n",
      "Epoch 5/40\n",
      "100/100 [==============================] - 51s 514ms/step - loss: 0.0845 - acc: 0.9689 - val_loss: 0.0950 - val_acc: 0.9669\n",
      "Epoch 6/40\n",
      "100/100 [==============================] - 62s 625ms/step - loss: 0.0778 - acc: 0.9716 - val_loss: 0.0753 - val_acc: 0.9731\n",
      "Epoch 7/40\n",
      "100/100 [==============================] - 49s 492ms/step - loss: 0.0689 - acc: 0.9745 - val_loss: 0.0910 - val_acc: 0.9663\n",
      "Epoch 8/40\n",
      "100/100 [==============================] - 48s 479ms/step - loss: 0.0544 - acc: 0.9796 - val_loss: 0.0560 - val_acc: 0.9809\n",
      "Epoch 9/40\n",
      "100/100 [==============================] - 48s 478ms/step - loss: 0.0454 - acc: 0.9835 - val_loss: 0.0600 - val_acc: 0.9763\n",
      "Epoch 10/40\n",
      "100/100 [==============================] - 53s 531ms/step - loss: 0.0527 - acc: 0.9805 - val_loss: 0.1115 - val_acc: 0.9577\n",
      "Epoch 11/40\n",
      "100/100 [==============================] - 47s 474ms/step - loss: 0.0550 - acc: 0.9803 - val_loss: 0.0606 - val_acc: 0.9749\n",
      "Epoch 12/40\n",
      "100/100 [==============================] - 48s 482ms/step - loss: 0.0395 - acc: 0.9861 - val_loss: 0.0704 - val_acc: 0.9757\n",
      "Epoch 13/40\n",
      "100/100 [==============================] - 51s 508ms/step - loss: 0.0452 - acc: 0.9836 - val_loss: 0.0464 - val_acc: 0.9820\n",
      "Epoch 14/40\n",
      "100/100 [==============================] - 50s 496ms/step - loss: 0.0409 - acc: 0.9857 - val_loss: 0.0488 - val_acc: 0.9817\n",
      "Epoch 15/40\n",
      "100/100 [==============================] - 50s 496ms/step - loss: 0.0369 - acc: 0.9858 - val_loss: 0.0353 - val_acc: 0.9869\n",
      "Epoch 16/40\n",
      "100/100 [==============================] - 48s 482ms/step - loss: 0.0377 - acc: 0.9863 - val_loss: 0.0420 - val_acc: 0.9829\n",
      "Epoch 17/40\n",
      "100/100 [==============================] - 48s 476ms/step - loss: 0.0480 - acc: 0.9824 - val_loss: 0.0441 - val_acc: 0.9829\n",
      "Epoch 18/40\n",
      "100/100 [==============================] - 50s 503ms/step - loss: 0.0346 - acc: 0.9866 - val_loss: 0.0388 - val_acc: 0.9869\n",
      "Epoch 19/40\n",
      "100/100 [==============================] - 53s 529ms/step - loss: 0.0408 - acc: 0.9851 - val_loss: 0.0413 - val_acc: 0.9851\n",
      "Epoch 20/40\n",
      "100/100 [==============================] - 55s 545ms/step - loss: 0.0267 - acc: 0.9901 - val_loss: 0.0486 - val_acc: 0.9817\n",
      "Epoch 21/40\n",
      "100/100 [==============================] - 58s 579ms/step - loss: 0.0327 - acc: 0.9883 - val_loss: 0.0839 - val_acc: 0.9666\n",
      "Epoch 22/40\n",
      "100/100 [==============================] - 62s 618ms/step - loss: 0.0276 - acc: 0.9895 - val_loss: 0.0419 - val_acc: 0.9849\n",
      "Epoch 23/40\n",
      "100/100 [==============================] - 68s 680ms/step - loss: 0.0254 - acc: 0.9918 - val_loss: 0.0443 - val_acc: 0.9817\n",
      "Epoch 24/40\n",
      "100/100 [==============================] - 69s 690ms/step - loss: 0.0323 - acc: 0.9882 - val_loss: 0.0430 - val_acc: 0.9854\n",
      "Epoch 25/40\n",
      "100/100 [==============================] - 60s 597ms/step - loss: 0.0320 - acc: 0.9882 - val_loss: 0.0374 - val_acc: 0.9860\n",
      "Epoch 26/40\n",
      "100/100 [==============================] - 49s 493ms/step - loss: 0.0339 - acc: 0.9876 - val_loss: 0.0481 - val_acc: 0.9834\n",
      "Epoch 27/40\n",
      "100/100 [==============================] - 51s 510ms/step - loss: 0.0240 - acc: 0.9908 - val_loss: 0.0301 - val_acc: 0.9889\n",
      "Epoch 28/40\n",
      "100/100 [==============================] - 51s 507ms/step - loss: 0.0216 - acc: 0.9921 - val_loss: 0.0483 - val_acc: 0.9840\n",
      "Epoch 29/40\n",
      "100/100 [==============================] - 49s 492ms/step - loss: 0.0200 - acc: 0.9926 - val_loss: 0.0348 - val_acc: 0.9883\n",
      "Epoch 30/40\n",
      "100/100 [==============================] - 51s 508ms/step - loss: 0.0241 - acc: 0.9909 - val_loss: 0.0359 - val_acc: 0.9874\n",
      "Epoch 31/40\n",
      "100/100 [==============================] - 49s 490ms/step - loss: 0.0172 - acc: 0.9936 - val_loss: 0.0415 - val_acc: 0.9860\n",
      "Epoch 32/40\n",
      "100/100 [==============================] - 50s 500ms/step - loss: 0.0192 - acc: 0.9931 - val_loss: 0.0431 - val_acc: 0.9854\n",
      "Epoch 33/40\n",
      "100/100 [==============================] - 50s 496ms/step - loss: 0.0337 - acc: 0.9880 - val_loss: 0.0395 - val_acc: 0.9860\n",
      "Epoch 34/40\n",
      "100/100 [==============================] - 49s 493ms/step - loss: 0.0223 - acc: 0.9916 - val_loss: 0.0324 - val_acc: 0.9906\n",
      "Epoch 35/40\n",
      "100/100 [==============================] - 50s 496ms/step - loss: 0.0180 - acc: 0.9936 - val_loss: 0.0326 - val_acc: 0.9889\n",
      "Epoch 36/40\n",
      "100/100 [==============================] - 49s 493ms/step - loss: 0.0155 - acc: 0.9945 - val_loss: 0.0418 - val_acc: 0.9860\n",
      "Epoch 37/40\n",
      "100/100 [==============================] - 49s 495ms/step - loss: 0.0190 - acc: 0.9929 - val_loss: 0.0378 - val_acc: 0.9877\n",
      "Epoch 38/40\n",
      "100/100 [==============================] - 49s 489ms/step - loss: 0.0222 - acc: 0.9919 - val_loss: 0.0379 - val_acc: 0.9877\n",
      "Epoch 39/40\n",
      "100/100 [==============================] - 49s 489ms/step - loss: 0.0205 - acc: 0.9925 - val_loss: 0.0559 - val_acc: 0.9809\n",
      "Epoch 40/40\n",
      "100/100 [==============================] - 49s 493ms/step - loss: 0.0238 - acc: 0.9918 - val_loss: 0.0416 - val_acc: 0.9851\n"
     ]
    }
   ],
   "source": [
    "history = model.fit_generator(train_generator, steps_per_epoch=100, epochs=40, \n",
    "                              validation_data=validation_generator, validation_steps=100)"
   ]
  },
  {
   "cell_type": "markdown",
   "metadata": {},
   "source": [
    "### Learning Curves"
   ]
  },
  {
   "cell_type": "code",
   "execution_count": 60,
   "metadata": {
    "collapsed": true
   },
   "outputs": [],
   "source": [
    "def plot_LC(history):\n",
    "    loss=history.history['loss']    ##getting  loss of each epochs\n",
    "    n_epochs = len(loss)\n",
    "    epochs_=range(0,n_epochs)\n",
    "    plt.plot(epochs_,loss,label='training loss')\n",
    "    plt.xlabel('No of epochs')\n",
    "    plt.ylabel('loss')\n",
    "\n",
    "    acc_val=history.history['val_loss']  ## getting validation loss of each epochs\n",
    "    plt.scatter(epochs_,acc_val,label=\"validation loss\")\n",
    "    plt.title('No of epochs vs loss')\n",
    "    plt.legend()\n",
    "    plt.show()"
   ]
  },
  {
   "cell_type": "code",
   "execution_count": 61,
   "metadata": {
    "collapsed": true
   },
   "outputs": [],
   "source": [
    "def plot_acc(history):\n",
    "    acc=history.history['acc']  ##getting  accuracy of each epochs\n",
    "    n_epochs = len(acc)\n",
    "    epochs_=range(0,n_epochs)    \n",
    "    plt.plot(epochs_,acc,label='training accuracy')\n",
    "    plt.xlabel('No of epochs')\n",
    "    plt.ylabel('accuracy')\n",
    "\n",
    "    acc_val=history.history['val_acc']  ##getting validation accuracy of each epochs\n",
    "    plt.scatter(epochs_,acc_val,label=\"validation accuracy\")\n",
    "    plt.title(\"No of epochs vs accuracy\")\n",
    "    plt.legend()\n",
    "    plt.show()"
   ]
  },
  {
   "cell_type": "code",
   "execution_count": 62,
   "metadata": {},
   "outputs": [
    {
     "data": {
      "image/png": "[encoded data removed]",
      "text/plain": [
       "<matplotlib.figure.Figure at 0x10648b198>"
      ]
     },
     "metadata": {},
     "output_type": "display_data"
    }
   ],
   "source": [
    "plot_LC(history)"
   ]
  },
  {
   "cell_type": "code",
   "execution_count": 63,
   "metadata": {},
   "outputs": [
    {
     "data": {
      "image/png": "[encoded data removed]",
      "text/plain": [
       "<matplotlib.figure.Figure at 0xb2bf54e80>"
      ]
     },
     "metadata": {},
     "output_type": "display_data"
    }
   ],
   "source": [
    "plot_acc(history)"
   ]
  },
  {
   "cell_type": "markdown",
   "metadata": {},
   "source": [
    "### Predictions and submission"
   ]
  },
  {
   "cell_type": "code",
   "execution_count": 65,
   "metadata": {},
   "outputs": [
    {
     "name": "stderr",
     "output_type": "stream",
     "text": [
      "100%|██████████| 4000/4000 [00:26<00:00, 148.96it/s]\n"
     ]
    }
   ],
   "source": [
    "from tqdm import tqdm\n",
    "\n",
    "test_path = 'input/test/'  # \"../input/test/test/\" for kernel submission\n",
    "test_images_names = []\n",
    "\n",
    "for filename in os.listdir(test_path):\n",
    "    test_images_names.append(filename)\n",
    "\n",
    "test_images_names.sort()\n",
    "\n",
    "images_test = []\n",
    "\n",
    "for image_id in tqdm(test_images_names):\n",
    "    images_test.append(np.array(plt.imread(test_path + image_id)))\n",
    "    \n",
    "images_test = np.asarray(images_test)\n",
    "images_test = images_test.astype('float32')\n",
    "images_test /= 255"
   ]
  },
  {
   "cell_type": "code",
   "execution_count": 86,
   "metadata": {
    "collapsed": true
   },
   "outputs": [],
   "source": [
    "predict_proba = model.predict(images_test).reshape(-1)"
   ]
  },
  {
   "cell_type": "code",
   "execution_count": 87,
   "metadata": {},
   "outputs": [
    {
     "data": {
      "text/plain": [
       "array([9.9999988e-01, 1.0000000e+00, 8.1351079e-04, 6.2477356e-04,\n",
       "       9.9976832e-01], dtype=float32)"
      ]
     },
     "execution_count": 87,
     "metadata": {},
     "output_type": "execute_result"
    }
   ],
   "source": [
    "predict_proba[:5]"
   ]
  },
  {
   "cell_type": "code",
   "execution_count": 88,
   "metadata": {},
   "outputs": [
    {
     "name": "stderr",
     "output_type": "stream",
     "text": [
      "100%|██████████| 4000/4000 [00:00<00:00, 215100.79it/s]\n"
     ]
    }
   ],
   "source": [
    "predict = []\n",
    "for i in tqdm(range(len(predict_proba))):\n",
    "    if predict_proba[i]>0.5:\n",
    "        answer = 1\n",
    "    else:\n",
    "        answer = 0\n",
    "    predict.append(answer)"
   ]
  },
  {
   "cell_type": "code",
   "execution_count": 89,
   "metadata": {},
   "outputs": [
    {
     "data": {
      "text/plain": [
       "[1, 1, 0, 0, 1]"
      ]
     },
     "execution_count": 89,
     "metadata": {},
     "output_type": "execute_result"
    }
   ],
   "source": [
    "predict[:5]"
   ]
  },
  {
   "cell_type": "code",
   "execution_count": 90,
   "metadata": {
    "collapsed": true
   },
   "outputs": [],
   "source": [
    "submission_df['has_cactus'] = predict_proba\n",
    "submission_df.to_csv('submission_cnn_01.csv',index = False)"
   ]
  },
  {
   "cell_type": "code",
   "execution_count": null,
   "metadata": {
    "collapsed": true
   },
   "outputs": [],
   "source": []
  }
 ],
 "metadata": {
  "kernelspec": {
   "display_name": "Python 3",
   "language": "python",
   "name": "python3"
  },
  "language_info": {
   "codemirror_mode": {
    "name": "ipython",
    "version": 3
   },
   "file_extension": ".py",
   "mimetype": "text/x-python",
   "name": "python",
   "nbconvert_exporter": "python",
   "pygments_lexer": "ipython3",
   "version": "3.6.8"
  }
 },
 "nbformat": 4,
 "nbformat_minor": 2
}
